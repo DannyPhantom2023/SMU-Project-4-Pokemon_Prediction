{
 "cells": [
  {
   "cell_type": "code",
   "execution_count": 2,
   "id": "f2b19659",
   "metadata": {
    "ExecuteTime": {
     "start_time": "2023-09-12T13:23:35.545209Z",
     "end_time": "2023-09-12T13:23:35.631289Z"
    }
   },
   "outputs": [],
   "source": [
    "import pandas as pd\n",
    "pd.set_option('display.max_columns',None)\n",
    "import matplotlib.pyplot as plt\n",
    "import seaborn as sns\n",
    "pd.set_option(\"display.max_rows\", None)\n",
    "import numpy as np\n",
    "from random import sample\n",
    "from datetime import datetime\n",
    "import warnings\n",
    "warnings.filterwarnings(\"ignore\")\n",
    "from pandas.api.types import CategoricalDtype\n",
    "import json\n",
    "import ast"
   ]
  },
  {
   "cell_type": "code",
   "execution_count": 3,
   "id": "baa274b6",
   "metadata": {
    "ExecuteTime": {
     "start_time": "2023-09-12T13:23:35.548211Z",
     "end_time": "2023-09-12T13:23:35.703354Z"
    }
   },
   "outputs": [],
   "source": [
    "df = pd.read_csv(\"Data/pokemon.csv\")"
   ]
  },
  {
   "cell_type": "code",
   "execution_count": 4,
   "id": "652a35c3",
   "metadata": {
    "ExecuteTime": {
     "start_time": "2023-09-12T13:23:35.564228Z",
     "end_time": "2023-09-12T13:23:35.703354Z"
    }
   },
   "outputs": [
    {
     "data": {
      "text/plain": "                     abilities  against_bug  against_dark  against_dragon  \\\n0  ['Overgrow', 'Chlorophyll']          1.0           1.0             1.0   \n1  ['Overgrow', 'Chlorophyll']          1.0           1.0             1.0   \n2  ['Overgrow', 'Chlorophyll']          1.0           1.0             1.0   \n3     ['Blaze', 'Solar Power']          0.5           1.0             1.0   \n4     ['Blaze', 'Solar Power']          0.5           1.0             1.0   \n\n   against_electric  against_fairy  against_fight  against_fire  \\\n0               0.5            0.5            0.5           2.0   \n1               0.5            0.5            0.5           2.0   \n2               0.5            0.5            0.5           2.0   \n3               1.0            0.5            1.0           0.5   \n4               1.0            0.5            1.0           0.5   \n\n   against_flying  against_ghost  against_grass  against_ground  against_ice  \\\n0             2.0            1.0           0.25             1.0          2.0   \n1             2.0            1.0           0.25             1.0          2.0   \n2             2.0            1.0           0.25             1.0          2.0   \n3             1.0            1.0           0.50             2.0          0.5   \n4             1.0            1.0           0.50             2.0          0.5   \n\n   against_normal  against_poison  against_psychic  against_rock  \\\n0             1.0             1.0              2.0           1.0   \n1             1.0             1.0              2.0           1.0   \n2             1.0             1.0              2.0           1.0   \n3             1.0             1.0              1.0           2.0   \n4             1.0             1.0              1.0           2.0   \n\n   against_steel  against_water  attack  base_egg_steps  base_happiness  \\\n0            1.0            0.5      49            5120              70   \n1            1.0            0.5      62            5120              70   \n2            1.0            0.5     100            5120              70   \n3            0.5            2.0      52            5120              70   \n4            0.5            2.0      64            5120              70   \n\n   base_total capture_rate   classfication  defense  experience_growth  \\\n0         318           45    Seed Pokémon       49            1059860   \n1         405           45    Seed Pokémon       63            1059860   \n2         625           45    Seed Pokémon      123            1059860   \n3         309           45  Lizard Pokémon       43            1059860   \n4         405           45   Flame Pokémon       58            1059860   \n\n   height_m  hp     japanese_name        name  percentage_male  \\\n0       0.7  45  Fushigidaneフシギダネ   Bulbasaur             88.1   \n1       1.0  60   Fushigisouフシギソウ     Ivysaur             88.1   \n2       2.0  80  Fushigibanaフシギバナ    Venusaur             88.1   \n3       0.6  39      Hitokageヒトカゲ  Charmander             88.1   \n4       1.1  58       Lizardoリザード  Charmeleon             88.1   \n\n   pokedex_number  sp_attack  sp_defense  speed  type1   type2  weight_kg  \\\n0               1         65          65     45  grass  poison        6.9   \n1               2         80          80     60  grass  poison       13.0   \n2               3        122         120     80  grass  poison      100.0   \n3               4         60          50     65   fire     NaN        8.5   \n4               5         80          65     80   fire     NaN       19.0   \n\n   generation  is_legendary  \n0           1             0  \n1           1             0  \n2           1             0  \n3           1             0  \n4           1             0  ",
      "text/html": "<div>\n<style scoped>\n    .dataframe tbody tr th:only-of-type {\n        vertical-align: middle;\n    }\n\n    .dataframe tbody tr th {\n        vertical-align: top;\n    }\n\n    .dataframe thead th {\n        text-align: right;\n    }\n</style>\n<table border=\"1\" class=\"dataframe\">\n  <thead>\n    <tr style=\"text-align: right;\">\n      <th></th>\n      <th>abilities</th>\n      <th>against_bug</th>\n      <th>against_dark</th>\n      <th>against_dragon</th>\n      <th>against_electric</th>\n      <th>against_fairy</th>\n      <th>against_fight</th>\n      <th>against_fire</th>\n      <th>against_flying</th>\n      <th>against_ghost</th>\n      <th>against_grass</th>\n      <th>against_ground</th>\n      <th>against_ice</th>\n      <th>against_normal</th>\n      <th>against_poison</th>\n      <th>against_psychic</th>\n      <th>against_rock</th>\n      <th>against_steel</th>\n      <th>against_water</th>\n      <th>attack</th>\n      <th>base_egg_steps</th>\n      <th>base_happiness</th>\n      <th>base_total</th>\n      <th>capture_rate</th>\n      <th>classfication</th>\n      <th>defense</th>\n      <th>experience_growth</th>\n      <th>height_m</th>\n      <th>hp</th>\n      <th>japanese_name</th>\n      <th>name</th>\n      <th>percentage_male</th>\n      <th>pokedex_number</th>\n      <th>sp_attack</th>\n      <th>sp_defense</th>\n      <th>speed</th>\n      <th>type1</th>\n      <th>type2</th>\n      <th>weight_kg</th>\n      <th>generation</th>\n      <th>is_legendary</th>\n    </tr>\n  </thead>\n  <tbody>\n    <tr>\n      <th>0</th>\n      <td>['Overgrow', 'Chlorophyll']</td>\n      <td>1.0</td>\n      <td>1.0</td>\n      <td>1.0</td>\n      <td>0.5</td>\n      <td>0.5</td>\n      <td>0.5</td>\n      <td>2.0</td>\n      <td>2.0</td>\n      <td>1.0</td>\n      <td>0.25</td>\n      <td>1.0</td>\n      <td>2.0</td>\n      <td>1.0</td>\n      <td>1.0</td>\n      <td>2.0</td>\n      <td>1.0</td>\n      <td>1.0</td>\n      <td>0.5</td>\n      <td>49</td>\n      <td>5120</td>\n      <td>70</td>\n      <td>318</td>\n      <td>45</td>\n      <td>Seed Pokémon</td>\n      <td>49</td>\n      <td>1059860</td>\n      <td>0.7</td>\n      <td>45</td>\n      <td>Fushigidaneフシギダネ</td>\n      <td>Bulbasaur</td>\n      <td>88.1</td>\n      <td>1</td>\n      <td>65</td>\n      <td>65</td>\n      <td>45</td>\n      <td>grass</td>\n      <td>poison</td>\n      <td>6.9</td>\n      <td>1</td>\n      <td>0</td>\n    </tr>\n    <tr>\n      <th>1</th>\n      <td>['Overgrow', 'Chlorophyll']</td>\n      <td>1.0</td>\n      <td>1.0</td>\n      <td>1.0</td>\n      <td>0.5</td>\n      <td>0.5</td>\n      <td>0.5</td>\n      <td>2.0</td>\n      <td>2.0</td>\n      <td>1.0</td>\n      <td>0.25</td>\n      <td>1.0</td>\n      <td>2.0</td>\n      <td>1.0</td>\n      <td>1.0</td>\n      <td>2.0</td>\n      <td>1.0</td>\n      <td>1.0</td>\n      <td>0.5</td>\n      <td>62</td>\n      <td>5120</td>\n      <td>70</td>\n      <td>405</td>\n      <td>45</td>\n      <td>Seed Pokémon</td>\n      <td>63</td>\n      <td>1059860</td>\n      <td>1.0</td>\n      <td>60</td>\n      <td>Fushigisouフシギソウ</td>\n      <td>Ivysaur</td>\n      <td>88.1</td>\n      <td>2</td>\n      <td>80</td>\n      <td>80</td>\n      <td>60</td>\n      <td>grass</td>\n      <td>poison</td>\n      <td>13.0</td>\n      <td>1</td>\n      <td>0</td>\n    </tr>\n    <tr>\n      <th>2</th>\n      <td>['Overgrow', 'Chlorophyll']</td>\n      <td>1.0</td>\n      <td>1.0</td>\n      <td>1.0</td>\n      <td>0.5</td>\n      <td>0.5</td>\n      <td>0.5</td>\n      <td>2.0</td>\n      <td>2.0</td>\n      <td>1.0</td>\n      <td>0.25</td>\n      <td>1.0</td>\n      <td>2.0</td>\n      <td>1.0</td>\n      <td>1.0</td>\n      <td>2.0</td>\n      <td>1.0</td>\n      <td>1.0</td>\n      <td>0.5</td>\n      <td>100</td>\n      <td>5120</td>\n      <td>70</td>\n      <td>625</td>\n      <td>45</td>\n      <td>Seed Pokémon</td>\n      <td>123</td>\n      <td>1059860</td>\n      <td>2.0</td>\n      <td>80</td>\n      <td>Fushigibanaフシギバナ</td>\n      <td>Venusaur</td>\n      <td>88.1</td>\n      <td>3</td>\n      <td>122</td>\n      <td>120</td>\n      <td>80</td>\n      <td>grass</td>\n      <td>poison</td>\n      <td>100.0</td>\n      <td>1</td>\n      <td>0</td>\n    </tr>\n    <tr>\n      <th>3</th>\n      <td>['Blaze', 'Solar Power']</td>\n      <td>0.5</td>\n      <td>1.0</td>\n      <td>1.0</td>\n      <td>1.0</td>\n      <td>0.5</td>\n      <td>1.0</td>\n      <td>0.5</td>\n      <td>1.0</td>\n      <td>1.0</td>\n      <td>0.50</td>\n      <td>2.0</td>\n      <td>0.5</td>\n      <td>1.0</td>\n      <td>1.0</td>\n      <td>1.0</td>\n      <td>2.0</td>\n      <td>0.5</td>\n      <td>2.0</td>\n      <td>52</td>\n      <td>5120</td>\n      <td>70</td>\n      <td>309</td>\n      <td>45</td>\n      <td>Lizard Pokémon</td>\n      <td>43</td>\n      <td>1059860</td>\n      <td>0.6</td>\n      <td>39</td>\n      <td>Hitokageヒトカゲ</td>\n      <td>Charmander</td>\n      <td>88.1</td>\n      <td>4</td>\n      <td>60</td>\n      <td>50</td>\n      <td>65</td>\n      <td>fire</td>\n      <td>NaN</td>\n      <td>8.5</td>\n      <td>1</td>\n      <td>0</td>\n    </tr>\n    <tr>\n      <th>4</th>\n      <td>['Blaze', 'Solar Power']</td>\n      <td>0.5</td>\n      <td>1.0</td>\n      <td>1.0</td>\n      <td>1.0</td>\n      <td>0.5</td>\n      <td>1.0</td>\n      <td>0.5</td>\n      <td>1.0</td>\n      <td>1.0</td>\n      <td>0.50</td>\n      <td>2.0</td>\n      <td>0.5</td>\n      <td>1.0</td>\n      <td>1.0</td>\n      <td>1.0</td>\n      <td>2.0</td>\n      <td>0.5</td>\n      <td>2.0</td>\n      <td>64</td>\n      <td>5120</td>\n      <td>70</td>\n      <td>405</td>\n      <td>45</td>\n      <td>Flame Pokémon</td>\n      <td>58</td>\n      <td>1059860</td>\n      <td>1.1</td>\n      <td>58</td>\n      <td>Lizardoリザード</td>\n      <td>Charmeleon</td>\n      <td>88.1</td>\n      <td>5</td>\n      <td>80</td>\n      <td>65</td>\n      <td>80</td>\n      <td>fire</td>\n      <td>NaN</td>\n      <td>19.0</td>\n      <td>1</td>\n      <td>0</td>\n    </tr>\n  </tbody>\n</table>\n</div>"
     },
     "execution_count": 4,
     "metadata": {},
     "output_type": "execute_result"
    }
   ],
   "source": [
    "df.head()"
   ]
  },
  {
   "cell_type": "code",
   "execution_count": 5,
   "id": "13a88eb0",
   "metadata": {
    "ExecuteTime": {
     "start_time": "2023-09-12T13:23:35.594255Z",
     "end_time": "2023-09-12T13:23:35.703354Z"
    }
   },
   "outputs": [
    {
     "name": "stdout",
     "output_type": "stream",
     "text": [
      "<class 'pandas.core.frame.DataFrame'>\n",
      "RangeIndex: 801 entries, 0 to 800\n",
      "Data columns (total 41 columns):\n",
      " #   Column             Non-Null Count  Dtype  \n",
      "---  ------             --------------  -----  \n",
      " 0   abilities          801 non-null    object \n",
      " 1   against_bug        801 non-null    float64\n",
      " 2   against_dark       801 non-null    float64\n",
      " 3   against_dragon     801 non-null    float64\n",
      " 4   against_electric   801 non-null    float64\n",
      " 5   against_fairy      801 non-null    float64\n",
      " 6   against_fight      801 non-null    float64\n",
      " 7   against_fire       801 non-null    float64\n",
      " 8   against_flying     801 non-null    float64\n",
      " 9   against_ghost      801 non-null    float64\n",
      " 10  against_grass      801 non-null    float64\n",
      " 11  against_ground     801 non-null    float64\n",
      " 12  against_ice        801 non-null    float64\n",
      " 13  against_normal     801 non-null    float64\n",
      " 14  against_poison     801 non-null    float64\n",
      " 15  against_psychic    801 non-null    float64\n",
      " 16  against_rock       801 non-null    float64\n",
      " 17  against_steel      801 non-null    float64\n",
      " 18  against_water      801 non-null    float64\n",
      " 19  attack             801 non-null    int64  \n",
      " 20  base_egg_steps     801 non-null    int64  \n",
      " 21  base_happiness     801 non-null    int64  \n",
      " 22  base_total         801 non-null    int64  \n",
      " 23  capture_rate       801 non-null    object \n",
      " 24  classfication      801 non-null    object \n",
      " 25  defense            801 non-null    int64  \n",
      " 26  experience_growth  801 non-null    int64  \n",
      " 27  height_m           781 non-null    float64\n",
      " 28  hp                 801 non-null    int64  \n",
      " 29  japanese_name      801 non-null    object \n",
      " 30  name               801 non-null    object \n",
      " 31  percentage_male    703 non-null    float64\n",
      " 32  pokedex_number     801 non-null    int64  \n",
      " 33  sp_attack          801 non-null    int64  \n",
      " 34  sp_defense         801 non-null    int64  \n",
      " 35  speed              801 non-null    int64  \n",
      " 36  type1              801 non-null    object \n",
      " 37  type2              417 non-null    object \n",
      " 38  weight_kg          781 non-null    float64\n",
      " 39  generation         801 non-null    int64  \n",
      " 40  is_legendary       801 non-null    int64  \n",
      "dtypes: float64(21), int64(13), object(7)\n",
      "memory usage: 256.7+ KB\n"
     ]
    }
   ],
   "source": [
    "df.info()"
   ]
  },
  {
   "cell_type": "code",
   "execution_count": 6,
   "id": "b2ca2ac6",
   "metadata": {
    "ExecuteTime": {
     "start_time": "2023-09-12T13:23:35.609269Z",
     "end_time": "2023-09-12T13:23:35.704355Z"
    }
   },
   "outputs": [
    {
     "data": {
      "text/plain": "Index(['abilities', 'against_bug', 'against_dark', 'against_dragon',\n       'against_electric', 'against_fairy', 'against_fight', 'against_fire',\n       'against_flying', 'against_ghost', 'against_grass', 'against_ground',\n       'against_ice', 'against_normal', 'against_poison', 'against_psychic',\n       'against_rock', 'against_steel', 'against_water', 'attack',\n       'base_egg_steps', 'base_happiness', 'base_total', 'capture_rate',\n       'classfication', 'defense', 'experience_growth', 'height_m', 'hp',\n       'japanese_name', 'name', 'percentage_male', 'pokedex_number',\n       'sp_attack', 'sp_defense', 'speed', 'type1', 'type2', 'weight_kg',\n       'generation', 'is_legendary'],\n      dtype='object')"
     },
     "execution_count": 6,
     "metadata": {},
     "output_type": "execute_result"
    }
   ],
   "source": [
    "df.columns"
   ]
  },
  {
   "cell_type": "code",
   "execution_count": 7,
   "id": "6133268d",
   "metadata": {
    "ExecuteTime": {
     "start_time": "2023-09-12T13:23:35.625284Z",
     "end_time": "2023-09-12T13:23:35.704355Z"
    }
   },
   "outputs": [
    {
     "data": {
      "text/plain": "                     abilities  against_bug  against_dark  against_dragon  \\\n0  ['Overgrow', 'Chlorophyll']          1.0           1.0             1.0   \n1  ['Overgrow', 'Chlorophyll']          1.0           1.0             1.0   \n2  ['Overgrow', 'Chlorophyll']          1.0           1.0             1.0   \n3     ['Blaze', 'Solar Power']          0.5           1.0             1.0   \n4     ['Blaze', 'Solar Power']          0.5           1.0             1.0   \n\n   against_electric  against_fairy  against_fight  against_fire  \\\n0               0.5            0.5            0.5           2.0   \n1               0.5            0.5            0.5           2.0   \n2               0.5            0.5            0.5           2.0   \n3               1.0            0.5            1.0           0.5   \n4               1.0            0.5            1.0           0.5   \n\n   against_flying  against_ghost  against_grass  against_ground  against_ice  \\\n0             2.0            1.0           0.25             1.0          2.0   \n1             2.0            1.0           0.25             1.0          2.0   \n2             2.0            1.0           0.25             1.0          2.0   \n3             1.0            1.0           0.50             2.0          0.5   \n4             1.0            1.0           0.50             2.0          0.5   \n\n   against_normal  against_poison  against_psychic  against_rock  \\\n0             1.0             1.0              2.0           1.0   \n1             1.0             1.0              2.0           1.0   \n2             1.0             1.0              2.0           1.0   \n3             1.0             1.0              1.0           2.0   \n4             1.0             1.0              1.0           2.0   \n\n   against_steel  against_water  attack  base_egg_steps  base_happiness  \\\n0            1.0            0.5      49            5120              70   \n1            1.0            0.5      62            5120              70   \n2            1.0            0.5     100            5120              70   \n3            0.5            2.0      52            5120              70   \n4            0.5            2.0      64            5120              70   \n\n   base_total capture_rate   classfication  defense  experience_growth  hp  \\\n0         318           45    Seed Pokémon       49            1059860  45   \n1         405           45    Seed Pokémon       63            1059860  60   \n2         625           45    Seed Pokémon      123            1059860  80   \n3         309           45  Lizard Pokémon       43            1059860  39   \n4         405           45   Flame Pokémon       58            1059860  58   \n\n         name  pokedex_number  sp_attack  sp_defense  speed  type1   type2  \\\n0   Bulbasaur               1         65          65     45  grass  poison   \n1     Ivysaur               2         80          80     60  grass  poison   \n2    Venusaur               3        122         120     80  grass  poison   \n3  Charmander               4         60          50     65   fire     NaN   \n4  Charmeleon               5         80          65     80   fire     NaN   \n\n   generation  is_legendary  \n0           1             0  \n1           1             0  \n2           1             0  \n3           1             0  \n4           1             0  ",
      "text/html": "<div>\n<style scoped>\n    .dataframe tbody tr th:only-of-type {\n        vertical-align: middle;\n    }\n\n    .dataframe tbody tr th {\n        vertical-align: top;\n    }\n\n    .dataframe thead th {\n        text-align: right;\n    }\n</style>\n<table border=\"1\" class=\"dataframe\">\n  <thead>\n    <tr style=\"text-align: right;\">\n      <th></th>\n      <th>abilities</th>\n      <th>against_bug</th>\n      <th>against_dark</th>\n      <th>against_dragon</th>\n      <th>against_electric</th>\n      <th>against_fairy</th>\n      <th>against_fight</th>\n      <th>against_fire</th>\n      <th>against_flying</th>\n      <th>against_ghost</th>\n      <th>against_grass</th>\n      <th>against_ground</th>\n      <th>against_ice</th>\n      <th>against_normal</th>\n      <th>against_poison</th>\n      <th>against_psychic</th>\n      <th>against_rock</th>\n      <th>against_steel</th>\n      <th>against_water</th>\n      <th>attack</th>\n      <th>base_egg_steps</th>\n      <th>base_happiness</th>\n      <th>base_total</th>\n      <th>capture_rate</th>\n      <th>classfication</th>\n      <th>defense</th>\n      <th>experience_growth</th>\n      <th>hp</th>\n      <th>name</th>\n      <th>pokedex_number</th>\n      <th>sp_attack</th>\n      <th>sp_defense</th>\n      <th>speed</th>\n      <th>type1</th>\n      <th>type2</th>\n      <th>generation</th>\n      <th>is_legendary</th>\n    </tr>\n  </thead>\n  <tbody>\n    <tr>\n      <th>0</th>\n      <td>['Overgrow', 'Chlorophyll']</td>\n      <td>1.0</td>\n      <td>1.0</td>\n      <td>1.0</td>\n      <td>0.5</td>\n      <td>0.5</td>\n      <td>0.5</td>\n      <td>2.0</td>\n      <td>2.0</td>\n      <td>1.0</td>\n      <td>0.25</td>\n      <td>1.0</td>\n      <td>2.0</td>\n      <td>1.0</td>\n      <td>1.0</td>\n      <td>2.0</td>\n      <td>1.0</td>\n      <td>1.0</td>\n      <td>0.5</td>\n      <td>49</td>\n      <td>5120</td>\n      <td>70</td>\n      <td>318</td>\n      <td>45</td>\n      <td>Seed Pokémon</td>\n      <td>49</td>\n      <td>1059860</td>\n      <td>45</td>\n      <td>Bulbasaur</td>\n      <td>1</td>\n      <td>65</td>\n      <td>65</td>\n      <td>45</td>\n      <td>grass</td>\n      <td>poison</td>\n      <td>1</td>\n      <td>0</td>\n    </tr>\n    <tr>\n      <th>1</th>\n      <td>['Overgrow', 'Chlorophyll']</td>\n      <td>1.0</td>\n      <td>1.0</td>\n      <td>1.0</td>\n      <td>0.5</td>\n      <td>0.5</td>\n      <td>0.5</td>\n      <td>2.0</td>\n      <td>2.0</td>\n      <td>1.0</td>\n      <td>0.25</td>\n      <td>1.0</td>\n      <td>2.0</td>\n      <td>1.0</td>\n      <td>1.0</td>\n      <td>2.0</td>\n      <td>1.0</td>\n      <td>1.0</td>\n      <td>0.5</td>\n      <td>62</td>\n      <td>5120</td>\n      <td>70</td>\n      <td>405</td>\n      <td>45</td>\n      <td>Seed Pokémon</td>\n      <td>63</td>\n      <td>1059860</td>\n      <td>60</td>\n      <td>Ivysaur</td>\n      <td>2</td>\n      <td>80</td>\n      <td>80</td>\n      <td>60</td>\n      <td>grass</td>\n      <td>poison</td>\n      <td>1</td>\n      <td>0</td>\n    </tr>\n    <tr>\n      <th>2</th>\n      <td>['Overgrow', 'Chlorophyll']</td>\n      <td>1.0</td>\n      <td>1.0</td>\n      <td>1.0</td>\n      <td>0.5</td>\n      <td>0.5</td>\n      <td>0.5</td>\n      <td>2.0</td>\n      <td>2.0</td>\n      <td>1.0</td>\n      <td>0.25</td>\n      <td>1.0</td>\n      <td>2.0</td>\n      <td>1.0</td>\n      <td>1.0</td>\n      <td>2.0</td>\n      <td>1.0</td>\n      <td>1.0</td>\n      <td>0.5</td>\n      <td>100</td>\n      <td>5120</td>\n      <td>70</td>\n      <td>625</td>\n      <td>45</td>\n      <td>Seed Pokémon</td>\n      <td>123</td>\n      <td>1059860</td>\n      <td>80</td>\n      <td>Venusaur</td>\n      <td>3</td>\n      <td>122</td>\n      <td>120</td>\n      <td>80</td>\n      <td>grass</td>\n      <td>poison</td>\n      <td>1</td>\n      <td>0</td>\n    </tr>\n    <tr>\n      <th>3</th>\n      <td>['Blaze', 'Solar Power']</td>\n      <td>0.5</td>\n      <td>1.0</td>\n      <td>1.0</td>\n      <td>1.0</td>\n      <td>0.5</td>\n      <td>1.0</td>\n      <td>0.5</td>\n      <td>1.0</td>\n      <td>1.0</td>\n      <td>0.50</td>\n      <td>2.0</td>\n      <td>0.5</td>\n      <td>1.0</td>\n      <td>1.0</td>\n      <td>1.0</td>\n      <td>2.0</td>\n      <td>0.5</td>\n      <td>2.0</td>\n      <td>52</td>\n      <td>5120</td>\n      <td>70</td>\n      <td>309</td>\n      <td>45</td>\n      <td>Lizard Pokémon</td>\n      <td>43</td>\n      <td>1059860</td>\n      <td>39</td>\n      <td>Charmander</td>\n      <td>4</td>\n      <td>60</td>\n      <td>50</td>\n      <td>65</td>\n      <td>fire</td>\n      <td>NaN</td>\n      <td>1</td>\n      <td>0</td>\n    </tr>\n    <tr>\n      <th>4</th>\n      <td>['Blaze', 'Solar Power']</td>\n      <td>0.5</td>\n      <td>1.0</td>\n      <td>1.0</td>\n      <td>1.0</td>\n      <td>0.5</td>\n      <td>1.0</td>\n      <td>0.5</td>\n      <td>1.0</td>\n      <td>1.0</td>\n      <td>0.50</td>\n      <td>2.0</td>\n      <td>0.5</td>\n      <td>1.0</td>\n      <td>1.0</td>\n      <td>1.0</td>\n      <td>2.0</td>\n      <td>0.5</td>\n      <td>2.0</td>\n      <td>64</td>\n      <td>5120</td>\n      <td>70</td>\n      <td>405</td>\n      <td>45</td>\n      <td>Flame Pokémon</td>\n      <td>58</td>\n      <td>1059860</td>\n      <td>58</td>\n      <td>Charmeleon</td>\n      <td>5</td>\n      <td>80</td>\n      <td>65</td>\n      <td>80</td>\n      <td>fire</td>\n      <td>NaN</td>\n      <td>1</td>\n      <td>0</td>\n    </tr>\n  </tbody>\n</table>\n</div>"
     },
     "execution_count": 7,
     "metadata": {},
     "output_type": "execute_result"
    }
   ],
   "source": [
    "cols= ['abilities','against_bug','against_dark','against_dragon',\n",
    "       'against_electric', 'against_fairy', 'against_fight', 'against_fire',\n",
    "       'against_flying', 'against_ghost', 'against_grass', 'against_ground',\n",
    "       'against_ice', 'against_normal', 'against_poison', 'against_psychic',\n",
    "       'against_rock', 'against_steel', 'against_water', 'attack',\n",
    "       'base_egg_steps', 'base_happiness', 'base_total', 'capture_rate',\n",
    "       'classfication', 'defense', 'experience_growth','hp',\n",
    "       'name', 'pokedex_number',\n",
    "       'sp_attack', 'sp_defense', 'speed', 'type1', 'type2',\n",
    "       'generation', 'is_legendary']\n",
    "\n",
    "\n",
    "\n",
    "\n",
    "poke = df.loc[:,cols]\n",
    "poke.head()"
   ]
  },
  {
   "cell_type": "code",
   "execution_count": 8,
   "id": "131f4c0d",
   "metadata": {
    "ExecuteTime": {
     "start_time": "2023-09-12T13:23:35.698350Z",
     "end_time": "2023-09-12T13:23:35.773418Z"
    }
   },
   "outputs": [
    {
     "data": {
      "text/plain": "                     abilities  against_bug  against_dark  against_dragon  \\\n0  ['Overgrow', 'Chlorophyll']          1.0           1.0             1.0   \n1  ['Overgrow', 'Chlorophyll']          1.0           1.0             1.0   \n2  ['Overgrow', 'Chlorophyll']          1.0           1.0             1.0   \n3     ['Blaze', 'Solar Power']          0.5           1.0             1.0   \n4     ['Blaze', 'Solar Power']          0.5           1.0             1.0   \n\n   against_electric  against_fairy  against_fight  against_fire  \\\n0               0.5            0.5            0.5           2.0   \n1               0.5            0.5            0.5           2.0   \n2               0.5            0.5            0.5           2.0   \n3               1.0            0.5            1.0           0.5   \n4               1.0            0.5            1.0           0.5   \n\n   against_flying  against_ghost  against_grass  against_ground  against_ice  \\\n0             2.0            1.0           0.25             1.0          2.0   \n1             2.0            1.0           0.25             1.0          2.0   \n2             2.0            1.0           0.25             1.0          2.0   \n3             1.0            1.0           0.50             2.0          0.5   \n4             1.0            1.0           0.50             2.0          0.5   \n\n   against_normal  against_poison  against_psychic  against_rock  \\\n0             1.0             1.0              2.0           1.0   \n1             1.0             1.0              2.0           1.0   \n2             1.0             1.0              2.0           1.0   \n3             1.0             1.0              1.0           2.0   \n4             1.0             1.0              1.0           2.0   \n\n   against_steel  against_water  attack  base_egg_steps  base_happiness  \\\n0            1.0            0.5      49            5120              70   \n1            1.0            0.5      62            5120              70   \n2            1.0            0.5     100            5120              70   \n3            0.5            2.0      52            5120              70   \n4            0.5            2.0      64            5120              70   \n\n   base_total capture_rate   classfication  defense  experience_growth  hp  \\\n0         318           45    Seed Pokémon       49            1059860  45   \n1         405           45    Seed Pokémon       63            1059860  60   \n2         625           45    Seed Pokémon      123            1059860  80   \n3         309           45  Lizard Pokémon       43            1059860  39   \n4         405           45   Flame Pokémon       58            1059860  58   \n\n         name  pokedex_number  sp_attack  sp_defense  speed  type1   type2  \\\n0   Bulbasaur               1         65          65     45  grass  poison   \n1     Ivysaur               2         80          80     60  grass  poison   \n2    Venusaur               3        122         120     80  grass  poison   \n3  Charmander               4         60          50     65   fire    None   \n4  Charmeleon               5         80          65     80   fire    None   \n\n   generation  is_legendary  \n0           1             0  \n1           1             0  \n2           1             0  \n3           1             0  \n4           1             0  ",
      "text/html": "<div>\n<style scoped>\n    .dataframe tbody tr th:only-of-type {\n        vertical-align: middle;\n    }\n\n    .dataframe tbody tr th {\n        vertical-align: top;\n    }\n\n    .dataframe thead th {\n        text-align: right;\n    }\n</style>\n<table border=\"1\" class=\"dataframe\">\n  <thead>\n    <tr style=\"text-align: right;\">\n      <th></th>\n      <th>abilities</th>\n      <th>against_bug</th>\n      <th>against_dark</th>\n      <th>against_dragon</th>\n      <th>against_electric</th>\n      <th>against_fairy</th>\n      <th>against_fight</th>\n      <th>against_fire</th>\n      <th>against_flying</th>\n      <th>against_ghost</th>\n      <th>against_grass</th>\n      <th>against_ground</th>\n      <th>against_ice</th>\n      <th>against_normal</th>\n      <th>against_poison</th>\n      <th>against_psychic</th>\n      <th>against_rock</th>\n      <th>against_steel</th>\n      <th>against_water</th>\n      <th>attack</th>\n      <th>base_egg_steps</th>\n      <th>base_happiness</th>\n      <th>base_total</th>\n      <th>capture_rate</th>\n      <th>classfication</th>\n      <th>defense</th>\n      <th>experience_growth</th>\n      <th>hp</th>\n      <th>name</th>\n      <th>pokedex_number</th>\n      <th>sp_attack</th>\n      <th>sp_defense</th>\n      <th>speed</th>\n      <th>type1</th>\n      <th>type2</th>\n      <th>generation</th>\n      <th>is_legendary</th>\n    </tr>\n  </thead>\n  <tbody>\n    <tr>\n      <th>0</th>\n      <td>['Overgrow', 'Chlorophyll']</td>\n      <td>1.0</td>\n      <td>1.0</td>\n      <td>1.0</td>\n      <td>0.5</td>\n      <td>0.5</td>\n      <td>0.5</td>\n      <td>2.0</td>\n      <td>2.0</td>\n      <td>1.0</td>\n      <td>0.25</td>\n      <td>1.0</td>\n      <td>2.0</td>\n      <td>1.0</td>\n      <td>1.0</td>\n      <td>2.0</td>\n      <td>1.0</td>\n      <td>1.0</td>\n      <td>0.5</td>\n      <td>49</td>\n      <td>5120</td>\n      <td>70</td>\n      <td>318</td>\n      <td>45</td>\n      <td>Seed Pokémon</td>\n      <td>49</td>\n      <td>1059860</td>\n      <td>45</td>\n      <td>Bulbasaur</td>\n      <td>1</td>\n      <td>65</td>\n      <td>65</td>\n      <td>45</td>\n      <td>grass</td>\n      <td>poison</td>\n      <td>1</td>\n      <td>0</td>\n    </tr>\n    <tr>\n      <th>1</th>\n      <td>['Overgrow', 'Chlorophyll']</td>\n      <td>1.0</td>\n      <td>1.0</td>\n      <td>1.0</td>\n      <td>0.5</td>\n      <td>0.5</td>\n      <td>0.5</td>\n      <td>2.0</td>\n      <td>2.0</td>\n      <td>1.0</td>\n      <td>0.25</td>\n      <td>1.0</td>\n      <td>2.0</td>\n      <td>1.0</td>\n      <td>1.0</td>\n      <td>2.0</td>\n      <td>1.0</td>\n      <td>1.0</td>\n      <td>0.5</td>\n      <td>62</td>\n      <td>5120</td>\n      <td>70</td>\n      <td>405</td>\n      <td>45</td>\n      <td>Seed Pokémon</td>\n      <td>63</td>\n      <td>1059860</td>\n      <td>60</td>\n      <td>Ivysaur</td>\n      <td>2</td>\n      <td>80</td>\n      <td>80</td>\n      <td>60</td>\n      <td>grass</td>\n      <td>poison</td>\n      <td>1</td>\n      <td>0</td>\n    </tr>\n    <tr>\n      <th>2</th>\n      <td>['Overgrow', 'Chlorophyll']</td>\n      <td>1.0</td>\n      <td>1.0</td>\n      <td>1.0</td>\n      <td>0.5</td>\n      <td>0.5</td>\n      <td>0.5</td>\n      <td>2.0</td>\n      <td>2.0</td>\n      <td>1.0</td>\n      <td>0.25</td>\n      <td>1.0</td>\n      <td>2.0</td>\n      <td>1.0</td>\n      <td>1.0</td>\n      <td>2.0</td>\n      <td>1.0</td>\n      <td>1.0</td>\n      <td>0.5</td>\n      <td>100</td>\n      <td>5120</td>\n      <td>70</td>\n      <td>625</td>\n      <td>45</td>\n      <td>Seed Pokémon</td>\n      <td>123</td>\n      <td>1059860</td>\n      <td>80</td>\n      <td>Venusaur</td>\n      <td>3</td>\n      <td>122</td>\n      <td>120</td>\n      <td>80</td>\n      <td>grass</td>\n      <td>poison</td>\n      <td>1</td>\n      <td>0</td>\n    </tr>\n    <tr>\n      <th>3</th>\n      <td>['Blaze', 'Solar Power']</td>\n      <td>0.5</td>\n      <td>1.0</td>\n      <td>1.0</td>\n      <td>1.0</td>\n      <td>0.5</td>\n      <td>1.0</td>\n      <td>0.5</td>\n      <td>1.0</td>\n      <td>1.0</td>\n      <td>0.50</td>\n      <td>2.0</td>\n      <td>0.5</td>\n      <td>1.0</td>\n      <td>1.0</td>\n      <td>1.0</td>\n      <td>2.0</td>\n      <td>0.5</td>\n      <td>2.0</td>\n      <td>52</td>\n      <td>5120</td>\n      <td>70</td>\n      <td>309</td>\n      <td>45</td>\n      <td>Lizard Pokémon</td>\n      <td>43</td>\n      <td>1059860</td>\n      <td>39</td>\n      <td>Charmander</td>\n      <td>4</td>\n      <td>60</td>\n      <td>50</td>\n      <td>65</td>\n      <td>fire</td>\n      <td>None</td>\n      <td>1</td>\n      <td>0</td>\n    </tr>\n    <tr>\n      <th>4</th>\n      <td>['Blaze', 'Solar Power']</td>\n      <td>0.5</td>\n      <td>1.0</td>\n      <td>1.0</td>\n      <td>1.0</td>\n      <td>0.5</td>\n      <td>1.0</td>\n      <td>0.5</td>\n      <td>1.0</td>\n      <td>1.0</td>\n      <td>0.50</td>\n      <td>2.0</td>\n      <td>0.5</td>\n      <td>1.0</td>\n      <td>1.0</td>\n      <td>1.0</td>\n      <td>2.0</td>\n      <td>0.5</td>\n      <td>2.0</td>\n      <td>64</td>\n      <td>5120</td>\n      <td>70</td>\n      <td>405</td>\n      <td>45</td>\n      <td>Flame Pokémon</td>\n      <td>58</td>\n      <td>1059860</td>\n      <td>58</td>\n      <td>Charmeleon</td>\n      <td>5</td>\n      <td>80</td>\n      <td>65</td>\n      <td>80</td>\n      <td>fire</td>\n      <td>None</td>\n      <td>1</td>\n      <td>0</td>\n    </tr>\n  </tbody>\n</table>\n</div>"
     },
     "execution_count": 8,
     "metadata": {},
     "output_type": "execute_result"
    }
   ],
   "source": [
    "\n",
    "poke['type2'].fillna('None', inplace=True)\n",
    "poke.head()"
   ]
  },
  {
   "cell_type": "code",
   "execution_count": 9,
   "id": "9d23e4fb",
   "metadata": {
    "ExecuteTime": {
     "start_time": "2023-09-12T13:23:35.730379Z",
     "end_time": "2023-09-12T13:23:35.814455Z"
    }
   },
   "outputs": [
    {
     "name": "stdout",
     "output_type": "stream",
     "text": [
      "<class 'pandas.core.frame.DataFrame'>\n",
      "RangeIndex: 801 entries, 0 to 800\n",
      "Data columns (total 37 columns):\n",
      " #   Column             Non-Null Count  Dtype  \n",
      "---  ------             --------------  -----  \n",
      " 0   abilities          801 non-null    object \n",
      " 1   against_bug        801 non-null    float64\n",
      " 2   against_dark       801 non-null    float64\n",
      " 3   against_dragon     801 non-null    float64\n",
      " 4   against_electric   801 non-null    float64\n",
      " 5   against_fairy      801 non-null    float64\n",
      " 6   against_fight      801 non-null    float64\n",
      " 7   against_fire       801 non-null    float64\n",
      " 8   against_flying     801 non-null    float64\n",
      " 9   against_ghost      801 non-null    float64\n",
      " 10  against_grass      801 non-null    float64\n",
      " 11  against_ground     801 non-null    float64\n",
      " 12  against_ice        801 non-null    float64\n",
      " 13  against_normal     801 non-null    float64\n",
      " 14  against_poison     801 non-null    float64\n",
      " 15  against_psychic    801 non-null    float64\n",
      " 16  against_rock       801 non-null    float64\n",
      " 17  against_steel      801 non-null    float64\n",
      " 18  against_water      801 non-null    float64\n",
      " 19  attack             801 non-null    int64  \n",
      " 20  base_egg_steps     801 non-null    int64  \n",
      " 21  base_happiness     801 non-null    int64  \n",
      " 22  base_total         801 non-null    int64  \n",
      " 23  capture_rate       801 non-null    object \n",
      " 24  classfication      801 non-null    object \n",
      " 25  defense            801 non-null    int64  \n",
      " 26  experience_growth  801 non-null    int64  \n",
      " 27  hp                 801 non-null    int64  \n",
      " 28  name               801 non-null    object \n",
      " 29  pokedex_number     801 non-null    int64  \n",
      " 30  sp_attack          801 non-null    int64  \n",
      " 31  sp_defense         801 non-null    int64  \n",
      " 32  speed              801 non-null    int64  \n",
      " 33  type1              801 non-null    object \n",
      " 34  type2              801 non-null    object \n",
      " 35  generation         801 non-null    int64  \n",
      " 36  is_legendary       801 non-null    int64  \n",
      "dtypes: float64(18), int64(13), object(6)\n",
      "memory usage: 231.7+ KB\n"
     ]
    }
   ],
   "source": [
    "poke.info()"
   ]
  },
  {
   "cell_type": "code",
   "execution_count": 10,
   "id": "5183918d",
   "metadata": {
    "ExecuteTime": {
     "start_time": "2023-09-12T13:23:35.745392Z",
     "end_time": "2023-09-12T13:23:35.849487Z"
    }
   },
   "outputs": [],
   "source": [
    "poke.to_csv('PokeDF.csv')"
   ]
  },
  {
   "cell_type": "code",
   "execution_count": 11,
   "id": "c8001df8",
   "metadata": {
    "ExecuteTime": {
     "start_time": "2023-09-12T13:23:35.761407Z",
     "end_time": "2023-09-12T13:23:35.849487Z"
    }
   },
   "outputs": [],
   "source": [
    "combats = pd.read_csv(\"Data/combats.csv\")"
   ]
  },
  {
   "cell_type": "code",
   "execution_count": 12,
   "id": "57340794",
   "metadata": {
    "ExecuteTime": {
     "start_time": "2023-09-12T13:23:35.775420Z",
     "end_time": "2023-09-12T13:23:35.868504Z"
    }
   },
   "outputs": [
    {
     "data": {
      "text/plain": "   First_pokemon  Second_pokemon  Winner\n0            266             298     298\n1            702             701     701\n2            191             668     668\n3            237             683     683\n4            151             231     151",
      "text/html": "<div>\n<style scoped>\n    .dataframe tbody tr th:only-of-type {\n        vertical-align: middle;\n    }\n\n    .dataframe tbody tr th {\n        vertical-align: top;\n    }\n\n    .dataframe thead th {\n        text-align: right;\n    }\n</style>\n<table border=\"1\" class=\"dataframe\">\n  <thead>\n    <tr style=\"text-align: right;\">\n      <th></th>\n      <th>First_pokemon</th>\n      <th>Second_pokemon</th>\n      <th>Winner</th>\n    </tr>\n  </thead>\n  <tbody>\n    <tr>\n      <th>0</th>\n      <td>266</td>\n      <td>298</td>\n      <td>298</td>\n    </tr>\n    <tr>\n      <th>1</th>\n      <td>702</td>\n      <td>701</td>\n      <td>701</td>\n    </tr>\n    <tr>\n      <th>2</th>\n      <td>191</td>\n      <td>668</td>\n      <td>668</td>\n    </tr>\n    <tr>\n      <th>3</th>\n      <td>237</td>\n      <td>683</td>\n      <td>683</td>\n    </tr>\n    <tr>\n      <th>4</th>\n      <td>151</td>\n      <td>231</td>\n      <td>151</td>\n    </tr>\n  </tbody>\n</table>\n</div>"
     },
     "execution_count": 12,
     "metadata": {},
     "output_type": "execute_result"
    }
   ],
   "source": [
    "combats.head()"
   ]
  },
  {
   "cell_type": "code",
   "execution_count": 13,
   "id": "79badd07",
   "metadata": {
    "ExecuteTime": {
     "start_time": "2023-09-12T13:23:35.790433Z",
     "end_time": "2023-09-12T13:23:35.909542Z"
    }
   },
   "outputs": [
    {
     "data": {
      "text/plain": "water       114\nnormal      105\ngrass        78\nbug          72\npsychic      53\nfire         52\nrock         45\nelectric     39\npoison       32\nground       32\ndark         29\nfighting     28\nghost        27\ndragon       27\nsteel        24\nice          23\nfairy        18\nflying        3\nName: type1, dtype: int64"
     },
     "execution_count": 13,
     "metadata": {},
     "output_type": "execute_result"
    }
   ],
   "source": [
    "poke['type1'].value_counts()"
   ]
  },
  {
   "cell_type": "code",
   "execution_count": 14,
   "id": "a6c628bf",
   "metadata": {
    "ExecuteTime": {
     "start_time": "2023-09-12T13:23:35.806448Z",
     "end_time": "2023-09-12T13:23:35.925556Z"
    }
   },
   "outputs": [],
   "source": [
    "dum_col_t1 = pd.get_dummies(poke['type1'], prefix='Type1')\n",
    "dum_col_t2 = pd.get_dummies(poke['type2'], prefix='Type2')\n",
    "poke = pd.concat([poke, dum_col_t1], axis=1)\n",
    "poke = pd.concat([poke, dum_col_t2], axis=1)"
   ]
  },
  {
   "cell_type": "code",
   "execution_count": 15,
   "id": "21e9a2d5",
   "metadata": {
    "ExecuteTime": {
     "start_time": "2023-09-12T13:23:35.823464Z",
     "end_time": "2023-09-12T13:23:35.950579Z"
    }
   },
   "outputs": [
    {
     "data": {
      "text/plain": "                     abilities  against_bug  against_dark  against_dragon  \\\n0  ['Overgrow', 'Chlorophyll']          1.0           1.0             1.0   \n1  ['Overgrow', 'Chlorophyll']          1.0           1.0             1.0   \n2  ['Overgrow', 'Chlorophyll']          1.0           1.0             1.0   \n3     ['Blaze', 'Solar Power']          0.5           1.0             1.0   \n4     ['Blaze', 'Solar Power']          0.5           1.0             1.0   \n\n   against_electric  against_fairy  against_fight  against_fire  \\\n0               0.5            0.5            0.5           2.0   \n1               0.5            0.5            0.5           2.0   \n2               0.5            0.5            0.5           2.0   \n3               1.0            0.5            1.0           0.5   \n4               1.0            0.5            1.0           0.5   \n\n   against_flying  against_ghost  against_grass  against_ground  against_ice  \\\n0             2.0            1.0           0.25             1.0          2.0   \n1             2.0            1.0           0.25             1.0          2.0   \n2             2.0            1.0           0.25             1.0          2.0   \n3             1.0            1.0           0.50             2.0          0.5   \n4             1.0            1.0           0.50             2.0          0.5   \n\n   against_normal  against_poison  against_psychic  against_rock  \\\n0             1.0             1.0              2.0           1.0   \n1             1.0             1.0              2.0           1.0   \n2             1.0             1.0              2.0           1.0   \n3             1.0             1.0              1.0           2.0   \n4             1.0             1.0              1.0           2.0   \n\n   against_steel  against_water  attack  base_egg_steps  base_happiness  \\\n0            1.0            0.5      49            5120              70   \n1            1.0            0.5      62            5120              70   \n2            1.0            0.5     100            5120              70   \n3            0.5            2.0      52            5120              70   \n4            0.5            2.0      64            5120              70   \n\n   base_total capture_rate   classfication  defense  experience_growth  hp  \\\n0         318           45    Seed Pokémon       49            1059860  45   \n1         405           45    Seed Pokémon       63            1059860  60   \n2         625           45    Seed Pokémon      123            1059860  80   \n3         309           45  Lizard Pokémon       43            1059860  39   \n4         405           45   Flame Pokémon       58            1059860  58   \n\n         name  pokedex_number  sp_attack  sp_defense  speed  type1   type2  \\\n0   Bulbasaur               1         65          65     45  grass  poison   \n1     Ivysaur               2         80          80     60  grass  poison   \n2    Venusaur               3        122         120     80  grass  poison   \n3  Charmander               4         60          50     65   fire    None   \n4  Charmeleon               5         80          65     80   fire    None   \n\n   generation  is_legendary  Type1_bug  Type1_dark  Type1_dragon  \\\n0           1             0          0           0             0   \n1           1             0          0           0             0   \n2           1             0          0           0             0   \n3           1             0          0           0             0   \n4           1             0          0           0             0   \n\n   Type1_electric  Type1_fairy  Type1_fighting  Type1_fire  Type1_flying  \\\n0               0            0               0           0             0   \n1               0            0               0           0             0   \n2               0            0               0           0             0   \n3               0            0               0           1             0   \n4               0            0               0           1             0   \n\n   Type1_ghost  Type1_grass  Type1_ground  Type1_ice  Type1_normal  \\\n0            0            1             0          0             0   \n1            0            1             0          0             0   \n2            0            1             0          0             0   \n3            0            0             0          0             0   \n4            0            0             0          0             0   \n\n   Type1_poison  Type1_psychic  Type1_rock  Type1_steel  Type1_water  \\\n0             0              0           0            0            0   \n1             0              0           0            0            0   \n2             0              0           0            0            0   \n3             0              0           0            0            0   \n4             0              0           0            0            0   \n\n   Type2_None  Type2_bug  Type2_dark  Type2_dragon  Type2_electric  \\\n0           0          0           0             0               0   \n1           0          0           0             0               0   \n2           0          0           0             0               0   \n3           1          0           0             0               0   \n4           1          0           0             0               0   \n\n   Type2_fairy  Type2_fighting  Type2_fire  Type2_flying  Type2_ghost  \\\n0            0               0           0             0            0   \n1            0               0           0             0            0   \n2            0               0           0             0            0   \n3            0               0           0             0            0   \n4            0               0           0             0            0   \n\n   Type2_grass  Type2_ground  Type2_ice  Type2_normal  Type2_poison  \\\n0            0             0          0             0             1   \n1            0             0          0             0             1   \n2            0             0          0             0             1   \n3            0             0          0             0             0   \n4            0             0          0             0             0   \n\n   Type2_psychic  Type2_rock  Type2_steel  Type2_water  \n0              0           0            0            0  \n1              0           0            0            0  \n2              0           0            0            0  \n3              0           0            0            0  \n4              0           0            0            0  ",
      "text/html": "<div>\n<style scoped>\n    .dataframe tbody tr th:only-of-type {\n        vertical-align: middle;\n    }\n\n    .dataframe tbody tr th {\n        vertical-align: top;\n    }\n\n    .dataframe thead th {\n        text-align: right;\n    }\n</style>\n<table border=\"1\" class=\"dataframe\">\n  <thead>\n    <tr style=\"text-align: right;\">\n      <th></th>\n      <th>abilities</th>\n      <th>against_bug</th>\n      <th>against_dark</th>\n      <th>against_dragon</th>\n      <th>against_electric</th>\n      <th>against_fairy</th>\n      <th>against_fight</th>\n      <th>against_fire</th>\n      <th>against_flying</th>\n      <th>against_ghost</th>\n      <th>against_grass</th>\n      <th>against_ground</th>\n      <th>against_ice</th>\n      <th>against_normal</th>\n      <th>against_poison</th>\n      <th>against_psychic</th>\n      <th>against_rock</th>\n      <th>against_steel</th>\n      <th>against_water</th>\n      <th>attack</th>\n      <th>base_egg_steps</th>\n      <th>base_happiness</th>\n      <th>base_total</th>\n      <th>capture_rate</th>\n      <th>classfication</th>\n      <th>defense</th>\n      <th>experience_growth</th>\n      <th>hp</th>\n      <th>name</th>\n      <th>pokedex_number</th>\n      <th>sp_attack</th>\n      <th>sp_defense</th>\n      <th>speed</th>\n      <th>type1</th>\n      <th>type2</th>\n      <th>generation</th>\n      <th>is_legendary</th>\n      <th>Type1_bug</th>\n      <th>Type1_dark</th>\n      <th>Type1_dragon</th>\n      <th>Type1_electric</th>\n      <th>Type1_fairy</th>\n      <th>Type1_fighting</th>\n      <th>Type1_fire</th>\n      <th>Type1_flying</th>\n      <th>Type1_ghost</th>\n      <th>Type1_grass</th>\n      <th>Type1_ground</th>\n      <th>Type1_ice</th>\n      <th>Type1_normal</th>\n      <th>Type1_poison</th>\n      <th>Type1_psychic</th>\n      <th>Type1_rock</th>\n      <th>Type1_steel</th>\n      <th>Type1_water</th>\n      <th>Type2_None</th>\n      <th>Type2_bug</th>\n      <th>Type2_dark</th>\n      <th>Type2_dragon</th>\n      <th>Type2_electric</th>\n      <th>Type2_fairy</th>\n      <th>Type2_fighting</th>\n      <th>Type2_fire</th>\n      <th>Type2_flying</th>\n      <th>Type2_ghost</th>\n      <th>Type2_grass</th>\n      <th>Type2_ground</th>\n      <th>Type2_ice</th>\n      <th>Type2_normal</th>\n      <th>Type2_poison</th>\n      <th>Type2_psychic</th>\n      <th>Type2_rock</th>\n      <th>Type2_steel</th>\n      <th>Type2_water</th>\n    </tr>\n  </thead>\n  <tbody>\n    <tr>\n      <th>0</th>\n      <td>['Overgrow', 'Chlorophyll']</td>\n      <td>1.0</td>\n      <td>1.0</td>\n      <td>1.0</td>\n      <td>0.5</td>\n      <td>0.5</td>\n      <td>0.5</td>\n      <td>2.0</td>\n      <td>2.0</td>\n      <td>1.0</td>\n      <td>0.25</td>\n      <td>1.0</td>\n      <td>2.0</td>\n      <td>1.0</td>\n      <td>1.0</td>\n      <td>2.0</td>\n      <td>1.0</td>\n      <td>1.0</td>\n      <td>0.5</td>\n      <td>49</td>\n      <td>5120</td>\n      <td>70</td>\n      <td>318</td>\n      <td>45</td>\n      <td>Seed Pokémon</td>\n      <td>49</td>\n      <td>1059860</td>\n      <td>45</td>\n      <td>Bulbasaur</td>\n      <td>1</td>\n      <td>65</td>\n      <td>65</td>\n      <td>45</td>\n      <td>grass</td>\n      <td>poison</td>\n      <td>1</td>\n      <td>0</td>\n      <td>0</td>\n      <td>0</td>\n      <td>0</td>\n      <td>0</td>\n      <td>0</td>\n      <td>0</td>\n      <td>0</td>\n      <td>0</td>\n      <td>0</td>\n      <td>1</td>\n      <td>0</td>\n      <td>0</td>\n      <td>0</td>\n      <td>0</td>\n      <td>0</td>\n      <td>0</td>\n      <td>0</td>\n      <td>0</td>\n      <td>0</td>\n      <td>0</td>\n      <td>0</td>\n      <td>0</td>\n      <td>0</td>\n      <td>0</td>\n      <td>0</td>\n      <td>0</td>\n      <td>0</td>\n      <td>0</td>\n      <td>0</td>\n      <td>0</td>\n      <td>0</td>\n      <td>0</td>\n      <td>1</td>\n      <td>0</td>\n      <td>0</td>\n      <td>0</td>\n      <td>0</td>\n    </tr>\n    <tr>\n      <th>1</th>\n      <td>['Overgrow', 'Chlorophyll']</td>\n      <td>1.0</td>\n      <td>1.0</td>\n      <td>1.0</td>\n      <td>0.5</td>\n      <td>0.5</td>\n      <td>0.5</td>\n      <td>2.0</td>\n      <td>2.0</td>\n      <td>1.0</td>\n      <td>0.25</td>\n      <td>1.0</td>\n      <td>2.0</td>\n      <td>1.0</td>\n      <td>1.0</td>\n      <td>2.0</td>\n      <td>1.0</td>\n      <td>1.0</td>\n      <td>0.5</td>\n      <td>62</td>\n      <td>5120</td>\n      <td>70</td>\n      <td>405</td>\n      <td>45</td>\n      <td>Seed Pokémon</td>\n      <td>63</td>\n      <td>1059860</td>\n      <td>60</td>\n      <td>Ivysaur</td>\n      <td>2</td>\n      <td>80</td>\n      <td>80</td>\n      <td>60</td>\n      <td>grass</td>\n      <td>poison</td>\n      <td>1</td>\n      <td>0</td>\n      <td>0</td>\n      <td>0</td>\n      <td>0</td>\n      <td>0</td>\n      <td>0</td>\n      <td>0</td>\n      <td>0</td>\n      <td>0</td>\n      <td>0</td>\n      <td>1</td>\n      <td>0</td>\n      <td>0</td>\n      <td>0</td>\n      <td>0</td>\n      <td>0</td>\n      <td>0</td>\n      <td>0</td>\n      <td>0</td>\n      <td>0</td>\n      <td>0</td>\n      <td>0</td>\n      <td>0</td>\n      <td>0</td>\n      <td>0</td>\n      <td>0</td>\n      <td>0</td>\n      <td>0</td>\n      <td>0</td>\n      <td>0</td>\n      <td>0</td>\n      <td>0</td>\n      <td>0</td>\n      <td>1</td>\n      <td>0</td>\n      <td>0</td>\n      <td>0</td>\n      <td>0</td>\n    </tr>\n    <tr>\n      <th>2</th>\n      <td>['Overgrow', 'Chlorophyll']</td>\n      <td>1.0</td>\n      <td>1.0</td>\n      <td>1.0</td>\n      <td>0.5</td>\n      <td>0.5</td>\n      <td>0.5</td>\n      <td>2.0</td>\n      <td>2.0</td>\n      <td>1.0</td>\n      <td>0.25</td>\n      <td>1.0</td>\n      <td>2.0</td>\n      <td>1.0</td>\n      <td>1.0</td>\n      <td>2.0</td>\n      <td>1.0</td>\n      <td>1.0</td>\n      <td>0.5</td>\n      <td>100</td>\n      <td>5120</td>\n      <td>70</td>\n      <td>625</td>\n      <td>45</td>\n      <td>Seed Pokémon</td>\n      <td>123</td>\n      <td>1059860</td>\n      <td>80</td>\n      <td>Venusaur</td>\n      <td>3</td>\n      <td>122</td>\n      <td>120</td>\n      <td>80</td>\n      <td>grass</td>\n      <td>poison</td>\n      <td>1</td>\n      <td>0</td>\n      <td>0</td>\n      <td>0</td>\n      <td>0</td>\n      <td>0</td>\n      <td>0</td>\n      <td>0</td>\n      <td>0</td>\n      <td>0</td>\n      <td>0</td>\n      <td>1</td>\n      <td>0</td>\n      <td>0</td>\n      <td>0</td>\n      <td>0</td>\n      <td>0</td>\n      <td>0</td>\n      <td>0</td>\n      <td>0</td>\n      <td>0</td>\n      <td>0</td>\n      <td>0</td>\n      <td>0</td>\n      <td>0</td>\n      <td>0</td>\n      <td>0</td>\n      <td>0</td>\n      <td>0</td>\n      <td>0</td>\n      <td>0</td>\n      <td>0</td>\n      <td>0</td>\n      <td>0</td>\n      <td>1</td>\n      <td>0</td>\n      <td>0</td>\n      <td>0</td>\n      <td>0</td>\n    </tr>\n    <tr>\n      <th>3</th>\n      <td>['Blaze', 'Solar Power']</td>\n      <td>0.5</td>\n      <td>1.0</td>\n      <td>1.0</td>\n      <td>1.0</td>\n      <td>0.5</td>\n      <td>1.0</td>\n      <td>0.5</td>\n      <td>1.0</td>\n      <td>1.0</td>\n      <td>0.50</td>\n      <td>2.0</td>\n      <td>0.5</td>\n      <td>1.0</td>\n      <td>1.0</td>\n      <td>1.0</td>\n      <td>2.0</td>\n      <td>0.5</td>\n      <td>2.0</td>\n      <td>52</td>\n      <td>5120</td>\n      <td>70</td>\n      <td>309</td>\n      <td>45</td>\n      <td>Lizard Pokémon</td>\n      <td>43</td>\n      <td>1059860</td>\n      <td>39</td>\n      <td>Charmander</td>\n      <td>4</td>\n      <td>60</td>\n      <td>50</td>\n      <td>65</td>\n      <td>fire</td>\n      <td>None</td>\n      <td>1</td>\n      <td>0</td>\n      <td>0</td>\n      <td>0</td>\n      <td>0</td>\n      <td>0</td>\n      <td>0</td>\n      <td>0</td>\n      <td>1</td>\n      <td>0</td>\n      <td>0</td>\n      <td>0</td>\n      <td>0</td>\n      <td>0</td>\n      <td>0</td>\n      <td>0</td>\n      <td>0</td>\n      <td>0</td>\n      <td>0</td>\n      <td>0</td>\n      <td>1</td>\n      <td>0</td>\n      <td>0</td>\n      <td>0</td>\n      <td>0</td>\n      <td>0</td>\n      <td>0</td>\n      <td>0</td>\n      <td>0</td>\n      <td>0</td>\n      <td>0</td>\n      <td>0</td>\n      <td>0</td>\n      <td>0</td>\n      <td>0</td>\n      <td>0</td>\n      <td>0</td>\n      <td>0</td>\n      <td>0</td>\n    </tr>\n    <tr>\n      <th>4</th>\n      <td>['Blaze', 'Solar Power']</td>\n      <td>0.5</td>\n      <td>1.0</td>\n      <td>1.0</td>\n      <td>1.0</td>\n      <td>0.5</td>\n      <td>1.0</td>\n      <td>0.5</td>\n      <td>1.0</td>\n      <td>1.0</td>\n      <td>0.50</td>\n      <td>2.0</td>\n      <td>0.5</td>\n      <td>1.0</td>\n      <td>1.0</td>\n      <td>1.0</td>\n      <td>2.0</td>\n      <td>0.5</td>\n      <td>2.0</td>\n      <td>64</td>\n      <td>5120</td>\n      <td>70</td>\n      <td>405</td>\n      <td>45</td>\n      <td>Flame Pokémon</td>\n      <td>58</td>\n      <td>1059860</td>\n      <td>58</td>\n      <td>Charmeleon</td>\n      <td>5</td>\n      <td>80</td>\n      <td>65</td>\n      <td>80</td>\n      <td>fire</td>\n      <td>None</td>\n      <td>1</td>\n      <td>0</td>\n      <td>0</td>\n      <td>0</td>\n      <td>0</td>\n      <td>0</td>\n      <td>0</td>\n      <td>0</td>\n      <td>1</td>\n      <td>0</td>\n      <td>0</td>\n      <td>0</td>\n      <td>0</td>\n      <td>0</td>\n      <td>0</td>\n      <td>0</td>\n      <td>0</td>\n      <td>0</td>\n      <td>0</td>\n      <td>0</td>\n      <td>1</td>\n      <td>0</td>\n      <td>0</td>\n      <td>0</td>\n      <td>0</td>\n      <td>0</td>\n      <td>0</td>\n      <td>0</td>\n      <td>0</td>\n      <td>0</td>\n      <td>0</td>\n      <td>0</td>\n      <td>0</td>\n      <td>0</td>\n      <td>0</td>\n      <td>0</td>\n      <td>0</td>\n      <td>0</td>\n      <td>0</td>\n    </tr>\n  </tbody>\n</table>\n</div>"
     },
     "execution_count": 15,
     "metadata": {},
     "output_type": "execute_result"
    }
   ],
   "source": [
    "poke.head()"
   ]
  },
  {
   "cell_type": "code",
   "execution_count": 16,
   "id": "678e4860",
   "metadata": {
    "ExecuteTime": {
     "start_time": "2023-09-12T13:23:35.852490Z",
     "end_time": "2023-09-12T13:23:35.951580Z"
    }
   },
   "outputs": [
    {
     "data": {
      "text/plain": "['Overgrow', 'Chlorophyll']"
     },
     "execution_count": 16,
     "metadata": {},
     "output_type": "execute_result"
    }
   ],
   "source": [
    "ast.literal_eval(poke.abilities[0])"
   ]
  },
  {
   "cell_type": "code",
   "execution_count": 17,
   "id": "e867bb63",
   "metadata": {
    "ExecuteTime": {
     "start_time": "2023-09-12T13:23:35.867504Z",
     "end_time": "2023-09-12T13:23:35.985611Z"
    }
   },
   "outputs": [],
   "source": [
    "poke['Abilities_Counts'] = poke.abilities.apply(lambda x: len(ast.literal_eval(x)))\n",
    "poke['Abilities_Main'] = poke.abilities.apply(lambda x: ast.literal_eval(x)[0])"
   ]
  },
  {
   "cell_type": "code",
   "execution_count": 18,
   "id": "c8786487",
   "metadata": {
    "ExecuteTime": {
     "start_time": "2023-09-12T13:23:35.897531Z",
     "end_time": "2023-09-12T13:23:35.995620Z"
    }
   },
   "outputs": [
    {
     "data": {
      "text/plain": "                     abilities  against_bug  against_dark  against_dragon  \\\n0  ['Overgrow', 'Chlorophyll']          1.0           1.0             1.0   \n1  ['Overgrow', 'Chlorophyll']          1.0           1.0             1.0   \n2  ['Overgrow', 'Chlorophyll']          1.0           1.0             1.0   \n3     ['Blaze', 'Solar Power']          0.5           1.0             1.0   \n4     ['Blaze', 'Solar Power']          0.5           1.0             1.0   \n\n   against_electric  against_fairy  against_fight  against_fire  \\\n0               0.5            0.5            0.5           2.0   \n1               0.5            0.5            0.5           2.0   \n2               0.5            0.5            0.5           2.0   \n3               1.0            0.5            1.0           0.5   \n4               1.0            0.5            1.0           0.5   \n\n   against_flying  against_ghost  against_grass  against_ground  against_ice  \\\n0             2.0            1.0           0.25             1.0          2.0   \n1             2.0            1.0           0.25             1.0          2.0   \n2             2.0            1.0           0.25             1.0          2.0   \n3             1.0            1.0           0.50             2.0          0.5   \n4             1.0            1.0           0.50             2.0          0.5   \n\n   against_normal  against_poison  against_psychic  against_rock  \\\n0             1.0             1.0              2.0           1.0   \n1             1.0             1.0              2.0           1.0   \n2             1.0             1.0              2.0           1.0   \n3             1.0             1.0              1.0           2.0   \n4             1.0             1.0              1.0           2.0   \n\n   against_steel  against_water  attack  base_egg_steps  base_happiness  \\\n0            1.0            0.5      49            5120              70   \n1            1.0            0.5      62            5120              70   \n2            1.0            0.5     100            5120              70   \n3            0.5            2.0      52            5120              70   \n4            0.5            2.0      64            5120              70   \n\n   base_total capture_rate   classfication  defense  experience_growth  hp  \\\n0         318           45    Seed Pokémon       49            1059860  45   \n1         405           45    Seed Pokémon       63            1059860  60   \n2         625           45    Seed Pokémon      123            1059860  80   \n3         309           45  Lizard Pokémon       43            1059860  39   \n4         405           45   Flame Pokémon       58            1059860  58   \n\n         name  pokedex_number  sp_attack  sp_defense  speed  type1   type2  \\\n0   Bulbasaur               1         65          65     45  grass  poison   \n1     Ivysaur               2         80          80     60  grass  poison   \n2    Venusaur               3        122         120     80  grass  poison   \n3  Charmander               4         60          50     65   fire    None   \n4  Charmeleon               5         80          65     80   fire    None   \n\n   generation  is_legendary  Type1_bug  Type1_dark  Type1_dragon  \\\n0           1             0          0           0             0   \n1           1             0          0           0             0   \n2           1             0          0           0             0   \n3           1             0          0           0             0   \n4           1             0          0           0             0   \n\n   Type1_electric  Type1_fairy  Type1_fighting  Type1_fire  Type1_flying  \\\n0               0            0               0           0             0   \n1               0            0               0           0             0   \n2               0            0               0           0             0   \n3               0            0               0           1             0   \n4               0            0               0           1             0   \n\n   Type1_ghost  Type1_grass  Type1_ground  Type1_ice  Type1_normal  \\\n0            0            1             0          0             0   \n1            0            1             0          0             0   \n2            0            1             0          0             0   \n3            0            0             0          0             0   \n4            0            0             0          0             0   \n\n   Type1_poison  Type1_psychic  Type1_rock  Type1_steel  Type1_water  \\\n0             0              0           0            0            0   \n1             0              0           0            0            0   \n2             0              0           0            0            0   \n3             0              0           0            0            0   \n4             0              0           0            0            0   \n\n   Type2_None  Type2_bug  Type2_dark  Type2_dragon  Type2_electric  \\\n0           0          0           0             0               0   \n1           0          0           0             0               0   \n2           0          0           0             0               0   \n3           1          0           0             0               0   \n4           1          0           0             0               0   \n\n   Type2_fairy  Type2_fighting  Type2_fire  Type2_flying  Type2_ghost  \\\n0            0               0           0             0            0   \n1            0               0           0             0            0   \n2            0               0           0             0            0   \n3            0               0           0             0            0   \n4            0               0           0             0            0   \n\n   Type2_grass  Type2_ground  Type2_ice  Type2_normal  Type2_poison  \\\n0            0             0          0             0             1   \n1            0             0          0             0             1   \n2            0             0          0             0             1   \n3            0             0          0             0             0   \n4            0             0          0             0             0   \n\n   Type2_psychic  Type2_rock  Type2_steel  Type2_water  Abilities_Counts  \\\n0              0           0            0            0                 2   \n1              0           0            0            0                 2   \n2              0           0            0            0                 2   \n3              0           0            0            0                 2   \n4              0           0            0            0                 2   \n\n  Abilities_Main  \n0       Overgrow  \n1       Overgrow  \n2       Overgrow  \n3          Blaze  \n4          Blaze  ",
      "text/html": "<div>\n<style scoped>\n    .dataframe tbody tr th:only-of-type {\n        vertical-align: middle;\n    }\n\n    .dataframe tbody tr th {\n        vertical-align: top;\n    }\n\n    .dataframe thead th {\n        text-align: right;\n    }\n</style>\n<table border=\"1\" class=\"dataframe\">\n  <thead>\n    <tr style=\"text-align: right;\">\n      <th></th>\n      <th>abilities</th>\n      <th>against_bug</th>\n      <th>against_dark</th>\n      <th>against_dragon</th>\n      <th>against_electric</th>\n      <th>against_fairy</th>\n      <th>against_fight</th>\n      <th>against_fire</th>\n      <th>against_flying</th>\n      <th>against_ghost</th>\n      <th>against_grass</th>\n      <th>against_ground</th>\n      <th>against_ice</th>\n      <th>against_normal</th>\n      <th>against_poison</th>\n      <th>against_psychic</th>\n      <th>against_rock</th>\n      <th>against_steel</th>\n      <th>against_water</th>\n      <th>attack</th>\n      <th>base_egg_steps</th>\n      <th>base_happiness</th>\n      <th>base_total</th>\n      <th>capture_rate</th>\n      <th>classfication</th>\n      <th>defense</th>\n      <th>experience_growth</th>\n      <th>hp</th>\n      <th>name</th>\n      <th>pokedex_number</th>\n      <th>sp_attack</th>\n      <th>sp_defense</th>\n      <th>speed</th>\n      <th>type1</th>\n      <th>type2</th>\n      <th>generation</th>\n      <th>is_legendary</th>\n      <th>Type1_bug</th>\n      <th>Type1_dark</th>\n      <th>Type1_dragon</th>\n      <th>Type1_electric</th>\n      <th>Type1_fairy</th>\n      <th>Type1_fighting</th>\n      <th>Type1_fire</th>\n      <th>Type1_flying</th>\n      <th>Type1_ghost</th>\n      <th>Type1_grass</th>\n      <th>Type1_ground</th>\n      <th>Type1_ice</th>\n      <th>Type1_normal</th>\n      <th>Type1_poison</th>\n      <th>Type1_psychic</th>\n      <th>Type1_rock</th>\n      <th>Type1_steel</th>\n      <th>Type1_water</th>\n      <th>Type2_None</th>\n      <th>Type2_bug</th>\n      <th>Type2_dark</th>\n      <th>Type2_dragon</th>\n      <th>Type2_electric</th>\n      <th>Type2_fairy</th>\n      <th>Type2_fighting</th>\n      <th>Type2_fire</th>\n      <th>Type2_flying</th>\n      <th>Type2_ghost</th>\n      <th>Type2_grass</th>\n      <th>Type2_ground</th>\n      <th>Type2_ice</th>\n      <th>Type2_normal</th>\n      <th>Type2_poison</th>\n      <th>Type2_psychic</th>\n      <th>Type2_rock</th>\n      <th>Type2_steel</th>\n      <th>Type2_water</th>\n      <th>Abilities_Counts</th>\n      <th>Abilities_Main</th>\n    </tr>\n  </thead>\n  <tbody>\n    <tr>\n      <th>0</th>\n      <td>['Overgrow', 'Chlorophyll']</td>\n      <td>1.0</td>\n      <td>1.0</td>\n      <td>1.0</td>\n      <td>0.5</td>\n      <td>0.5</td>\n      <td>0.5</td>\n      <td>2.0</td>\n      <td>2.0</td>\n      <td>1.0</td>\n      <td>0.25</td>\n      <td>1.0</td>\n      <td>2.0</td>\n      <td>1.0</td>\n      <td>1.0</td>\n      <td>2.0</td>\n      <td>1.0</td>\n      <td>1.0</td>\n      <td>0.5</td>\n      <td>49</td>\n      <td>5120</td>\n      <td>70</td>\n      <td>318</td>\n      <td>45</td>\n      <td>Seed Pokémon</td>\n      <td>49</td>\n      <td>1059860</td>\n      <td>45</td>\n      <td>Bulbasaur</td>\n      <td>1</td>\n      <td>65</td>\n      <td>65</td>\n      <td>45</td>\n      <td>grass</td>\n      <td>poison</td>\n      <td>1</td>\n      <td>0</td>\n      <td>0</td>\n      <td>0</td>\n      <td>0</td>\n      <td>0</td>\n      <td>0</td>\n      <td>0</td>\n      <td>0</td>\n      <td>0</td>\n      <td>0</td>\n      <td>1</td>\n      <td>0</td>\n      <td>0</td>\n      <td>0</td>\n      <td>0</td>\n      <td>0</td>\n      <td>0</td>\n      <td>0</td>\n      <td>0</td>\n      <td>0</td>\n      <td>0</td>\n      <td>0</td>\n      <td>0</td>\n      <td>0</td>\n      <td>0</td>\n      <td>0</td>\n      <td>0</td>\n      <td>0</td>\n      <td>0</td>\n      <td>0</td>\n      <td>0</td>\n      <td>0</td>\n      <td>0</td>\n      <td>1</td>\n      <td>0</td>\n      <td>0</td>\n      <td>0</td>\n      <td>0</td>\n      <td>2</td>\n      <td>Overgrow</td>\n    </tr>\n    <tr>\n      <th>1</th>\n      <td>['Overgrow', 'Chlorophyll']</td>\n      <td>1.0</td>\n      <td>1.0</td>\n      <td>1.0</td>\n      <td>0.5</td>\n      <td>0.5</td>\n      <td>0.5</td>\n      <td>2.0</td>\n      <td>2.0</td>\n      <td>1.0</td>\n      <td>0.25</td>\n      <td>1.0</td>\n      <td>2.0</td>\n      <td>1.0</td>\n      <td>1.0</td>\n      <td>2.0</td>\n      <td>1.0</td>\n      <td>1.0</td>\n      <td>0.5</td>\n      <td>62</td>\n      <td>5120</td>\n      <td>70</td>\n      <td>405</td>\n      <td>45</td>\n      <td>Seed Pokémon</td>\n      <td>63</td>\n      <td>1059860</td>\n      <td>60</td>\n      <td>Ivysaur</td>\n      <td>2</td>\n      <td>80</td>\n      <td>80</td>\n      <td>60</td>\n      <td>grass</td>\n      <td>poison</td>\n      <td>1</td>\n      <td>0</td>\n      <td>0</td>\n      <td>0</td>\n      <td>0</td>\n      <td>0</td>\n      <td>0</td>\n      <td>0</td>\n      <td>0</td>\n      <td>0</td>\n      <td>0</td>\n      <td>1</td>\n      <td>0</td>\n      <td>0</td>\n      <td>0</td>\n      <td>0</td>\n      <td>0</td>\n      <td>0</td>\n      <td>0</td>\n      <td>0</td>\n      <td>0</td>\n      <td>0</td>\n      <td>0</td>\n      <td>0</td>\n      <td>0</td>\n      <td>0</td>\n      <td>0</td>\n      <td>0</td>\n      <td>0</td>\n      <td>0</td>\n      <td>0</td>\n      <td>0</td>\n      <td>0</td>\n      <td>0</td>\n      <td>1</td>\n      <td>0</td>\n      <td>0</td>\n      <td>0</td>\n      <td>0</td>\n      <td>2</td>\n      <td>Overgrow</td>\n    </tr>\n    <tr>\n      <th>2</th>\n      <td>['Overgrow', 'Chlorophyll']</td>\n      <td>1.0</td>\n      <td>1.0</td>\n      <td>1.0</td>\n      <td>0.5</td>\n      <td>0.5</td>\n      <td>0.5</td>\n      <td>2.0</td>\n      <td>2.0</td>\n      <td>1.0</td>\n      <td>0.25</td>\n      <td>1.0</td>\n      <td>2.0</td>\n      <td>1.0</td>\n      <td>1.0</td>\n      <td>2.0</td>\n      <td>1.0</td>\n      <td>1.0</td>\n      <td>0.5</td>\n      <td>100</td>\n      <td>5120</td>\n      <td>70</td>\n      <td>625</td>\n      <td>45</td>\n      <td>Seed Pokémon</td>\n      <td>123</td>\n      <td>1059860</td>\n      <td>80</td>\n      <td>Venusaur</td>\n      <td>3</td>\n      <td>122</td>\n      <td>120</td>\n      <td>80</td>\n      <td>grass</td>\n      <td>poison</td>\n      <td>1</td>\n      <td>0</td>\n      <td>0</td>\n      <td>0</td>\n      <td>0</td>\n      <td>0</td>\n      <td>0</td>\n      <td>0</td>\n      <td>0</td>\n      <td>0</td>\n      <td>0</td>\n      <td>1</td>\n      <td>0</td>\n      <td>0</td>\n      <td>0</td>\n      <td>0</td>\n      <td>0</td>\n      <td>0</td>\n      <td>0</td>\n      <td>0</td>\n      <td>0</td>\n      <td>0</td>\n      <td>0</td>\n      <td>0</td>\n      <td>0</td>\n      <td>0</td>\n      <td>0</td>\n      <td>0</td>\n      <td>0</td>\n      <td>0</td>\n      <td>0</td>\n      <td>0</td>\n      <td>0</td>\n      <td>0</td>\n      <td>1</td>\n      <td>0</td>\n      <td>0</td>\n      <td>0</td>\n      <td>0</td>\n      <td>2</td>\n      <td>Overgrow</td>\n    </tr>\n    <tr>\n      <th>3</th>\n      <td>['Blaze', 'Solar Power']</td>\n      <td>0.5</td>\n      <td>1.0</td>\n      <td>1.0</td>\n      <td>1.0</td>\n      <td>0.5</td>\n      <td>1.0</td>\n      <td>0.5</td>\n      <td>1.0</td>\n      <td>1.0</td>\n      <td>0.50</td>\n      <td>2.0</td>\n      <td>0.5</td>\n      <td>1.0</td>\n      <td>1.0</td>\n      <td>1.0</td>\n      <td>2.0</td>\n      <td>0.5</td>\n      <td>2.0</td>\n      <td>52</td>\n      <td>5120</td>\n      <td>70</td>\n      <td>309</td>\n      <td>45</td>\n      <td>Lizard Pokémon</td>\n      <td>43</td>\n      <td>1059860</td>\n      <td>39</td>\n      <td>Charmander</td>\n      <td>4</td>\n      <td>60</td>\n      <td>50</td>\n      <td>65</td>\n      <td>fire</td>\n      <td>None</td>\n      <td>1</td>\n      <td>0</td>\n      <td>0</td>\n      <td>0</td>\n      <td>0</td>\n      <td>0</td>\n      <td>0</td>\n      <td>0</td>\n      <td>1</td>\n      <td>0</td>\n      <td>0</td>\n      <td>0</td>\n      <td>0</td>\n      <td>0</td>\n      <td>0</td>\n      <td>0</td>\n      <td>0</td>\n      <td>0</td>\n      <td>0</td>\n      <td>0</td>\n      <td>1</td>\n      <td>0</td>\n      <td>0</td>\n      <td>0</td>\n      <td>0</td>\n      <td>0</td>\n      <td>0</td>\n      <td>0</td>\n      <td>0</td>\n      <td>0</td>\n      <td>0</td>\n      <td>0</td>\n      <td>0</td>\n      <td>0</td>\n      <td>0</td>\n      <td>0</td>\n      <td>0</td>\n      <td>0</td>\n      <td>0</td>\n      <td>2</td>\n      <td>Blaze</td>\n    </tr>\n    <tr>\n      <th>4</th>\n      <td>['Blaze', 'Solar Power']</td>\n      <td>0.5</td>\n      <td>1.0</td>\n      <td>1.0</td>\n      <td>1.0</td>\n      <td>0.5</td>\n      <td>1.0</td>\n      <td>0.5</td>\n      <td>1.0</td>\n      <td>1.0</td>\n      <td>0.50</td>\n      <td>2.0</td>\n      <td>0.5</td>\n      <td>1.0</td>\n      <td>1.0</td>\n      <td>1.0</td>\n      <td>2.0</td>\n      <td>0.5</td>\n      <td>2.0</td>\n      <td>64</td>\n      <td>5120</td>\n      <td>70</td>\n      <td>405</td>\n      <td>45</td>\n      <td>Flame Pokémon</td>\n      <td>58</td>\n      <td>1059860</td>\n      <td>58</td>\n      <td>Charmeleon</td>\n      <td>5</td>\n      <td>80</td>\n      <td>65</td>\n      <td>80</td>\n      <td>fire</td>\n      <td>None</td>\n      <td>1</td>\n      <td>0</td>\n      <td>0</td>\n      <td>0</td>\n      <td>0</td>\n      <td>0</td>\n      <td>0</td>\n      <td>0</td>\n      <td>1</td>\n      <td>0</td>\n      <td>0</td>\n      <td>0</td>\n      <td>0</td>\n      <td>0</td>\n      <td>0</td>\n      <td>0</td>\n      <td>0</td>\n      <td>0</td>\n      <td>0</td>\n      <td>0</td>\n      <td>1</td>\n      <td>0</td>\n      <td>0</td>\n      <td>0</td>\n      <td>0</td>\n      <td>0</td>\n      <td>0</td>\n      <td>0</td>\n      <td>0</td>\n      <td>0</td>\n      <td>0</td>\n      <td>0</td>\n      <td>0</td>\n      <td>0</td>\n      <td>0</td>\n      <td>0</td>\n      <td>0</td>\n      <td>0</td>\n      <td>0</td>\n      <td>2</td>\n      <td>Blaze</td>\n    </tr>\n  </tbody>\n</table>\n</div>"
     },
     "execution_count": 18,
     "metadata": {},
     "output_type": "execute_result"
    }
   ],
   "source": [
    "poke.head()"
   ]
  },
  {
   "cell_type": "code",
   "execution_count": 19,
   "id": "f2127e3d",
   "metadata": {
    "ExecuteTime": {
     "start_time": "2023-09-12T13:23:35.926557Z",
     "end_time": "2023-09-12T13:23:36.089708Z"
    }
   },
   "outputs": [
    {
     "data": {
      "text/plain": "       against_bug  against_dark  against_dragon  against_electric  \\\ncount   801.000000    801.000000      801.000000        801.000000   \nmean      0.996255      1.057116        0.968789          1.073970   \nstd       0.597248      0.438142        0.353058          0.654962   \nmin       0.250000      0.250000        0.000000          0.000000   \n25%       0.500000      1.000000        1.000000          0.500000   \n50%       1.000000      1.000000        1.000000          1.000000   \n75%       1.000000      1.000000        1.000000          1.000000   \nmax       4.000000      4.000000        2.000000          4.000000   \n\n       against_fairy  against_fight  against_fire  against_flying  \\\ncount     801.000000     801.000000    801.000000      801.000000   \nmean        1.068976       1.065543      1.135456        1.192884   \nstd         0.522167       0.717251      0.691853        0.604488   \nmin         0.250000       0.000000      0.250000        0.250000   \n25%         1.000000       0.500000      0.500000        1.000000   \n50%         1.000000       1.000000      1.000000        1.000000   \n75%         1.000000       1.000000      2.000000        1.000000   \nmax         4.000000       4.000000      4.000000        4.000000   \n\n       against_ghost  against_grass  against_ground  against_ice  \\\ncount     801.000000     801.000000      801.000000   801.000000   \nmean        0.985019       1.034020        1.098002     1.208177   \nstd         0.558256       0.788896        0.738818     0.735356   \nmin         0.000000       0.250000        0.000000     0.250000   \n25%         1.000000       0.500000        1.000000     0.500000   \n50%         1.000000       1.000000        1.000000     1.000000   \n75%         1.000000       1.000000        1.000000     2.000000   \nmax         4.000000       4.000000        4.000000     4.000000   \n\n       against_normal  against_poison  against_psychic  against_rock  \\\ncount      801.000000      801.000000       801.000000    801.000000   \nmean         0.887016        0.975343         1.005306      1.250312   \nstd          0.266106        0.549375         0.495183      0.697148   \nmin          0.000000        0.000000         0.000000      0.250000   \n25%          1.000000        0.500000         1.000000      1.000000   \n50%          1.000000        1.000000         1.000000      1.000000   \n75%          1.000000        1.000000         1.000000      2.000000   \nmax          1.000000        4.000000         4.000000      4.000000   \n\n       against_steel  against_water      attack  base_egg_steps  \\\ncount     801.000000     801.000000  801.000000      801.000000   \nmean        0.983458       1.058365   77.857678     7191.011236   \nstd         0.500117       0.606562   32.158820     6558.220422   \nmin         0.250000       0.250000    5.000000     1280.000000   \n25%         0.500000       0.500000   55.000000     5120.000000   \n50%         1.000000       1.000000   75.000000     5120.000000   \n75%         1.000000       1.000000  100.000000     6400.000000   \nmax         4.000000       4.000000  185.000000    30720.000000   \n\n       base_happiness  base_total     defense  experience_growth          hp  \\\ncount      801.000000  801.000000  801.000000       8.010000e+02  801.000000   \nmean        65.362047  428.377029   73.008739       1.054996e+06   68.958801   \nstd         19.598948  119.203577   30.769159       1.602558e+05   26.576015   \nmin          0.000000  180.000000    5.000000       6.000000e+05    1.000000   \n25%         70.000000  320.000000   50.000000       1.000000e+06   50.000000   \n50%         70.000000  435.000000   70.000000       1.000000e+06   65.000000   \n75%         70.000000  505.000000   90.000000       1.059860e+06   80.000000   \nmax        140.000000  780.000000  230.000000       1.640000e+06  255.000000   \n\n       pokedex_number   sp_attack  sp_defense       speed  generation  \\\ncount      801.000000  801.000000  801.000000  801.000000  801.000000   \nmean       401.000000   71.305868   70.911361   66.334582    3.690387   \nstd        231.373075   32.353826   27.942501   28.907662    1.930420   \nmin          1.000000   10.000000   20.000000    5.000000    1.000000   \n25%        201.000000   45.000000   50.000000   45.000000    2.000000   \n50%        401.000000   65.000000   66.000000   65.000000    4.000000   \n75%        601.000000   91.000000   90.000000   85.000000    5.000000   \nmax        801.000000  194.000000  230.000000  180.000000    7.000000   \n\n       is_legendary   Type1_bug  Type1_dark  Type1_dragon  Type1_electric  \\\ncount    801.000000  801.000000  801.000000    801.000000      801.000000   \nmean       0.087391    0.089888    0.036205      0.033708        0.048689   \nstd        0.282583    0.286199    0.186916      0.180589        0.215352   \nmin        0.000000    0.000000    0.000000      0.000000        0.000000   \n25%        0.000000    0.000000    0.000000      0.000000        0.000000   \n50%        0.000000    0.000000    0.000000      0.000000        0.000000   \n75%        0.000000    0.000000    0.000000      0.000000        0.000000   \nmax        1.000000    1.000000    1.000000      1.000000        1.000000   \n\n       Type1_fairy  Type1_fighting  Type1_fire  Type1_flying  Type1_ghost  \\\ncount   801.000000      801.000000  801.000000    801.000000   801.000000   \nmean      0.022472        0.034956    0.064919      0.003745     0.033708   \nstd       0.148305        0.183784    0.246537      0.061122     0.180589   \nmin       0.000000        0.000000    0.000000      0.000000     0.000000   \n25%       0.000000        0.000000    0.000000      0.000000     0.000000   \n50%       0.000000        0.000000    0.000000      0.000000     0.000000   \n75%       0.000000        0.000000    0.000000      0.000000     0.000000   \nmax       1.000000        1.000000    1.000000      1.000000     1.000000   \n\n       Type1_grass  Type1_ground   Type1_ice  Type1_normal  Type1_poison  \\\ncount   801.000000    801.000000  801.000000    801.000000    801.000000   \nmean      0.097378      0.039950    0.028714      0.131086      0.039950   \nstd       0.296657      0.195964    0.167106      0.337705      0.195964   \nmin       0.000000      0.000000    0.000000      0.000000      0.000000   \n25%       0.000000      0.000000    0.000000      0.000000      0.000000   \n50%       0.000000      0.000000    0.000000      0.000000      0.000000   \n75%       0.000000      0.000000    0.000000      0.000000      0.000000   \nmax       1.000000      1.000000    1.000000      1.000000      1.000000   \n\n       Type1_psychic  Type1_rock  Type1_steel  Type1_water  Type2_None  \\\ncount     801.000000  801.000000   801.000000   801.000000  801.000000   \nmean        0.066167    0.056180     0.029963     0.142322    0.479401   \nstd         0.248730    0.230412     0.170591     0.349598    0.499888   \nmin         0.000000    0.000000     0.000000     0.000000    0.000000   \n25%         0.000000    0.000000     0.000000     0.000000    0.000000   \n50%         0.000000    0.000000     0.000000     0.000000    0.000000   \n75%         0.000000    0.000000     0.000000     0.000000    1.000000   \nmax         1.000000    1.000000     1.000000     1.000000    1.000000   \n\n        Type2_bug  Type2_dark  Type2_dragon  Type2_electric  Type2_fairy  \\\ncount  801.000000  801.000000    801.000000      801.000000   801.000000   \nmean     0.006242    0.026217      0.021223        0.011236     0.036205   \nstd      0.078810    0.159881      0.144219        0.105468     0.186916   \nmin      0.000000    0.000000      0.000000        0.000000     0.000000   \n25%      0.000000    0.000000      0.000000        0.000000     0.000000   \n50%      0.000000    0.000000      0.000000        0.000000     0.000000   \n75%      0.000000    0.000000      0.000000        0.000000     0.000000   \nmax      1.000000    1.000000      1.000000        1.000000     1.000000   \n\n       Type2_fighting  Type2_fire  Type2_flying  Type2_ghost  Type2_grass  \\\ncount      801.000000  801.000000    801.000000   801.000000   801.000000   \nmean         0.031211    0.016230      0.118602     0.017478     0.024969   \nstd          0.173996    0.126437      0.323521     0.131126     0.156127   \nmin          0.000000    0.000000      0.000000     0.000000     0.000000   \n25%          0.000000    0.000000      0.000000     0.000000     0.000000   \n50%          0.000000    0.000000      0.000000     0.000000     0.000000   \n75%          0.000000    0.000000      0.000000     0.000000     0.000000   \nmax          1.000000    1.000000      1.000000     1.000000     1.000000   \n\n       Type2_ground   Type2_ice  Type2_normal  Type2_poison  Type2_psychic  \\\ncount    801.000000  801.000000    801.000000    801.000000     801.000000   \nmean       0.042447    0.018727      0.004994      0.042447       0.036205   \nstd        0.201733    0.135642      0.070534      0.201733       0.186916   \nmin        0.000000    0.000000      0.000000      0.000000       0.000000   \n25%        0.000000    0.000000      0.000000      0.000000       0.000000   \n50%        0.000000    0.000000      0.000000      0.000000       0.000000   \n75%        0.000000    0.000000      0.000000      0.000000       0.000000   \nmax        1.000000    1.000000      1.000000      1.000000       1.000000   \n\n       Type2_rock  Type2_steel  Type2_water  Abilities_Counts  \ncount  801.000000   801.000000   801.000000        801.000000  \nmean     0.017478     0.027466     0.021223          2.479401  \nstd      0.131126     0.163538     0.144219          0.857256  \nmin      0.000000     0.000000     0.000000          1.000000  \n25%      0.000000     0.000000     0.000000          2.000000  \n50%      0.000000     0.000000     0.000000          3.000000  \n75%      0.000000     0.000000     0.000000          3.000000  \nmax      1.000000     1.000000     1.000000          6.000000  ",
      "text/html": "<div>\n<style scoped>\n    .dataframe tbody tr th:only-of-type {\n        vertical-align: middle;\n    }\n\n    .dataframe tbody tr th {\n        vertical-align: top;\n    }\n\n    .dataframe thead th {\n        text-align: right;\n    }\n</style>\n<table border=\"1\" class=\"dataframe\">\n  <thead>\n    <tr style=\"text-align: right;\">\n      <th></th>\n      <th>against_bug</th>\n      <th>against_dark</th>\n      <th>against_dragon</th>\n      <th>against_electric</th>\n      <th>against_fairy</th>\n      <th>against_fight</th>\n      <th>against_fire</th>\n      <th>against_flying</th>\n      <th>against_ghost</th>\n      <th>against_grass</th>\n      <th>against_ground</th>\n      <th>against_ice</th>\n      <th>against_normal</th>\n      <th>against_poison</th>\n      <th>against_psychic</th>\n      <th>against_rock</th>\n      <th>against_steel</th>\n      <th>against_water</th>\n      <th>attack</th>\n      <th>base_egg_steps</th>\n      <th>base_happiness</th>\n      <th>base_total</th>\n      <th>defense</th>\n      <th>experience_growth</th>\n      <th>hp</th>\n      <th>pokedex_number</th>\n      <th>sp_attack</th>\n      <th>sp_defense</th>\n      <th>speed</th>\n      <th>generation</th>\n      <th>is_legendary</th>\n      <th>Type1_bug</th>\n      <th>Type1_dark</th>\n      <th>Type1_dragon</th>\n      <th>Type1_electric</th>\n      <th>Type1_fairy</th>\n      <th>Type1_fighting</th>\n      <th>Type1_fire</th>\n      <th>Type1_flying</th>\n      <th>Type1_ghost</th>\n      <th>Type1_grass</th>\n      <th>Type1_ground</th>\n      <th>Type1_ice</th>\n      <th>Type1_normal</th>\n      <th>Type1_poison</th>\n      <th>Type1_psychic</th>\n      <th>Type1_rock</th>\n      <th>Type1_steel</th>\n      <th>Type1_water</th>\n      <th>Type2_None</th>\n      <th>Type2_bug</th>\n      <th>Type2_dark</th>\n      <th>Type2_dragon</th>\n      <th>Type2_electric</th>\n      <th>Type2_fairy</th>\n      <th>Type2_fighting</th>\n      <th>Type2_fire</th>\n      <th>Type2_flying</th>\n      <th>Type2_ghost</th>\n      <th>Type2_grass</th>\n      <th>Type2_ground</th>\n      <th>Type2_ice</th>\n      <th>Type2_normal</th>\n      <th>Type2_poison</th>\n      <th>Type2_psychic</th>\n      <th>Type2_rock</th>\n      <th>Type2_steel</th>\n      <th>Type2_water</th>\n      <th>Abilities_Counts</th>\n    </tr>\n  </thead>\n  <tbody>\n    <tr>\n      <th>count</th>\n      <td>801.000000</td>\n      <td>801.000000</td>\n      <td>801.000000</td>\n      <td>801.000000</td>\n      <td>801.000000</td>\n      <td>801.000000</td>\n      <td>801.000000</td>\n      <td>801.000000</td>\n      <td>801.000000</td>\n      <td>801.000000</td>\n      <td>801.000000</td>\n      <td>801.000000</td>\n      <td>801.000000</td>\n      <td>801.000000</td>\n      <td>801.000000</td>\n      <td>801.000000</td>\n      <td>801.000000</td>\n      <td>801.000000</td>\n      <td>801.000000</td>\n      <td>801.000000</td>\n      <td>801.000000</td>\n      <td>801.000000</td>\n      <td>801.000000</td>\n      <td>8.010000e+02</td>\n      <td>801.000000</td>\n      <td>801.000000</td>\n      <td>801.000000</td>\n      <td>801.000000</td>\n      <td>801.000000</td>\n      <td>801.000000</td>\n      <td>801.000000</td>\n      <td>801.000000</td>\n      <td>801.000000</td>\n      <td>801.000000</td>\n      <td>801.000000</td>\n      <td>801.000000</td>\n      <td>801.000000</td>\n      <td>801.000000</td>\n      <td>801.000000</td>\n      <td>801.000000</td>\n      <td>801.000000</td>\n      <td>801.000000</td>\n      <td>801.000000</td>\n      <td>801.000000</td>\n      <td>801.000000</td>\n      <td>801.000000</td>\n      <td>801.000000</td>\n      <td>801.000000</td>\n      <td>801.000000</td>\n      <td>801.000000</td>\n      <td>801.000000</td>\n      <td>801.000000</td>\n      <td>801.000000</td>\n      <td>801.000000</td>\n      <td>801.000000</td>\n      <td>801.000000</td>\n      <td>801.000000</td>\n      <td>801.000000</td>\n      <td>801.000000</td>\n      <td>801.000000</td>\n      <td>801.000000</td>\n      <td>801.000000</td>\n      <td>801.000000</td>\n      <td>801.000000</td>\n      <td>801.000000</td>\n      <td>801.000000</td>\n      <td>801.000000</td>\n      <td>801.000000</td>\n      <td>801.000000</td>\n    </tr>\n    <tr>\n      <th>mean</th>\n      <td>0.996255</td>\n      <td>1.057116</td>\n      <td>0.968789</td>\n      <td>1.073970</td>\n      <td>1.068976</td>\n      <td>1.065543</td>\n      <td>1.135456</td>\n      <td>1.192884</td>\n      <td>0.985019</td>\n      <td>1.034020</td>\n      <td>1.098002</td>\n      <td>1.208177</td>\n      <td>0.887016</td>\n      <td>0.975343</td>\n      <td>1.005306</td>\n      <td>1.250312</td>\n      <td>0.983458</td>\n      <td>1.058365</td>\n      <td>77.857678</td>\n      <td>7191.011236</td>\n      <td>65.362047</td>\n      <td>428.377029</td>\n      <td>73.008739</td>\n      <td>1.054996e+06</td>\n      <td>68.958801</td>\n      <td>401.000000</td>\n      <td>71.305868</td>\n      <td>70.911361</td>\n      <td>66.334582</td>\n      <td>3.690387</td>\n      <td>0.087391</td>\n      <td>0.089888</td>\n      <td>0.036205</td>\n      <td>0.033708</td>\n      <td>0.048689</td>\n      <td>0.022472</td>\n      <td>0.034956</td>\n      <td>0.064919</td>\n      <td>0.003745</td>\n      <td>0.033708</td>\n      <td>0.097378</td>\n      <td>0.039950</td>\n      <td>0.028714</td>\n      <td>0.131086</td>\n      <td>0.039950</td>\n      <td>0.066167</td>\n      <td>0.056180</td>\n      <td>0.029963</td>\n      <td>0.142322</td>\n      <td>0.479401</td>\n      <td>0.006242</td>\n      <td>0.026217</td>\n      <td>0.021223</td>\n      <td>0.011236</td>\n      <td>0.036205</td>\n      <td>0.031211</td>\n      <td>0.016230</td>\n      <td>0.118602</td>\n      <td>0.017478</td>\n      <td>0.024969</td>\n      <td>0.042447</td>\n      <td>0.018727</td>\n      <td>0.004994</td>\n      <td>0.042447</td>\n      <td>0.036205</td>\n      <td>0.017478</td>\n      <td>0.027466</td>\n      <td>0.021223</td>\n      <td>2.479401</td>\n    </tr>\n    <tr>\n      <th>std</th>\n      <td>0.597248</td>\n      <td>0.438142</td>\n      <td>0.353058</td>\n      <td>0.654962</td>\n      <td>0.522167</td>\n      <td>0.717251</td>\n      <td>0.691853</td>\n      <td>0.604488</td>\n      <td>0.558256</td>\n      <td>0.788896</td>\n      <td>0.738818</td>\n      <td>0.735356</td>\n      <td>0.266106</td>\n      <td>0.549375</td>\n      <td>0.495183</td>\n      <td>0.697148</td>\n      <td>0.500117</td>\n      <td>0.606562</td>\n      <td>32.158820</td>\n      <td>6558.220422</td>\n      <td>19.598948</td>\n      <td>119.203577</td>\n      <td>30.769159</td>\n      <td>1.602558e+05</td>\n      <td>26.576015</td>\n      <td>231.373075</td>\n      <td>32.353826</td>\n      <td>27.942501</td>\n      <td>28.907662</td>\n      <td>1.930420</td>\n      <td>0.282583</td>\n      <td>0.286199</td>\n      <td>0.186916</td>\n      <td>0.180589</td>\n      <td>0.215352</td>\n      <td>0.148305</td>\n      <td>0.183784</td>\n      <td>0.246537</td>\n      <td>0.061122</td>\n      <td>0.180589</td>\n      <td>0.296657</td>\n      <td>0.195964</td>\n      <td>0.167106</td>\n      <td>0.337705</td>\n      <td>0.195964</td>\n      <td>0.248730</td>\n      <td>0.230412</td>\n      <td>0.170591</td>\n      <td>0.349598</td>\n      <td>0.499888</td>\n      <td>0.078810</td>\n      <td>0.159881</td>\n      <td>0.144219</td>\n      <td>0.105468</td>\n      <td>0.186916</td>\n      <td>0.173996</td>\n      <td>0.126437</td>\n      <td>0.323521</td>\n      <td>0.131126</td>\n      <td>0.156127</td>\n      <td>0.201733</td>\n      <td>0.135642</td>\n      <td>0.070534</td>\n      <td>0.201733</td>\n      <td>0.186916</td>\n      <td>0.131126</td>\n      <td>0.163538</td>\n      <td>0.144219</td>\n      <td>0.857256</td>\n    </tr>\n    <tr>\n      <th>min</th>\n      <td>0.250000</td>\n      <td>0.250000</td>\n      <td>0.000000</td>\n      <td>0.000000</td>\n      <td>0.250000</td>\n      <td>0.000000</td>\n      <td>0.250000</td>\n      <td>0.250000</td>\n      <td>0.000000</td>\n      <td>0.250000</td>\n      <td>0.000000</td>\n      <td>0.250000</td>\n      <td>0.000000</td>\n      <td>0.000000</td>\n      <td>0.000000</td>\n      <td>0.250000</td>\n      <td>0.250000</td>\n      <td>0.250000</td>\n      <td>5.000000</td>\n      <td>1280.000000</td>\n      <td>0.000000</td>\n      <td>180.000000</td>\n      <td>5.000000</td>\n      <td>6.000000e+05</td>\n      <td>1.000000</td>\n      <td>1.000000</td>\n      <td>10.000000</td>\n      <td>20.000000</td>\n      <td>5.000000</td>\n      <td>1.000000</td>\n      <td>0.000000</td>\n      <td>0.000000</td>\n      <td>0.000000</td>\n      <td>0.000000</td>\n      <td>0.000000</td>\n      <td>0.000000</td>\n      <td>0.000000</td>\n      <td>0.000000</td>\n      <td>0.000000</td>\n      <td>0.000000</td>\n      <td>0.000000</td>\n      <td>0.000000</td>\n      <td>0.000000</td>\n      <td>0.000000</td>\n      <td>0.000000</td>\n      <td>0.000000</td>\n      <td>0.000000</td>\n      <td>0.000000</td>\n      <td>0.000000</td>\n      <td>0.000000</td>\n      <td>0.000000</td>\n      <td>0.000000</td>\n      <td>0.000000</td>\n      <td>0.000000</td>\n      <td>0.000000</td>\n      <td>0.000000</td>\n      <td>0.000000</td>\n      <td>0.000000</td>\n      <td>0.000000</td>\n      <td>0.000000</td>\n      <td>0.000000</td>\n      <td>0.000000</td>\n      <td>0.000000</td>\n      <td>0.000000</td>\n      <td>0.000000</td>\n      <td>0.000000</td>\n      <td>0.000000</td>\n      <td>0.000000</td>\n      <td>1.000000</td>\n    </tr>\n    <tr>\n      <th>25%</th>\n      <td>0.500000</td>\n      <td>1.000000</td>\n      <td>1.000000</td>\n      <td>0.500000</td>\n      <td>1.000000</td>\n      <td>0.500000</td>\n      <td>0.500000</td>\n      <td>1.000000</td>\n      <td>1.000000</td>\n      <td>0.500000</td>\n      <td>1.000000</td>\n      <td>0.500000</td>\n      <td>1.000000</td>\n      <td>0.500000</td>\n      <td>1.000000</td>\n      <td>1.000000</td>\n      <td>0.500000</td>\n      <td>0.500000</td>\n      <td>55.000000</td>\n      <td>5120.000000</td>\n      <td>70.000000</td>\n      <td>320.000000</td>\n      <td>50.000000</td>\n      <td>1.000000e+06</td>\n      <td>50.000000</td>\n      <td>201.000000</td>\n      <td>45.000000</td>\n      <td>50.000000</td>\n      <td>45.000000</td>\n      <td>2.000000</td>\n      <td>0.000000</td>\n      <td>0.000000</td>\n      <td>0.000000</td>\n      <td>0.000000</td>\n      <td>0.000000</td>\n      <td>0.000000</td>\n      <td>0.000000</td>\n      <td>0.000000</td>\n      <td>0.000000</td>\n      <td>0.000000</td>\n      <td>0.000000</td>\n      <td>0.000000</td>\n      <td>0.000000</td>\n      <td>0.000000</td>\n      <td>0.000000</td>\n      <td>0.000000</td>\n      <td>0.000000</td>\n      <td>0.000000</td>\n      <td>0.000000</td>\n      <td>0.000000</td>\n      <td>0.000000</td>\n      <td>0.000000</td>\n      <td>0.000000</td>\n      <td>0.000000</td>\n      <td>0.000000</td>\n      <td>0.000000</td>\n      <td>0.000000</td>\n      <td>0.000000</td>\n      <td>0.000000</td>\n      <td>0.000000</td>\n      <td>0.000000</td>\n      <td>0.000000</td>\n      <td>0.000000</td>\n      <td>0.000000</td>\n      <td>0.000000</td>\n      <td>0.000000</td>\n      <td>0.000000</td>\n      <td>0.000000</td>\n      <td>2.000000</td>\n    </tr>\n    <tr>\n      <th>50%</th>\n      <td>1.000000</td>\n      <td>1.000000</td>\n      <td>1.000000</td>\n      <td>1.000000</td>\n      <td>1.000000</td>\n      <td>1.000000</td>\n      <td>1.000000</td>\n      <td>1.000000</td>\n      <td>1.000000</td>\n      <td>1.000000</td>\n      <td>1.000000</td>\n      <td>1.000000</td>\n      <td>1.000000</td>\n      <td>1.000000</td>\n      <td>1.000000</td>\n      <td>1.000000</td>\n      <td>1.000000</td>\n      <td>1.000000</td>\n      <td>75.000000</td>\n      <td>5120.000000</td>\n      <td>70.000000</td>\n      <td>435.000000</td>\n      <td>70.000000</td>\n      <td>1.000000e+06</td>\n      <td>65.000000</td>\n      <td>401.000000</td>\n      <td>65.000000</td>\n      <td>66.000000</td>\n      <td>65.000000</td>\n      <td>4.000000</td>\n      <td>0.000000</td>\n      <td>0.000000</td>\n      <td>0.000000</td>\n      <td>0.000000</td>\n      <td>0.000000</td>\n      <td>0.000000</td>\n      <td>0.000000</td>\n      <td>0.000000</td>\n      <td>0.000000</td>\n      <td>0.000000</td>\n      <td>0.000000</td>\n      <td>0.000000</td>\n      <td>0.000000</td>\n      <td>0.000000</td>\n      <td>0.000000</td>\n      <td>0.000000</td>\n      <td>0.000000</td>\n      <td>0.000000</td>\n      <td>0.000000</td>\n      <td>0.000000</td>\n      <td>0.000000</td>\n      <td>0.000000</td>\n      <td>0.000000</td>\n      <td>0.000000</td>\n      <td>0.000000</td>\n      <td>0.000000</td>\n      <td>0.000000</td>\n      <td>0.000000</td>\n      <td>0.000000</td>\n      <td>0.000000</td>\n      <td>0.000000</td>\n      <td>0.000000</td>\n      <td>0.000000</td>\n      <td>0.000000</td>\n      <td>0.000000</td>\n      <td>0.000000</td>\n      <td>0.000000</td>\n      <td>0.000000</td>\n      <td>3.000000</td>\n    </tr>\n    <tr>\n      <th>75%</th>\n      <td>1.000000</td>\n      <td>1.000000</td>\n      <td>1.000000</td>\n      <td>1.000000</td>\n      <td>1.000000</td>\n      <td>1.000000</td>\n      <td>2.000000</td>\n      <td>1.000000</td>\n      <td>1.000000</td>\n      <td>1.000000</td>\n      <td>1.000000</td>\n      <td>2.000000</td>\n      <td>1.000000</td>\n      <td>1.000000</td>\n      <td>1.000000</td>\n      <td>2.000000</td>\n      <td>1.000000</td>\n      <td>1.000000</td>\n      <td>100.000000</td>\n      <td>6400.000000</td>\n      <td>70.000000</td>\n      <td>505.000000</td>\n      <td>90.000000</td>\n      <td>1.059860e+06</td>\n      <td>80.000000</td>\n      <td>601.000000</td>\n      <td>91.000000</td>\n      <td>90.000000</td>\n      <td>85.000000</td>\n      <td>5.000000</td>\n      <td>0.000000</td>\n      <td>0.000000</td>\n      <td>0.000000</td>\n      <td>0.000000</td>\n      <td>0.000000</td>\n      <td>0.000000</td>\n      <td>0.000000</td>\n      <td>0.000000</td>\n      <td>0.000000</td>\n      <td>0.000000</td>\n      <td>0.000000</td>\n      <td>0.000000</td>\n      <td>0.000000</td>\n      <td>0.000000</td>\n      <td>0.000000</td>\n      <td>0.000000</td>\n      <td>0.000000</td>\n      <td>0.000000</td>\n      <td>0.000000</td>\n      <td>1.000000</td>\n      <td>0.000000</td>\n      <td>0.000000</td>\n      <td>0.000000</td>\n      <td>0.000000</td>\n      <td>0.000000</td>\n      <td>0.000000</td>\n      <td>0.000000</td>\n      <td>0.000000</td>\n      <td>0.000000</td>\n      <td>0.000000</td>\n      <td>0.000000</td>\n      <td>0.000000</td>\n      <td>0.000000</td>\n      <td>0.000000</td>\n      <td>0.000000</td>\n      <td>0.000000</td>\n      <td>0.000000</td>\n      <td>0.000000</td>\n      <td>3.000000</td>\n    </tr>\n    <tr>\n      <th>max</th>\n      <td>4.000000</td>\n      <td>4.000000</td>\n      <td>2.000000</td>\n      <td>4.000000</td>\n      <td>4.000000</td>\n      <td>4.000000</td>\n      <td>4.000000</td>\n      <td>4.000000</td>\n      <td>4.000000</td>\n      <td>4.000000</td>\n      <td>4.000000</td>\n      <td>4.000000</td>\n      <td>1.000000</td>\n      <td>4.000000</td>\n      <td>4.000000</td>\n      <td>4.000000</td>\n      <td>4.000000</td>\n      <td>4.000000</td>\n      <td>185.000000</td>\n      <td>30720.000000</td>\n      <td>140.000000</td>\n      <td>780.000000</td>\n      <td>230.000000</td>\n      <td>1.640000e+06</td>\n      <td>255.000000</td>\n      <td>801.000000</td>\n      <td>194.000000</td>\n      <td>230.000000</td>\n      <td>180.000000</td>\n      <td>7.000000</td>\n      <td>1.000000</td>\n      <td>1.000000</td>\n      <td>1.000000</td>\n      <td>1.000000</td>\n      <td>1.000000</td>\n      <td>1.000000</td>\n      <td>1.000000</td>\n      <td>1.000000</td>\n      <td>1.000000</td>\n      <td>1.000000</td>\n      <td>1.000000</td>\n      <td>1.000000</td>\n      <td>1.000000</td>\n      <td>1.000000</td>\n      <td>1.000000</td>\n      <td>1.000000</td>\n      <td>1.000000</td>\n      <td>1.000000</td>\n      <td>1.000000</td>\n      <td>1.000000</td>\n      <td>1.000000</td>\n      <td>1.000000</td>\n      <td>1.000000</td>\n      <td>1.000000</td>\n      <td>1.000000</td>\n      <td>1.000000</td>\n      <td>1.000000</td>\n      <td>1.000000</td>\n      <td>1.000000</td>\n      <td>1.000000</td>\n      <td>1.000000</td>\n      <td>1.000000</td>\n      <td>1.000000</td>\n      <td>1.000000</td>\n      <td>1.000000</td>\n      <td>1.000000</td>\n      <td>1.000000</td>\n      <td>1.000000</td>\n      <td>6.000000</td>\n    </tr>\n  </tbody>\n</table>\n</div>"
     },
     "execution_count": 19,
     "metadata": {},
     "output_type": "execute_result"
    }
   ],
   "source": [
    "poke.describe()"
   ]
  },
  {
   "cell_type": "code",
   "execution_count": 20,
   "id": "4459dfdc",
   "metadata": {
    "ExecuteTime": {
     "start_time": "2023-09-12T13:23:36.034656Z",
     "end_time": "2023-09-12T13:23:36.102720Z"
    }
   },
   "outputs": [
    {
     "data": {
      "text/plain": "Levitate            32\nSwift Swim          27\nChlorophyll         25\nKeen Eye            24\nOvergrow            21\nTorrent             21\nBlaze               21\nIntimidate          20\nPressure            20\nSturdy              20\nSwarm               17\nRun Away            14\nThick Fat           14\nShed Skin           13\nPoison Point        13\nStatic              12\nCute Charm          12\nNatural Cure        12\nOblivious           12\nGuts                12\nSynchronize         11\nInner Focus         11\nHyper Cutter        11\nWater Absorb        10\nClear Body          10\nRock Head           10\nPickup              10\nSand Veil            9\nHustle               8\nRivalry              8\nOwn Tempo            8\nInsomnia             8\nShield Dust          7\nSoundproof           7\nLeaf Guard           7\nFlame Body           7\nBeast Boost          7\nFlash Fire           7\nGluttony             7\nLimber               7\nBig Pecks            6\nEffect Spore         6\nIlluminate           6\nStench               6\nLightningrod         5\nSap Sipper           5\nPrankster            5\nBattle Armor         5\nVital Spirit         5\nCompoundeyes         5\nFrisk                5\nSnow Cloak           4\nIron Fist            4\nJustified            4\nFlower Veil          4\nHydration            4\nPlus                 4\nHealer               4\nDamp                 4\nShell Armor          4\nSpeed Boost          3\nSerene Grace         3\nUnaware              3\nMagnet Pull          3\nEarly Bird           3\nOvercoat             3\nVolt Absorb          3\nBulletproof          3\nIce Body             3\nSteadfast            3\nIron Barbs           3\nHoney Gather         3\nAnticipation         3\nSuction Cups         3\nSand Stream          3\nRough Skin           3\nMagma Armor          3\nFluffy               2\nDry Skin             2\nReckless             2\nStakeout             2\nRefrigerate          2\nMummy                2\nSolid Rock           2\nDefeatist            2\nIllusion             2\nStrong Jaw           2\nCorrosion            2\nMega Launcher        2\nTough Claws          2\nContrary             2\nWater Compaction     2\nSweet Veil           2\nNo Guard             2\nTelepathy            2\nWater Bubble         2\nDefiant              2\nMerciless            2\nSnow Warning         2\nSand Rush            2\nWater Veil           2\nSimple               2\nImmunity             2\nMold Breaker         2\nTrace                2\nSticky Hold          2\nShadow Tag           2\nAftermath            2\nLiquid Ooze          2\nTruant               2\nPure Power           2\nForewarn             2\nShields Down         1\nReceiver             1\nWonder Guard         1\nWimp Out             1\nEmergency Exit       1\nInnards Out          1\nSchooling            1\nRKS System           1\nDisguise             1\nComatose             1\nBattery              1\nDazzling             1\nBerserk              1\nSteelworker          1\nElectric Surge       1\nPsychic Surge        1\nGrassy Surge         1\nMisty Surge          1\nFull Metal Body      1\nShadow Shield        1\nCursed Body          1\nPrism Armor          1\nDancer               1\nDark Aura            1\nMinus                1\nDownload             1\nWonder Skin          1\nVictory Star         1\nMultitype            1\nBad Dreams           1\nSlow Start           1\nAdaptability         1\nMotor Drive          1\nTechnician           1\nFlower Gift          1\nTurboblaze           1\nTeravolt             1\nSand Force           1\nAir Lock             1\nMagician             1\nFur Coat             1\nDrought              1\nStance Change        1\nDrizzle              1\nColor Change         1\nForecast             1\nMarvel Scale         1\nWhite Smoke          1\nCheek Pouch          1\nFairy Aura           1\nSheer Force          1\nAura Break           1\nSoul-Heart           1\nName: Abilities_Main, dtype: int64"
     },
     "execution_count": 20,
     "metadata": {},
     "output_type": "execute_result"
    }
   ],
   "source": [
    "poke.Abilities_Main.value_counts()"
   ]
  },
  {
   "cell_type": "code",
   "execution_count": 21,
   "id": "d3ddcf34",
   "metadata": {
    "ExecuteTime": {
     "start_time": "2023-09-12T13:23:36.049670Z",
     "end_time": "2023-09-12T13:23:36.109727Z"
    }
   },
   "outputs": [
    {
     "data": {
      "text/plain": "165"
     },
     "execution_count": 21,
     "metadata": {},
     "output_type": "execute_result"
    }
   ],
   "source": [
    "poke.Abilities_Main.nunique()"
   ]
  },
  {
   "cell_type": "code",
   "execution_count": 22,
   "outputs": [],
   "source": [
    "poke.to_csv('VisualsData.csv')"
   ],
   "metadata": {
    "collapsed": false,
    "ExecuteTime": {
     "start_time": "2023-09-12T13:23:36.064686Z",
     "end_time": "2023-09-12T13:23:36.120736Z"
    }
   }
  },
  {
   "cell_type": "code",
   "execution_count": 23,
   "outputs": [
    {
     "data": {
      "text/plain": "Other          553\nLevitate        32\nSwift Swim      27\nChlorophyll     25\nKeen Eye        24\nOvergrow        21\nBlaze           21\nTorrent         21\nIntimidate      20\nPressure        20\nSturdy          20\nSwarm           17\nName: Abilities_Main, dtype: int64"
     },
     "execution_count": 23,
     "metadata": {},
     "output_type": "execute_result"
    }
   ],
   "source": [
    "# Choose a cutoff value and create a list of application types to be replaced\n",
    "# use the variable name `application_types_to_replace`\n",
    "df_abilities = poke.Abilities_Main.value_counts()\n",
    "abilities_to_replace = list(df_abilities.loc[df_abilities < 17].index)\n",
    "\n",
    "# Replace in dataframe\n",
    "for app in abilities_to_replace:\n",
    "    poke['Abilities_Main'] = poke['Abilities_Main'].replace(app, \"Other\")\n",
    "\n",
    "# Check to make sure binning was successful\n",
    "poke['Abilities_Main'].value_counts()"
   ],
   "metadata": {
    "collapsed": false,
    "ExecuteTime": {
     "start_time": "2023-09-12T13:23:36.080700Z",
     "end_time": "2023-09-12T13:23:36.148762Z"
    }
   }
  },
  {
   "cell_type": "code",
   "execution_count": 24,
   "outputs": [],
   "source": [
    "dum_col_A = pd.get_dummies(poke['Abilities_Main'], prefix='Ability_')"
   ],
   "metadata": {
    "collapsed": false,
    "ExecuteTime": {
     "start_time": "2023-09-12T13:23:36.126742Z",
     "end_time": "2023-09-12T13:23:36.169781Z"
    }
   }
  },
  {
   "cell_type": "code",
   "execution_count": 25,
   "id": "a6822ada",
   "metadata": {
    "ExecuteTime": {
     "start_time": "2023-09-12T13:23:36.141755Z",
     "end_time": "2023-09-12T13:23:36.199808Z"
    }
   },
   "outputs": [],
   "source": [
    "poke = pd.concat([poke, dum_col_A], axis=1)"
   ]
  },
  {
   "cell_type": "code",
   "execution_count": 26,
   "outputs": [
    {
     "data": {
      "text/plain": "                     abilities  against_bug  against_dark  against_dragon  \\\n0  ['Overgrow', 'Chlorophyll']          1.0           1.0             1.0   \n1  ['Overgrow', 'Chlorophyll']          1.0           1.0             1.0   \n2  ['Overgrow', 'Chlorophyll']          1.0           1.0             1.0   \n3     ['Blaze', 'Solar Power']          0.5           1.0             1.0   \n4     ['Blaze', 'Solar Power']          0.5           1.0             1.0   \n\n   against_electric  against_fairy  against_fight  against_fire  \\\n0               0.5            0.5            0.5           2.0   \n1               0.5            0.5            0.5           2.0   \n2               0.5            0.5            0.5           2.0   \n3               1.0            0.5            1.0           0.5   \n4               1.0            0.5            1.0           0.5   \n\n   against_flying  against_ghost  against_grass  against_ground  against_ice  \\\n0             2.0            1.0           0.25             1.0          2.0   \n1             2.0            1.0           0.25             1.0          2.0   \n2             2.0            1.0           0.25             1.0          2.0   \n3             1.0            1.0           0.50             2.0          0.5   \n4             1.0            1.0           0.50             2.0          0.5   \n\n   against_normal  against_poison  against_psychic  against_rock  \\\n0             1.0             1.0              2.0           1.0   \n1             1.0             1.0              2.0           1.0   \n2             1.0             1.0              2.0           1.0   \n3             1.0             1.0              1.0           2.0   \n4             1.0             1.0              1.0           2.0   \n\n   against_steel  against_water  attack  base_egg_steps  base_happiness  \\\n0            1.0            0.5      49            5120              70   \n1            1.0            0.5      62            5120              70   \n2            1.0            0.5     100            5120              70   \n3            0.5            2.0      52            5120              70   \n4            0.5            2.0      64            5120              70   \n\n   base_total capture_rate   classfication  defense  experience_growth  hp  \\\n0         318           45    Seed Pokémon       49            1059860  45   \n1         405           45    Seed Pokémon       63            1059860  60   \n2         625           45    Seed Pokémon      123            1059860  80   \n3         309           45  Lizard Pokémon       43            1059860  39   \n4         405           45   Flame Pokémon       58            1059860  58   \n\n         name  pokedex_number  sp_attack  sp_defense  speed  type1   type2  \\\n0   Bulbasaur               1         65          65     45  grass  poison   \n1     Ivysaur               2         80          80     60  grass  poison   \n2    Venusaur               3        122         120     80  grass  poison   \n3  Charmander               4         60          50     65   fire    None   \n4  Charmeleon               5         80          65     80   fire    None   \n\n   generation  is_legendary  Type1_bug  Type1_dark  Type1_dragon  \\\n0           1             0          0           0             0   \n1           1             0          0           0             0   \n2           1             0          0           0             0   \n3           1             0          0           0             0   \n4           1             0          0           0             0   \n\n   Type1_electric  Type1_fairy  Type1_fighting  Type1_fire  Type1_flying  \\\n0               0            0               0           0             0   \n1               0            0               0           0             0   \n2               0            0               0           0             0   \n3               0            0               0           1             0   \n4               0            0               0           1             0   \n\n   Type1_ghost  Type1_grass  Type1_ground  Type1_ice  Type1_normal  \\\n0            0            1             0          0             0   \n1            0            1             0          0             0   \n2            0            1             0          0             0   \n3            0            0             0          0             0   \n4            0            0             0          0             0   \n\n   Type1_poison  Type1_psychic  Type1_rock  Type1_steel  Type1_water  \\\n0             0              0           0            0            0   \n1             0              0           0            0            0   \n2             0              0           0            0            0   \n3             0              0           0            0            0   \n4             0              0           0            0            0   \n\n   Type2_None  Type2_bug  Type2_dark  Type2_dragon  Type2_electric  \\\n0           0          0           0             0               0   \n1           0          0           0             0               0   \n2           0          0           0             0               0   \n3           1          0           0             0               0   \n4           1          0           0             0               0   \n\n   Type2_fairy  Type2_fighting  Type2_fire  Type2_flying  Type2_ghost  \\\n0            0               0           0             0            0   \n1            0               0           0             0            0   \n2            0               0           0             0            0   \n3            0               0           0             0            0   \n4            0               0           0             0            0   \n\n   Type2_grass  Type2_ground  Type2_ice  Type2_normal  Type2_poison  \\\n0            0             0          0             0             1   \n1            0             0          0             0             1   \n2            0             0          0             0             1   \n3            0             0          0             0             0   \n4            0             0          0             0             0   \n\n   Type2_psychic  Type2_rock  Type2_steel  Type2_water  Abilities_Counts  \\\n0              0           0            0            0                 2   \n1              0           0            0            0                 2   \n2              0           0            0            0                 2   \n3              0           0            0            0                 2   \n4              0           0            0            0                 2   \n\n  Abilities_Main  Ability__Blaze  Ability__Chlorophyll  Ability__Intimidate  \\\n0       Overgrow               0                     0                    0   \n1       Overgrow               0                     0                    0   \n2       Overgrow               0                     0                    0   \n3          Blaze               1                     0                    0   \n4          Blaze               1                     0                    0   \n\n   Ability__Keen Eye  Ability__Levitate  Ability__Other  Ability__Overgrow  \\\n0                  0                  0               0                  1   \n1                  0                  0               0                  1   \n2                  0                  0               0                  1   \n3                  0                  0               0                  0   \n4                  0                  0               0                  0   \n\n   Ability__Pressure  Ability__Sturdy  Ability__Swarm  Ability__Swift Swim  \\\n0                  0                0               0                    0   \n1                  0                0               0                    0   \n2                  0                0               0                    0   \n3                  0                0               0                    0   \n4                  0                0               0                    0   \n\n   Ability__Torrent  \n0                 0  \n1                 0  \n2                 0  \n3                 0  \n4                 0  ",
      "text/html": "<div>\n<style scoped>\n    .dataframe tbody tr th:only-of-type {\n        vertical-align: middle;\n    }\n\n    .dataframe tbody tr th {\n        vertical-align: top;\n    }\n\n    .dataframe thead th {\n        text-align: right;\n    }\n</style>\n<table border=\"1\" class=\"dataframe\">\n  <thead>\n    <tr style=\"text-align: right;\">\n      <th></th>\n      <th>abilities</th>\n      <th>against_bug</th>\n      <th>against_dark</th>\n      <th>against_dragon</th>\n      <th>against_electric</th>\n      <th>against_fairy</th>\n      <th>against_fight</th>\n      <th>against_fire</th>\n      <th>against_flying</th>\n      <th>against_ghost</th>\n      <th>against_grass</th>\n      <th>against_ground</th>\n      <th>against_ice</th>\n      <th>against_normal</th>\n      <th>against_poison</th>\n      <th>against_psychic</th>\n      <th>against_rock</th>\n      <th>against_steel</th>\n      <th>against_water</th>\n      <th>attack</th>\n      <th>base_egg_steps</th>\n      <th>base_happiness</th>\n      <th>base_total</th>\n      <th>capture_rate</th>\n      <th>classfication</th>\n      <th>defense</th>\n      <th>experience_growth</th>\n      <th>hp</th>\n      <th>name</th>\n      <th>pokedex_number</th>\n      <th>sp_attack</th>\n      <th>sp_defense</th>\n      <th>speed</th>\n      <th>type1</th>\n      <th>type2</th>\n      <th>generation</th>\n      <th>is_legendary</th>\n      <th>Type1_bug</th>\n      <th>Type1_dark</th>\n      <th>Type1_dragon</th>\n      <th>Type1_electric</th>\n      <th>Type1_fairy</th>\n      <th>Type1_fighting</th>\n      <th>Type1_fire</th>\n      <th>Type1_flying</th>\n      <th>Type1_ghost</th>\n      <th>Type1_grass</th>\n      <th>Type1_ground</th>\n      <th>Type1_ice</th>\n      <th>Type1_normal</th>\n      <th>Type1_poison</th>\n      <th>Type1_psychic</th>\n      <th>Type1_rock</th>\n      <th>Type1_steel</th>\n      <th>Type1_water</th>\n      <th>Type2_None</th>\n      <th>Type2_bug</th>\n      <th>Type2_dark</th>\n      <th>Type2_dragon</th>\n      <th>Type2_electric</th>\n      <th>Type2_fairy</th>\n      <th>Type2_fighting</th>\n      <th>Type2_fire</th>\n      <th>Type2_flying</th>\n      <th>Type2_ghost</th>\n      <th>Type2_grass</th>\n      <th>Type2_ground</th>\n      <th>Type2_ice</th>\n      <th>Type2_normal</th>\n      <th>Type2_poison</th>\n      <th>Type2_psychic</th>\n      <th>Type2_rock</th>\n      <th>Type2_steel</th>\n      <th>Type2_water</th>\n      <th>Abilities_Counts</th>\n      <th>Abilities_Main</th>\n      <th>Ability__Blaze</th>\n      <th>Ability__Chlorophyll</th>\n      <th>Ability__Intimidate</th>\n      <th>Ability__Keen Eye</th>\n      <th>Ability__Levitate</th>\n      <th>Ability__Other</th>\n      <th>Ability__Overgrow</th>\n      <th>Ability__Pressure</th>\n      <th>Ability__Sturdy</th>\n      <th>Ability__Swarm</th>\n      <th>Ability__Swift Swim</th>\n      <th>Ability__Torrent</th>\n    </tr>\n  </thead>\n  <tbody>\n    <tr>\n      <th>0</th>\n      <td>['Overgrow', 'Chlorophyll']</td>\n      <td>1.0</td>\n      <td>1.0</td>\n      <td>1.0</td>\n      <td>0.5</td>\n      <td>0.5</td>\n      <td>0.5</td>\n      <td>2.0</td>\n      <td>2.0</td>\n      <td>1.0</td>\n      <td>0.25</td>\n      <td>1.0</td>\n      <td>2.0</td>\n      <td>1.0</td>\n      <td>1.0</td>\n      <td>2.0</td>\n      <td>1.0</td>\n      <td>1.0</td>\n      <td>0.5</td>\n      <td>49</td>\n      <td>5120</td>\n      <td>70</td>\n      <td>318</td>\n      <td>45</td>\n      <td>Seed Pokémon</td>\n      <td>49</td>\n      <td>1059860</td>\n      <td>45</td>\n      <td>Bulbasaur</td>\n      <td>1</td>\n      <td>65</td>\n      <td>65</td>\n      <td>45</td>\n      <td>grass</td>\n      <td>poison</td>\n      <td>1</td>\n      <td>0</td>\n      <td>0</td>\n      <td>0</td>\n      <td>0</td>\n      <td>0</td>\n      <td>0</td>\n      <td>0</td>\n      <td>0</td>\n      <td>0</td>\n      <td>0</td>\n      <td>1</td>\n      <td>0</td>\n      <td>0</td>\n      <td>0</td>\n      <td>0</td>\n      <td>0</td>\n      <td>0</td>\n      <td>0</td>\n      <td>0</td>\n      <td>0</td>\n      <td>0</td>\n      <td>0</td>\n      <td>0</td>\n      <td>0</td>\n      <td>0</td>\n      <td>0</td>\n      <td>0</td>\n      <td>0</td>\n      <td>0</td>\n      <td>0</td>\n      <td>0</td>\n      <td>0</td>\n      <td>0</td>\n      <td>1</td>\n      <td>0</td>\n      <td>0</td>\n      <td>0</td>\n      <td>0</td>\n      <td>2</td>\n      <td>Overgrow</td>\n      <td>0</td>\n      <td>0</td>\n      <td>0</td>\n      <td>0</td>\n      <td>0</td>\n      <td>0</td>\n      <td>1</td>\n      <td>0</td>\n      <td>0</td>\n      <td>0</td>\n      <td>0</td>\n      <td>0</td>\n    </tr>\n    <tr>\n      <th>1</th>\n      <td>['Overgrow', 'Chlorophyll']</td>\n      <td>1.0</td>\n      <td>1.0</td>\n      <td>1.0</td>\n      <td>0.5</td>\n      <td>0.5</td>\n      <td>0.5</td>\n      <td>2.0</td>\n      <td>2.0</td>\n      <td>1.0</td>\n      <td>0.25</td>\n      <td>1.0</td>\n      <td>2.0</td>\n      <td>1.0</td>\n      <td>1.0</td>\n      <td>2.0</td>\n      <td>1.0</td>\n      <td>1.0</td>\n      <td>0.5</td>\n      <td>62</td>\n      <td>5120</td>\n      <td>70</td>\n      <td>405</td>\n      <td>45</td>\n      <td>Seed Pokémon</td>\n      <td>63</td>\n      <td>1059860</td>\n      <td>60</td>\n      <td>Ivysaur</td>\n      <td>2</td>\n      <td>80</td>\n      <td>80</td>\n      <td>60</td>\n      <td>grass</td>\n      <td>poison</td>\n      <td>1</td>\n      <td>0</td>\n      <td>0</td>\n      <td>0</td>\n      <td>0</td>\n      <td>0</td>\n      <td>0</td>\n      <td>0</td>\n      <td>0</td>\n      <td>0</td>\n      <td>0</td>\n      <td>1</td>\n      <td>0</td>\n      <td>0</td>\n      <td>0</td>\n      <td>0</td>\n      <td>0</td>\n      <td>0</td>\n      <td>0</td>\n      <td>0</td>\n      <td>0</td>\n      <td>0</td>\n      <td>0</td>\n      <td>0</td>\n      <td>0</td>\n      <td>0</td>\n      <td>0</td>\n      <td>0</td>\n      <td>0</td>\n      <td>0</td>\n      <td>0</td>\n      <td>0</td>\n      <td>0</td>\n      <td>0</td>\n      <td>1</td>\n      <td>0</td>\n      <td>0</td>\n      <td>0</td>\n      <td>0</td>\n      <td>2</td>\n      <td>Overgrow</td>\n      <td>0</td>\n      <td>0</td>\n      <td>0</td>\n      <td>0</td>\n      <td>0</td>\n      <td>0</td>\n      <td>1</td>\n      <td>0</td>\n      <td>0</td>\n      <td>0</td>\n      <td>0</td>\n      <td>0</td>\n    </tr>\n    <tr>\n      <th>2</th>\n      <td>['Overgrow', 'Chlorophyll']</td>\n      <td>1.0</td>\n      <td>1.0</td>\n      <td>1.0</td>\n      <td>0.5</td>\n      <td>0.5</td>\n      <td>0.5</td>\n      <td>2.0</td>\n      <td>2.0</td>\n      <td>1.0</td>\n      <td>0.25</td>\n      <td>1.0</td>\n      <td>2.0</td>\n      <td>1.0</td>\n      <td>1.0</td>\n      <td>2.0</td>\n      <td>1.0</td>\n      <td>1.0</td>\n      <td>0.5</td>\n      <td>100</td>\n      <td>5120</td>\n      <td>70</td>\n      <td>625</td>\n      <td>45</td>\n      <td>Seed Pokémon</td>\n      <td>123</td>\n      <td>1059860</td>\n      <td>80</td>\n      <td>Venusaur</td>\n      <td>3</td>\n      <td>122</td>\n      <td>120</td>\n      <td>80</td>\n      <td>grass</td>\n      <td>poison</td>\n      <td>1</td>\n      <td>0</td>\n      <td>0</td>\n      <td>0</td>\n      <td>0</td>\n      <td>0</td>\n      <td>0</td>\n      <td>0</td>\n      <td>0</td>\n      <td>0</td>\n      <td>0</td>\n      <td>1</td>\n      <td>0</td>\n      <td>0</td>\n      <td>0</td>\n      <td>0</td>\n      <td>0</td>\n      <td>0</td>\n      <td>0</td>\n      <td>0</td>\n      <td>0</td>\n      <td>0</td>\n      <td>0</td>\n      <td>0</td>\n      <td>0</td>\n      <td>0</td>\n      <td>0</td>\n      <td>0</td>\n      <td>0</td>\n      <td>0</td>\n      <td>0</td>\n      <td>0</td>\n      <td>0</td>\n      <td>0</td>\n      <td>1</td>\n      <td>0</td>\n      <td>0</td>\n      <td>0</td>\n      <td>0</td>\n      <td>2</td>\n      <td>Overgrow</td>\n      <td>0</td>\n      <td>0</td>\n      <td>0</td>\n      <td>0</td>\n      <td>0</td>\n      <td>0</td>\n      <td>1</td>\n      <td>0</td>\n      <td>0</td>\n      <td>0</td>\n      <td>0</td>\n      <td>0</td>\n    </tr>\n    <tr>\n      <th>3</th>\n      <td>['Blaze', 'Solar Power']</td>\n      <td>0.5</td>\n      <td>1.0</td>\n      <td>1.0</td>\n      <td>1.0</td>\n      <td>0.5</td>\n      <td>1.0</td>\n      <td>0.5</td>\n      <td>1.0</td>\n      <td>1.0</td>\n      <td>0.50</td>\n      <td>2.0</td>\n      <td>0.5</td>\n      <td>1.0</td>\n      <td>1.0</td>\n      <td>1.0</td>\n      <td>2.0</td>\n      <td>0.5</td>\n      <td>2.0</td>\n      <td>52</td>\n      <td>5120</td>\n      <td>70</td>\n      <td>309</td>\n      <td>45</td>\n      <td>Lizard Pokémon</td>\n      <td>43</td>\n      <td>1059860</td>\n      <td>39</td>\n      <td>Charmander</td>\n      <td>4</td>\n      <td>60</td>\n      <td>50</td>\n      <td>65</td>\n      <td>fire</td>\n      <td>None</td>\n      <td>1</td>\n      <td>0</td>\n      <td>0</td>\n      <td>0</td>\n      <td>0</td>\n      <td>0</td>\n      <td>0</td>\n      <td>0</td>\n      <td>1</td>\n      <td>0</td>\n      <td>0</td>\n      <td>0</td>\n      <td>0</td>\n      <td>0</td>\n      <td>0</td>\n      <td>0</td>\n      <td>0</td>\n      <td>0</td>\n      <td>0</td>\n      <td>0</td>\n      <td>1</td>\n      <td>0</td>\n      <td>0</td>\n      <td>0</td>\n      <td>0</td>\n      <td>0</td>\n      <td>0</td>\n      <td>0</td>\n      <td>0</td>\n      <td>0</td>\n      <td>0</td>\n      <td>0</td>\n      <td>0</td>\n      <td>0</td>\n      <td>0</td>\n      <td>0</td>\n      <td>0</td>\n      <td>0</td>\n      <td>0</td>\n      <td>2</td>\n      <td>Blaze</td>\n      <td>1</td>\n      <td>0</td>\n      <td>0</td>\n      <td>0</td>\n      <td>0</td>\n      <td>0</td>\n      <td>0</td>\n      <td>0</td>\n      <td>0</td>\n      <td>0</td>\n      <td>0</td>\n      <td>0</td>\n    </tr>\n    <tr>\n      <th>4</th>\n      <td>['Blaze', 'Solar Power']</td>\n      <td>0.5</td>\n      <td>1.0</td>\n      <td>1.0</td>\n      <td>1.0</td>\n      <td>0.5</td>\n      <td>1.0</td>\n      <td>0.5</td>\n      <td>1.0</td>\n      <td>1.0</td>\n      <td>0.50</td>\n      <td>2.0</td>\n      <td>0.5</td>\n      <td>1.0</td>\n      <td>1.0</td>\n      <td>1.0</td>\n      <td>2.0</td>\n      <td>0.5</td>\n      <td>2.0</td>\n      <td>64</td>\n      <td>5120</td>\n      <td>70</td>\n      <td>405</td>\n      <td>45</td>\n      <td>Flame Pokémon</td>\n      <td>58</td>\n      <td>1059860</td>\n      <td>58</td>\n      <td>Charmeleon</td>\n      <td>5</td>\n      <td>80</td>\n      <td>65</td>\n      <td>80</td>\n      <td>fire</td>\n      <td>None</td>\n      <td>1</td>\n      <td>0</td>\n      <td>0</td>\n      <td>0</td>\n      <td>0</td>\n      <td>0</td>\n      <td>0</td>\n      <td>0</td>\n      <td>1</td>\n      <td>0</td>\n      <td>0</td>\n      <td>0</td>\n      <td>0</td>\n      <td>0</td>\n      <td>0</td>\n      <td>0</td>\n      <td>0</td>\n      <td>0</td>\n      <td>0</td>\n      <td>0</td>\n      <td>1</td>\n      <td>0</td>\n      <td>0</td>\n      <td>0</td>\n      <td>0</td>\n      <td>0</td>\n      <td>0</td>\n      <td>0</td>\n      <td>0</td>\n      <td>0</td>\n      <td>0</td>\n      <td>0</td>\n      <td>0</td>\n      <td>0</td>\n      <td>0</td>\n      <td>0</td>\n      <td>0</td>\n      <td>0</td>\n      <td>0</td>\n      <td>2</td>\n      <td>Blaze</td>\n      <td>1</td>\n      <td>0</td>\n      <td>0</td>\n      <td>0</td>\n      <td>0</td>\n      <td>0</td>\n      <td>0</td>\n      <td>0</td>\n      <td>0</td>\n      <td>0</td>\n      <td>0</td>\n      <td>0</td>\n    </tr>\n  </tbody>\n</table>\n</div>"
     },
     "execution_count": 26,
     "metadata": {},
     "output_type": "execute_result"
    }
   ],
   "source": [
    "poke.head()"
   ],
   "metadata": {
    "collapsed": false,
    "ExecuteTime": {
     "start_time": "2023-09-12T13:23:36.157771Z",
     "end_time": "2023-09-12T13:23:36.240846Z"
    }
   }
  },
  {
   "cell_type": "code",
   "execution_count": 27,
   "outputs": [
    {
     "data": {
      "text/plain": "   against_bug  against_dark  against_dragon  against_electric  against_fairy  \\\n0          1.0           1.0             1.0               0.5            0.5   \n1          1.0           1.0             1.0               0.5            0.5   \n2          1.0           1.0             1.0               0.5            0.5   \n3          0.5           1.0             1.0               1.0            0.5   \n4          0.5           1.0             1.0               1.0            0.5   \n\n   against_fight  against_fire  against_flying  against_ghost  against_grass  \\\n0            0.5           2.0             2.0            1.0           0.25   \n1            0.5           2.0             2.0            1.0           0.25   \n2            0.5           2.0             2.0            1.0           0.25   \n3            1.0           0.5             1.0            1.0           0.50   \n4            1.0           0.5             1.0            1.0           0.50   \n\n   against_ground  against_ice  against_normal  against_poison  \\\n0             1.0          2.0             1.0             1.0   \n1             1.0          2.0             1.0             1.0   \n2             1.0          2.0             1.0             1.0   \n3             2.0          0.5             1.0             1.0   \n4             2.0          0.5             1.0             1.0   \n\n   against_psychic  against_rock  against_steel  against_water  attack  \\\n0              2.0           1.0            1.0            0.5      49   \n1              2.0           1.0            1.0            0.5      62   \n2              2.0           1.0            1.0            0.5     100   \n3              1.0           2.0            0.5            2.0      52   \n4              1.0           2.0            0.5            2.0      64   \n\n   base_egg_steps  base_happiness  base_total capture_rate   classfication  \\\n0            5120              70         318           45    Seed Pokémon   \n1            5120              70         405           45    Seed Pokémon   \n2            5120              70         625           45    Seed Pokémon   \n3            5120              70         309           45  Lizard Pokémon   \n4            5120              70         405           45   Flame Pokémon   \n\n   defense  experience_growth  hp        name  pokedex_number  sp_attack  \\\n0       49            1059860  45   Bulbasaur               1         65   \n1       63            1059860  60     Ivysaur               2         80   \n2      123            1059860  80    Venusaur               3        122   \n3       43            1059860  39  Charmander               4         60   \n4       58            1059860  58  Charmeleon               5         80   \n\n   sp_defense  speed  type1   type2  generation  is_legendary  Type1_bug  \\\n0          65     45  grass  poison           1             0          0   \n1          80     60  grass  poison           1             0          0   \n2         120     80  grass  poison           1             0          0   \n3          50     65   fire    None           1             0          0   \n4          65     80   fire    None           1             0          0   \n\n   Type1_dark  Type1_dragon  Type1_electric  Type1_fairy  Type1_fighting  \\\n0           0             0               0            0               0   \n1           0             0               0            0               0   \n2           0             0               0            0               0   \n3           0             0               0            0               0   \n4           0             0               0            0               0   \n\n   Type1_fire  Type1_flying  Type1_ghost  Type1_grass  Type1_ground  \\\n0           0             0            0            1             0   \n1           0             0            0            1             0   \n2           0             0            0            1             0   \n3           1             0            0            0             0   \n4           1             0            0            0             0   \n\n   Type1_ice  Type1_normal  Type1_poison  Type1_psychic  Type1_rock  \\\n0          0             0             0              0           0   \n1          0             0             0              0           0   \n2          0             0             0              0           0   \n3          0             0             0              0           0   \n4          0             0             0              0           0   \n\n   Type1_steel  Type1_water  Type2_None  Type2_bug  Type2_dark  Type2_dragon  \\\n0            0            0           0          0           0             0   \n1            0            0           0          0           0             0   \n2            0            0           0          0           0             0   \n3            0            0           1          0           0             0   \n4            0            0           1          0           0             0   \n\n   Type2_electric  Type2_fairy  Type2_fighting  Type2_fire  Type2_flying  \\\n0               0            0               0           0             0   \n1               0            0               0           0             0   \n2               0            0               0           0             0   \n3               0            0               0           0             0   \n4               0            0               0           0             0   \n\n   Type2_ghost  Type2_grass  Type2_ground  Type2_ice  Type2_normal  \\\n0            0            0             0          0             0   \n1            0            0             0          0             0   \n2            0            0             0          0             0   \n3            0            0             0          0             0   \n4            0            0             0          0             0   \n\n   Type2_poison  Type2_psychic  Type2_rock  Type2_steel  Type2_water  \\\n0             1              0           0            0            0   \n1             1              0           0            0            0   \n2             1              0           0            0            0   \n3             0              0           0            0            0   \n4             0              0           0            0            0   \n\n   Abilities_Counts Abilities_Main  Ability__Blaze  Ability__Chlorophyll  \\\n0                 2       Overgrow               0                     0   \n1                 2       Overgrow               0                     0   \n2                 2       Overgrow               0                     0   \n3                 2          Blaze               1                     0   \n4                 2          Blaze               1                     0   \n\n   Ability__Intimidate  Ability__Keen Eye  Ability__Levitate  Ability__Other  \\\n0                    0                  0                  0               0   \n1                    0                  0                  0               0   \n2                    0                  0                  0               0   \n3                    0                  0                  0               0   \n4                    0                  0                  0               0   \n\n   Ability__Overgrow  Ability__Pressure  Ability__Sturdy  Ability__Swarm  \\\n0                  1                  0                0               0   \n1                  1                  0                0               0   \n2                  1                  0                0               0   \n3                  0                  0                0               0   \n4                  0                  0                0               0   \n\n   Ability__Swift Swim  Ability__Torrent  \n0                    0                 0  \n1                    0                 0  \n2                    0                 0  \n3                    0                 0  \n4                    0                 0  ",
      "text/html": "<div>\n<style scoped>\n    .dataframe tbody tr th:only-of-type {\n        vertical-align: middle;\n    }\n\n    .dataframe tbody tr th {\n        vertical-align: top;\n    }\n\n    .dataframe thead th {\n        text-align: right;\n    }\n</style>\n<table border=\"1\" class=\"dataframe\">\n  <thead>\n    <tr style=\"text-align: right;\">\n      <th></th>\n      <th>against_bug</th>\n      <th>against_dark</th>\n      <th>against_dragon</th>\n      <th>against_electric</th>\n      <th>against_fairy</th>\n      <th>against_fight</th>\n      <th>against_fire</th>\n      <th>against_flying</th>\n      <th>against_ghost</th>\n      <th>against_grass</th>\n      <th>against_ground</th>\n      <th>against_ice</th>\n      <th>against_normal</th>\n      <th>against_poison</th>\n      <th>against_psychic</th>\n      <th>against_rock</th>\n      <th>against_steel</th>\n      <th>against_water</th>\n      <th>attack</th>\n      <th>base_egg_steps</th>\n      <th>base_happiness</th>\n      <th>base_total</th>\n      <th>capture_rate</th>\n      <th>classfication</th>\n      <th>defense</th>\n      <th>experience_growth</th>\n      <th>hp</th>\n      <th>name</th>\n      <th>pokedex_number</th>\n      <th>sp_attack</th>\n      <th>sp_defense</th>\n      <th>speed</th>\n      <th>type1</th>\n      <th>type2</th>\n      <th>generation</th>\n      <th>is_legendary</th>\n      <th>Type1_bug</th>\n      <th>Type1_dark</th>\n      <th>Type1_dragon</th>\n      <th>Type1_electric</th>\n      <th>Type1_fairy</th>\n      <th>Type1_fighting</th>\n      <th>Type1_fire</th>\n      <th>Type1_flying</th>\n      <th>Type1_ghost</th>\n      <th>Type1_grass</th>\n      <th>Type1_ground</th>\n      <th>Type1_ice</th>\n      <th>Type1_normal</th>\n      <th>Type1_poison</th>\n      <th>Type1_psychic</th>\n      <th>Type1_rock</th>\n      <th>Type1_steel</th>\n      <th>Type1_water</th>\n      <th>Type2_None</th>\n      <th>Type2_bug</th>\n      <th>Type2_dark</th>\n      <th>Type2_dragon</th>\n      <th>Type2_electric</th>\n      <th>Type2_fairy</th>\n      <th>Type2_fighting</th>\n      <th>Type2_fire</th>\n      <th>Type2_flying</th>\n      <th>Type2_ghost</th>\n      <th>Type2_grass</th>\n      <th>Type2_ground</th>\n      <th>Type2_ice</th>\n      <th>Type2_normal</th>\n      <th>Type2_poison</th>\n      <th>Type2_psychic</th>\n      <th>Type2_rock</th>\n      <th>Type2_steel</th>\n      <th>Type2_water</th>\n      <th>Abilities_Counts</th>\n      <th>Abilities_Main</th>\n      <th>Ability__Blaze</th>\n      <th>Ability__Chlorophyll</th>\n      <th>Ability__Intimidate</th>\n      <th>Ability__Keen Eye</th>\n      <th>Ability__Levitate</th>\n      <th>Ability__Other</th>\n      <th>Ability__Overgrow</th>\n      <th>Ability__Pressure</th>\n      <th>Ability__Sturdy</th>\n      <th>Ability__Swarm</th>\n      <th>Ability__Swift Swim</th>\n      <th>Ability__Torrent</th>\n    </tr>\n  </thead>\n  <tbody>\n    <tr>\n      <th>0</th>\n      <td>1.0</td>\n      <td>1.0</td>\n      <td>1.0</td>\n      <td>0.5</td>\n      <td>0.5</td>\n      <td>0.5</td>\n      <td>2.0</td>\n      <td>2.0</td>\n      <td>1.0</td>\n      <td>0.25</td>\n      <td>1.0</td>\n      <td>2.0</td>\n      <td>1.0</td>\n      <td>1.0</td>\n      <td>2.0</td>\n      <td>1.0</td>\n      <td>1.0</td>\n      <td>0.5</td>\n      <td>49</td>\n      <td>5120</td>\n      <td>70</td>\n      <td>318</td>\n      <td>45</td>\n      <td>Seed Pokémon</td>\n      <td>49</td>\n      <td>1059860</td>\n      <td>45</td>\n      <td>Bulbasaur</td>\n      <td>1</td>\n      <td>65</td>\n      <td>65</td>\n      <td>45</td>\n      <td>grass</td>\n      <td>poison</td>\n      <td>1</td>\n      <td>0</td>\n      <td>0</td>\n      <td>0</td>\n      <td>0</td>\n      <td>0</td>\n      <td>0</td>\n      <td>0</td>\n      <td>0</td>\n      <td>0</td>\n      <td>0</td>\n      <td>1</td>\n      <td>0</td>\n      <td>0</td>\n      <td>0</td>\n      <td>0</td>\n      <td>0</td>\n      <td>0</td>\n      <td>0</td>\n      <td>0</td>\n      <td>0</td>\n      <td>0</td>\n      <td>0</td>\n      <td>0</td>\n      <td>0</td>\n      <td>0</td>\n      <td>0</td>\n      <td>0</td>\n      <td>0</td>\n      <td>0</td>\n      <td>0</td>\n      <td>0</td>\n      <td>0</td>\n      <td>0</td>\n      <td>1</td>\n      <td>0</td>\n      <td>0</td>\n      <td>0</td>\n      <td>0</td>\n      <td>2</td>\n      <td>Overgrow</td>\n      <td>0</td>\n      <td>0</td>\n      <td>0</td>\n      <td>0</td>\n      <td>0</td>\n      <td>0</td>\n      <td>1</td>\n      <td>0</td>\n      <td>0</td>\n      <td>0</td>\n      <td>0</td>\n      <td>0</td>\n    </tr>\n    <tr>\n      <th>1</th>\n      <td>1.0</td>\n      <td>1.0</td>\n      <td>1.0</td>\n      <td>0.5</td>\n      <td>0.5</td>\n      <td>0.5</td>\n      <td>2.0</td>\n      <td>2.0</td>\n      <td>1.0</td>\n      <td>0.25</td>\n      <td>1.0</td>\n      <td>2.0</td>\n      <td>1.0</td>\n      <td>1.0</td>\n      <td>2.0</td>\n      <td>1.0</td>\n      <td>1.0</td>\n      <td>0.5</td>\n      <td>62</td>\n      <td>5120</td>\n      <td>70</td>\n      <td>405</td>\n      <td>45</td>\n      <td>Seed Pokémon</td>\n      <td>63</td>\n      <td>1059860</td>\n      <td>60</td>\n      <td>Ivysaur</td>\n      <td>2</td>\n      <td>80</td>\n      <td>80</td>\n      <td>60</td>\n      <td>grass</td>\n      <td>poison</td>\n      <td>1</td>\n      <td>0</td>\n      <td>0</td>\n      <td>0</td>\n      <td>0</td>\n      <td>0</td>\n      <td>0</td>\n      <td>0</td>\n      <td>0</td>\n      <td>0</td>\n      <td>0</td>\n      <td>1</td>\n      <td>0</td>\n      <td>0</td>\n      <td>0</td>\n      <td>0</td>\n      <td>0</td>\n      <td>0</td>\n      <td>0</td>\n      <td>0</td>\n      <td>0</td>\n      <td>0</td>\n      <td>0</td>\n      <td>0</td>\n      <td>0</td>\n      <td>0</td>\n      <td>0</td>\n      <td>0</td>\n      <td>0</td>\n      <td>0</td>\n      <td>0</td>\n      <td>0</td>\n      <td>0</td>\n      <td>0</td>\n      <td>1</td>\n      <td>0</td>\n      <td>0</td>\n      <td>0</td>\n      <td>0</td>\n      <td>2</td>\n      <td>Overgrow</td>\n      <td>0</td>\n      <td>0</td>\n      <td>0</td>\n      <td>0</td>\n      <td>0</td>\n      <td>0</td>\n      <td>1</td>\n      <td>0</td>\n      <td>0</td>\n      <td>0</td>\n      <td>0</td>\n      <td>0</td>\n    </tr>\n    <tr>\n      <th>2</th>\n      <td>1.0</td>\n      <td>1.0</td>\n      <td>1.0</td>\n      <td>0.5</td>\n      <td>0.5</td>\n      <td>0.5</td>\n      <td>2.0</td>\n      <td>2.0</td>\n      <td>1.0</td>\n      <td>0.25</td>\n      <td>1.0</td>\n      <td>2.0</td>\n      <td>1.0</td>\n      <td>1.0</td>\n      <td>2.0</td>\n      <td>1.0</td>\n      <td>1.0</td>\n      <td>0.5</td>\n      <td>100</td>\n      <td>5120</td>\n      <td>70</td>\n      <td>625</td>\n      <td>45</td>\n      <td>Seed Pokémon</td>\n      <td>123</td>\n      <td>1059860</td>\n      <td>80</td>\n      <td>Venusaur</td>\n      <td>3</td>\n      <td>122</td>\n      <td>120</td>\n      <td>80</td>\n      <td>grass</td>\n      <td>poison</td>\n      <td>1</td>\n      <td>0</td>\n      <td>0</td>\n      <td>0</td>\n      <td>0</td>\n      <td>0</td>\n      <td>0</td>\n      <td>0</td>\n      <td>0</td>\n      <td>0</td>\n      <td>0</td>\n      <td>1</td>\n      <td>0</td>\n      <td>0</td>\n      <td>0</td>\n      <td>0</td>\n      <td>0</td>\n      <td>0</td>\n      <td>0</td>\n      <td>0</td>\n      <td>0</td>\n      <td>0</td>\n      <td>0</td>\n      <td>0</td>\n      <td>0</td>\n      <td>0</td>\n      <td>0</td>\n      <td>0</td>\n      <td>0</td>\n      <td>0</td>\n      <td>0</td>\n      <td>0</td>\n      <td>0</td>\n      <td>0</td>\n      <td>1</td>\n      <td>0</td>\n      <td>0</td>\n      <td>0</td>\n      <td>0</td>\n      <td>2</td>\n      <td>Overgrow</td>\n      <td>0</td>\n      <td>0</td>\n      <td>0</td>\n      <td>0</td>\n      <td>0</td>\n      <td>0</td>\n      <td>1</td>\n      <td>0</td>\n      <td>0</td>\n      <td>0</td>\n      <td>0</td>\n      <td>0</td>\n    </tr>\n    <tr>\n      <th>3</th>\n      <td>0.5</td>\n      <td>1.0</td>\n      <td>1.0</td>\n      <td>1.0</td>\n      <td>0.5</td>\n      <td>1.0</td>\n      <td>0.5</td>\n      <td>1.0</td>\n      <td>1.0</td>\n      <td>0.50</td>\n      <td>2.0</td>\n      <td>0.5</td>\n      <td>1.0</td>\n      <td>1.0</td>\n      <td>1.0</td>\n      <td>2.0</td>\n      <td>0.5</td>\n      <td>2.0</td>\n      <td>52</td>\n      <td>5120</td>\n      <td>70</td>\n      <td>309</td>\n      <td>45</td>\n      <td>Lizard Pokémon</td>\n      <td>43</td>\n      <td>1059860</td>\n      <td>39</td>\n      <td>Charmander</td>\n      <td>4</td>\n      <td>60</td>\n      <td>50</td>\n      <td>65</td>\n      <td>fire</td>\n      <td>None</td>\n      <td>1</td>\n      <td>0</td>\n      <td>0</td>\n      <td>0</td>\n      <td>0</td>\n      <td>0</td>\n      <td>0</td>\n      <td>0</td>\n      <td>1</td>\n      <td>0</td>\n      <td>0</td>\n      <td>0</td>\n      <td>0</td>\n      <td>0</td>\n      <td>0</td>\n      <td>0</td>\n      <td>0</td>\n      <td>0</td>\n      <td>0</td>\n      <td>0</td>\n      <td>1</td>\n      <td>0</td>\n      <td>0</td>\n      <td>0</td>\n      <td>0</td>\n      <td>0</td>\n      <td>0</td>\n      <td>0</td>\n      <td>0</td>\n      <td>0</td>\n      <td>0</td>\n      <td>0</td>\n      <td>0</td>\n      <td>0</td>\n      <td>0</td>\n      <td>0</td>\n      <td>0</td>\n      <td>0</td>\n      <td>0</td>\n      <td>2</td>\n      <td>Blaze</td>\n      <td>1</td>\n      <td>0</td>\n      <td>0</td>\n      <td>0</td>\n      <td>0</td>\n      <td>0</td>\n      <td>0</td>\n      <td>0</td>\n      <td>0</td>\n      <td>0</td>\n      <td>0</td>\n      <td>0</td>\n    </tr>\n    <tr>\n      <th>4</th>\n      <td>0.5</td>\n      <td>1.0</td>\n      <td>1.0</td>\n      <td>1.0</td>\n      <td>0.5</td>\n      <td>1.0</td>\n      <td>0.5</td>\n      <td>1.0</td>\n      <td>1.0</td>\n      <td>0.50</td>\n      <td>2.0</td>\n      <td>0.5</td>\n      <td>1.0</td>\n      <td>1.0</td>\n      <td>1.0</td>\n      <td>2.0</td>\n      <td>0.5</td>\n      <td>2.0</td>\n      <td>64</td>\n      <td>5120</td>\n      <td>70</td>\n      <td>405</td>\n      <td>45</td>\n      <td>Flame Pokémon</td>\n      <td>58</td>\n      <td>1059860</td>\n      <td>58</td>\n      <td>Charmeleon</td>\n      <td>5</td>\n      <td>80</td>\n      <td>65</td>\n      <td>80</td>\n      <td>fire</td>\n      <td>None</td>\n      <td>1</td>\n      <td>0</td>\n      <td>0</td>\n      <td>0</td>\n      <td>0</td>\n      <td>0</td>\n      <td>0</td>\n      <td>0</td>\n      <td>1</td>\n      <td>0</td>\n      <td>0</td>\n      <td>0</td>\n      <td>0</td>\n      <td>0</td>\n      <td>0</td>\n      <td>0</td>\n      <td>0</td>\n      <td>0</td>\n      <td>0</td>\n      <td>0</td>\n      <td>1</td>\n      <td>0</td>\n      <td>0</td>\n      <td>0</td>\n      <td>0</td>\n      <td>0</td>\n      <td>0</td>\n      <td>0</td>\n      <td>0</td>\n      <td>0</td>\n      <td>0</td>\n      <td>0</td>\n      <td>0</td>\n      <td>0</td>\n      <td>0</td>\n      <td>0</td>\n      <td>0</td>\n      <td>0</td>\n      <td>0</td>\n      <td>2</td>\n      <td>Blaze</td>\n      <td>1</td>\n      <td>0</td>\n      <td>0</td>\n      <td>0</td>\n      <td>0</td>\n      <td>0</td>\n      <td>0</td>\n      <td>0</td>\n      <td>0</td>\n      <td>0</td>\n      <td>0</td>\n      <td>0</td>\n    </tr>\n  </tbody>\n</table>\n</div>"
     },
     "execution_count": 27,
     "metadata": {},
     "output_type": "execute_result"
    }
   ],
   "source": [
    "poke = poke.drop(['abilities'], axis=1)\n",
    "poke.head()"
   ],
   "metadata": {
    "collapsed": false,
    "ExecuteTime": {
     "start_time": "2023-09-12T13:23:36.186797Z",
     "end_time": "2023-09-12T13:23:36.240846Z"
    }
   }
  },
  {
   "cell_type": "code",
   "execution_count": 28,
   "outputs": [
    {
     "data": {
      "text/plain": "   against_bug  against_dark  against_dragon  against_electric  against_fairy  \\\n0          1.0           1.0             1.0               0.5            0.5   \n1          1.0           1.0             1.0               0.5            0.5   \n2          1.0           1.0             1.0               0.5            0.5   \n3          0.5           1.0             1.0               1.0            0.5   \n4          0.5           1.0             1.0               1.0            0.5   \n\n   against_fight  against_fire  against_flying  against_ghost  against_grass  \\\n0            0.5           2.0             2.0            1.0           0.25   \n1            0.5           2.0             2.0            1.0           0.25   \n2            0.5           2.0             2.0            1.0           0.25   \n3            1.0           0.5             1.0            1.0           0.50   \n4            1.0           0.5             1.0            1.0           0.50   \n\n   against_ground  against_ice  against_normal  against_poison  \\\n0             1.0          2.0             1.0             1.0   \n1             1.0          2.0             1.0             1.0   \n2             1.0          2.0             1.0             1.0   \n3             2.0          0.5             1.0             1.0   \n4             2.0          0.5             1.0             1.0   \n\n   against_psychic  against_rock  against_steel  against_water  attack  \\\n0              2.0           1.0            1.0            0.5      49   \n1              2.0           1.0            1.0            0.5      62   \n2              2.0           1.0            1.0            0.5     100   \n3              1.0           2.0            0.5            2.0      52   \n4              1.0           2.0            0.5            2.0      64   \n\n   base_egg_steps  base_happiness  base_total capture_rate  defense  \\\n0            5120              70         318           45       49   \n1            5120              70         405           45       63   \n2            5120              70         625           45      123   \n3            5120              70         309           45       43   \n4            5120              70         405           45       58   \n\n   experience_growth  hp        name  pokedex_number  sp_attack  sp_defense  \\\n0            1059860  45   Bulbasaur               1         65          65   \n1            1059860  60     Ivysaur               2         80          80   \n2            1059860  80    Venusaur               3        122         120   \n3            1059860  39  Charmander               4         60          50   \n4            1059860  58  Charmeleon               5         80          65   \n\n   speed  type1   type2  generation  is_legendary  Type1_bug  Type1_dark  \\\n0     45  grass  poison           1             0          0           0   \n1     60  grass  poison           1             0          0           0   \n2     80  grass  poison           1             0          0           0   \n3     65   fire    None           1             0          0           0   \n4     80   fire    None           1             0          0           0   \n\n   Type1_dragon  Type1_electric  Type1_fairy  Type1_fighting  Type1_fire  \\\n0             0               0            0               0           0   \n1             0               0            0               0           0   \n2             0               0            0               0           0   \n3             0               0            0               0           1   \n4             0               0            0               0           1   \n\n   Type1_flying  Type1_ghost  Type1_grass  Type1_ground  Type1_ice  \\\n0             0            0            1             0          0   \n1             0            0            1             0          0   \n2             0            0            1             0          0   \n3             0            0            0             0          0   \n4             0            0            0             0          0   \n\n   Type1_normal  Type1_poison  Type1_psychic  Type1_rock  Type1_steel  \\\n0             0             0              0           0            0   \n1             0             0              0           0            0   \n2             0             0              0           0            0   \n3             0             0              0           0            0   \n4             0             0              0           0            0   \n\n   Type1_water  Type2_None  Type2_bug  Type2_dark  Type2_dragon  \\\n0            0           0          0           0             0   \n1            0           0          0           0             0   \n2            0           0          0           0             0   \n3            0           1          0           0             0   \n4            0           1          0           0             0   \n\n   Type2_electric  Type2_fairy  Type2_fighting  Type2_fire  Type2_flying  \\\n0               0            0               0           0             0   \n1               0            0               0           0             0   \n2               0            0               0           0             0   \n3               0            0               0           0             0   \n4               0            0               0           0             0   \n\n   Type2_ghost  Type2_grass  Type2_ground  Type2_ice  Type2_normal  \\\n0            0            0             0          0             0   \n1            0            0             0          0             0   \n2            0            0             0          0             0   \n3            0            0             0          0             0   \n4            0            0             0          0             0   \n\n   Type2_poison  Type2_psychic  Type2_rock  Type2_steel  Type2_water  \\\n0             1              0           0            0            0   \n1             1              0           0            0            0   \n2             1              0           0            0            0   \n3             0              0           0            0            0   \n4             0              0           0            0            0   \n\n   Abilities_Counts  Ability__Blaze  Ability__Chlorophyll  \\\n0                 2               0                     0   \n1                 2               0                     0   \n2                 2               0                     0   \n3                 2               1                     0   \n4                 2               1                     0   \n\n   Ability__Intimidate  Ability__Keen Eye  Ability__Levitate  Ability__Other  \\\n0                    0                  0                  0               0   \n1                    0                  0                  0               0   \n2                    0                  0                  0               0   \n3                    0                  0                  0               0   \n4                    0                  0                  0               0   \n\n   Ability__Overgrow  Ability__Pressure  Ability__Sturdy  Ability__Swarm  \\\n0                  1                  0                0               0   \n1                  1                  0                0               0   \n2                  1                  0                0               0   \n3                  0                  0                0               0   \n4                  0                  0                0               0   \n\n   Ability__Swift Swim  Ability__Torrent  \n0                    0                 0  \n1                    0                 0  \n2                    0                 0  \n3                    0                 0  \n4                    0                 0  ",
      "text/html": "<div>\n<style scoped>\n    .dataframe tbody tr th:only-of-type {\n        vertical-align: middle;\n    }\n\n    .dataframe tbody tr th {\n        vertical-align: top;\n    }\n\n    .dataframe thead th {\n        text-align: right;\n    }\n</style>\n<table border=\"1\" class=\"dataframe\">\n  <thead>\n    <tr style=\"text-align: right;\">\n      <th></th>\n      <th>against_bug</th>\n      <th>against_dark</th>\n      <th>against_dragon</th>\n      <th>against_electric</th>\n      <th>against_fairy</th>\n      <th>against_fight</th>\n      <th>against_fire</th>\n      <th>against_flying</th>\n      <th>against_ghost</th>\n      <th>against_grass</th>\n      <th>against_ground</th>\n      <th>against_ice</th>\n      <th>against_normal</th>\n      <th>against_poison</th>\n      <th>against_psychic</th>\n      <th>against_rock</th>\n      <th>against_steel</th>\n      <th>against_water</th>\n      <th>attack</th>\n      <th>base_egg_steps</th>\n      <th>base_happiness</th>\n      <th>base_total</th>\n      <th>capture_rate</th>\n      <th>defense</th>\n      <th>experience_growth</th>\n      <th>hp</th>\n      <th>name</th>\n      <th>pokedex_number</th>\n      <th>sp_attack</th>\n      <th>sp_defense</th>\n      <th>speed</th>\n      <th>type1</th>\n      <th>type2</th>\n      <th>generation</th>\n      <th>is_legendary</th>\n      <th>Type1_bug</th>\n      <th>Type1_dark</th>\n      <th>Type1_dragon</th>\n      <th>Type1_electric</th>\n      <th>Type1_fairy</th>\n      <th>Type1_fighting</th>\n      <th>Type1_fire</th>\n      <th>Type1_flying</th>\n      <th>Type1_ghost</th>\n      <th>Type1_grass</th>\n      <th>Type1_ground</th>\n      <th>Type1_ice</th>\n      <th>Type1_normal</th>\n      <th>Type1_poison</th>\n      <th>Type1_psychic</th>\n      <th>Type1_rock</th>\n      <th>Type1_steel</th>\n      <th>Type1_water</th>\n      <th>Type2_None</th>\n      <th>Type2_bug</th>\n      <th>Type2_dark</th>\n      <th>Type2_dragon</th>\n      <th>Type2_electric</th>\n      <th>Type2_fairy</th>\n      <th>Type2_fighting</th>\n      <th>Type2_fire</th>\n      <th>Type2_flying</th>\n      <th>Type2_ghost</th>\n      <th>Type2_grass</th>\n      <th>Type2_ground</th>\n      <th>Type2_ice</th>\n      <th>Type2_normal</th>\n      <th>Type2_poison</th>\n      <th>Type2_psychic</th>\n      <th>Type2_rock</th>\n      <th>Type2_steel</th>\n      <th>Type2_water</th>\n      <th>Abilities_Counts</th>\n      <th>Ability__Blaze</th>\n      <th>Ability__Chlorophyll</th>\n      <th>Ability__Intimidate</th>\n      <th>Ability__Keen Eye</th>\n      <th>Ability__Levitate</th>\n      <th>Ability__Other</th>\n      <th>Ability__Overgrow</th>\n      <th>Ability__Pressure</th>\n      <th>Ability__Sturdy</th>\n      <th>Ability__Swarm</th>\n      <th>Ability__Swift Swim</th>\n      <th>Ability__Torrent</th>\n    </tr>\n  </thead>\n  <tbody>\n    <tr>\n      <th>0</th>\n      <td>1.0</td>\n      <td>1.0</td>\n      <td>1.0</td>\n      <td>0.5</td>\n      <td>0.5</td>\n      <td>0.5</td>\n      <td>2.0</td>\n      <td>2.0</td>\n      <td>1.0</td>\n      <td>0.25</td>\n      <td>1.0</td>\n      <td>2.0</td>\n      <td>1.0</td>\n      <td>1.0</td>\n      <td>2.0</td>\n      <td>1.0</td>\n      <td>1.0</td>\n      <td>0.5</td>\n      <td>49</td>\n      <td>5120</td>\n      <td>70</td>\n      <td>318</td>\n      <td>45</td>\n      <td>49</td>\n      <td>1059860</td>\n      <td>45</td>\n      <td>Bulbasaur</td>\n      <td>1</td>\n      <td>65</td>\n      <td>65</td>\n      <td>45</td>\n      <td>grass</td>\n      <td>poison</td>\n      <td>1</td>\n      <td>0</td>\n      <td>0</td>\n      <td>0</td>\n      <td>0</td>\n      <td>0</td>\n      <td>0</td>\n      <td>0</td>\n      <td>0</td>\n      <td>0</td>\n      <td>0</td>\n      <td>1</td>\n      <td>0</td>\n      <td>0</td>\n      <td>0</td>\n      <td>0</td>\n      <td>0</td>\n      <td>0</td>\n      <td>0</td>\n      <td>0</td>\n      <td>0</td>\n      <td>0</td>\n      <td>0</td>\n      <td>0</td>\n      <td>0</td>\n      <td>0</td>\n      <td>0</td>\n      <td>0</td>\n      <td>0</td>\n      <td>0</td>\n      <td>0</td>\n      <td>0</td>\n      <td>0</td>\n      <td>0</td>\n      <td>1</td>\n      <td>0</td>\n      <td>0</td>\n      <td>0</td>\n      <td>0</td>\n      <td>2</td>\n      <td>0</td>\n      <td>0</td>\n      <td>0</td>\n      <td>0</td>\n      <td>0</td>\n      <td>0</td>\n      <td>1</td>\n      <td>0</td>\n      <td>0</td>\n      <td>0</td>\n      <td>0</td>\n      <td>0</td>\n    </tr>\n    <tr>\n      <th>1</th>\n      <td>1.0</td>\n      <td>1.0</td>\n      <td>1.0</td>\n      <td>0.5</td>\n      <td>0.5</td>\n      <td>0.5</td>\n      <td>2.0</td>\n      <td>2.0</td>\n      <td>1.0</td>\n      <td>0.25</td>\n      <td>1.0</td>\n      <td>2.0</td>\n      <td>1.0</td>\n      <td>1.0</td>\n      <td>2.0</td>\n      <td>1.0</td>\n      <td>1.0</td>\n      <td>0.5</td>\n      <td>62</td>\n      <td>5120</td>\n      <td>70</td>\n      <td>405</td>\n      <td>45</td>\n      <td>63</td>\n      <td>1059860</td>\n      <td>60</td>\n      <td>Ivysaur</td>\n      <td>2</td>\n      <td>80</td>\n      <td>80</td>\n      <td>60</td>\n      <td>grass</td>\n      <td>poison</td>\n      <td>1</td>\n      <td>0</td>\n      <td>0</td>\n      <td>0</td>\n      <td>0</td>\n      <td>0</td>\n      <td>0</td>\n      <td>0</td>\n      <td>0</td>\n      <td>0</td>\n      <td>0</td>\n      <td>1</td>\n      <td>0</td>\n      <td>0</td>\n      <td>0</td>\n      <td>0</td>\n      <td>0</td>\n      <td>0</td>\n      <td>0</td>\n      <td>0</td>\n      <td>0</td>\n      <td>0</td>\n      <td>0</td>\n      <td>0</td>\n      <td>0</td>\n      <td>0</td>\n      <td>0</td>\n      <td>0</td>\n      <td>0</td>\n      <td>0</td>\n      <td>0</td>\n      <td>0</td>\n      <td>0</td>\n      <td>0</td>\n      <td>1</td>\n      <td>0</td>\n      <td>0</td>\n      <td>0</td>\n      <td>0</td>\n      <td>2</td>\n      <td>0</td>\n      <td>0</td>\n      <td>0</td>\n      <td>0</td>\n      <td>0</td>\n      <td>0</td>\n      <td>1</td>\n      <td>0</td>\n      <td>0</td>\n      <td>0</td>\n      <td>0</td>\n      <td>0</td>\n    </tr>\n    <tr>\n      <th>2</th>\n      <td>1.0</td>\n      <td>1.0</td>\n      <td>1.0</td>\n      <td>0.5</td>\n      <td>0.5</td>\n      <td>0.5</td>\n      <td>2.0</td>\n      <td>2.0</td>\n      <td>1.0</td>\n      <td>0.25</td>\n      <td>1.0</td>\n      <td>2.0</td>\n      <td>1.0</td>\n      <td>1.0</td>\n      <td>2.0</td>\n      <td>1.0</td>\n      <td>1.0</td>\n      <td>0.5</td>\n      <td>100</td>\n      <td>5120</td>\n      <td>70</td>\n      <td>625</td>\n      <td>45</td>\n      <td>123</td>\n      <td>1059860</td>\n      <td>80</td>\n      <td>Venusaur</td>\n      <td>3</td>\n      <td>122</td>\n      <td>120</td>\n      <td>80</td>\n      <td>grass</td>\n      <td>poison</td>\n      <td>1</td>\n      <td>0</td>\n      <td>0</td>\n      <td>0</td>\n      <td>0</td>\n      <td>0</td>\n      <td>0</td>\n      <td>0</td>\n      <td>0</td>\n      <td>0</td>\n      <td>0</td>\n      <td>1</td>\n      <td>0</td>\n      <td>0</td>\n      <td>0</td>\n      <td>0</td>\n      <td>0</td>\n      <td>0</td>\n      <td>0</td>\n      <td>0</td>\n      <td>0</td>\n      <td>0</td>\n      <td>0</td>\n      <td>0</td>\n      <td>0</td>\n      <td>0</td>\n      <td>0</td>\n      <td>0</td>\n      <td>0</td>\n      <td>0</td>\n      <td>0</td>\n      <td>0</td>\n      <td>0</td>\n      <td>0</td>\n      <td>1</td>\n      <td>0</td>\n      <td>0</td>\n      <td>0</td>\n      <td>0</td>\n      <td>2</td>\n      <td>0</td>\n      <td>0</td>\n      <td>0</td>\n      <td>0</td>\n      <td>0</td>\n      <td>0</td>\n      <td>1</td>\n      <td>0</td>\n      <td>0</td>\n      <td>0</td>\n      <td>0</td>\n      <td>0</td>\n    </tr>\n    <tr>\n      <th>3</th>\n      <td>0.5</td>\n      <td>1.0</td>\n      <td>1.0</td>\n      <td>1.0</td>\n      <td>0.5</td>\n      <td>1.0</td>\n      <td>0.5</td>\n      <td>1.0</td>\n      <td>1.0</td>\n      <td>0.50</td>\n      <td>2.0</td>\n      <td>0.5</td>\n      <td>1.0</td>\n      <td>1.0</td>\n      <td>1.0</td>\n      <td>2.0</td>\n      <td>0.5</td>\n      <td>2.0</td>\n      <td>52</td>\n      <td>5120</td>\n      <td>70</td>\n      <td>309</td>\n      <td>45</td>\n      <td>43</td>\n      <td>1059860</td>\n      <td>39</td>\n      <td>Charmander</td>\n      <td>4</td>\n      <td>60</td>\n      <td>50</td>\n      <td>65</td>\n      <td>fire</td>\n      <td>None</td>\n      <td>1</td>\n      <td>0</td>\n      <td>0</td>\n      <td>0</td>\n      <td>0</td>\n      <td>0</td>\n      <td>0</td>\n      <td>0</td>\n      <td>1</td>\n      <td>0</td>\n      <td>0</td>\n      <td>0</td>\n      <td>0</td>\n      <td>0</td>\n      <td>0</td>\n      <td>0</td>\n      <td>0</td>\n      <td>0</td>\n      <td>0</td>\n      <td>0</td>\n      <td>1</td>\n      <td>0</td>\n      <td>0</td>\n      <td>0</td>\n      <td>0</td>\n      <td>0</td>\n      <td>0</td>\n      <td>0</td>\n      <td>0</td>\n      <td>0</td>\n      <td>0</td>\n      <td>0</td>\n      <td>0</td>\n      <td>0</td>\n      <td>0</td>\n      <td>0</td>\n      <td>0</td>\n      <td>0</td>\n      <td>0</td>\n      <td>2</td>\n      <td>1</td>\n      <td>0</td>\n      <td>0</td>\n      <td>0</td>\n      <td>0</td>\n      <td>0</td>\n      <td>0</td>\n      <td>0</td>\n      <td>0</td>\n      <td>0</td>\n      <td>0</td>\n      <td>0</td>\n    </tr>\n    <tr>\n      <th>4</th>\n      <td>0.5</td>\n      <td>1.0</td>\n      <td>1.0</td>\n      <td>1.0</td>\n      <td>0.5</td>\n      <td>1.0</td>\n      <td>0.5</td>\n      <td>1.0</td>\n      <td>1.0</td>\n      <td>0.50</td>\n      <td>2.0</td>\n      <td>0.5</td>\n      <td>1.0</td>\n      <td>1.0</td>\n      <td>1.0</td>\n      <td>2.0</td>\n      <td>0.5</td>\n      <td>2.0</td>\n      <td>64</td>\n      <td>5120</td>\n      <td>70</td>\n      <td>405</td>\n      <td>45</td>\n      <td>58</td>\n      <td>1059860</td>\n      <td>58</td>\n      <td>Charmeleon</td>\n      <td>5</td>\n      <td>80</td>\n      <td>65</td>\n      <td>80</td>\n      <td>fire</td>\n      <td>None</td>\n      <td>1</td>\n      <td>0</td>\n      <td>0</td>\n      <td>0</td>\n      <td>0</td>\n      <td>0</td>\n      <td>0</td>\n      <td>0</td>\n      <td>1</td>\n      <td>0</td>\n      <td>0</td>\n      <td>0</td>\n      <td>0</td>\n      <td>0</td>\n      <td>0</td>\n      <td>0</td>\n      <td>0</td>\n      <td>0</td>\n      <td>0</td>\n      <td>0</td>\n      <td>1</td>\n      <td>0</td>\n      <td>0</td>\n      <td>0</td>\n      <td>0</td>\n      <td>0</td>\n      <td>0</td>\n      <td>0</td>\n      <td>0</td>\n      <td>0</td>\n      <td>0</td>\n      <td>0</td>\n      <td>0</td>\n      <td>0</td>\n      <td>0</td>\n      <td>0</td>\n      <td>0</td>\n      <td>0</td>\n      <td>0</td>\n      <td>2</td>\n      <td>1</td>\n      <td>0</td>\n      <td>0</td>\n      <td>0</td>\n      <td>0</td>\n      <td>0</td>\n      <td>0</td>\n      <td>0</td>\n      <td>0</td>\n      <td>0</td>\n      <td>0</td>\n      <td>0</td>\n    </tr>\n  </tbody>\n</table>\n</div>"
     },
     "execution_count": 28,
     "metadata": {},
     "output_type": "execute_result"
    }
   ],
   "source": [
    "poke = poke.drop(['classfication'], axis=1)\n",
    "poke = poke.drop(['Abilities_Main'], axis=1)\n",
    "poke.head()"
   ],
   "metadata": {
    "collapsed": false,
    "ExecuteTime": {
     "start_time": "2023-09-12T13:23:36.215823Z",
     "end_time": "2023-09-12T13:23:36.262866Z"
    }
   }
  },
  {
   "cell_type": "code",
   "execution_count": 29,
   "outputs": [],
   "source": [
    "poke = poke.drop(['type1'], axis=1)\n",
    "poke = poke.drop(['type2'], axis=1)"
   ],
   "metadata": {
    "collapsed": false,
    "ExecuteTime": {
     "start_time": "2023-09-12T13:23:36.248853Z",
     "end_time": "2023-09-12T13:23:36.291892Z"
    }
   }
  },
  {
   "cell_type": "code",
   "execution_count": 30,
   "outputs": [
    {
     "data": {
      "text/plain": "   against_bug  against_dark  against_dragon  against_electric  against_fairy  \\\n0          1.0           1.0             1.0               0.5            0.5   \n1          1.0           1.0             1.0               0.5            0.5   \n2          1.0           1.0             1.0               0.5            0.5   \n3          0.5           1.0             1.0               1.0            0.5   \n4          0.5           1.0             1.0               1.0            0.5   \n\n   against_fight  against_fire  against_flying  against_ghost  against_grass  \\\n0            0.5           2.0             2.0            1.0           0.25   \n1            0.5           2.0             2.0            1.0           0.25   \n2            0.5           2.0             2.0            1.0           0.25   \n3            1.0           0.5             1.0            1.0           0.50   \n4            1.0           0.5             1.0            1.0           0.50   \n\n   against_ground  against_ice  against_normal  against_poison  \\\n0             1.0          2.0             1.0             1.0   \n1             1.0          2.0             1.0             1.0   \n2             1.0          2.0             1.0             1.0   \n3             2.0          0.5             1.0             1.0   \n4             2.0          0.5             1.0             1.0   \n\n   against_psychic  against_rock  against_steel  against_water  attack  \\\n0              2.0           1.0            1.0            0.5      49   \n1              2.0           1.0            1.0            0.5      62   \n2              2.0           1.0            1.0            0.5     100   \n3              1.0           2.0            0.5            2.0      52   \n4              1.0           2.0            0.5            2.0      64   \n\n   base_egg_steps  base_happiness  base_total capture_rate  defense  \\\n0            5120              70         318           45       49   \n1            5120              70         405           45       63   \n2            5120              70         625           45      123   \n3            5120              70         309           45       43   \n4            5120              70         405           45       58   \n\n   experience_growth  hp        name  pokedex_number  sp_attack  sp_defense  \\\n0            1059860  45   Bulbasaur               1         65          65   \n1            1059860  60     Ivysaur               2         80          80   \n2            1059860  80    Venusaur               3        122         120   \n3            1059860  39  Charmander               4         60          50   \n4            1059860  58  Charmeleon               5         80          65   \n\n   speed  generation  is_legendary  Type1_bug  Type1_dark  Type1_dragon  \\\n0     45           1             0          0           0             0   \n1     60           1             0          0           0             0   \n2     80           1             0          0           0             0   \n3     65           1             0          0           0             0   \n4     80           1             0          0           0             0   \n\n   Type1_electric  Type1_fairy  Type1_fighting  Type1_fire  Type1_flying  \\\n0               0            0               0           0             0   \n1               0            0               0           0             0   \n2               0            0               0           0             0   \n3               0            0               0           1             0   \n4               0            0               0           1             0   \n\n   Type1_ghost  Type1_grass  Type1_ground  Type1_ice  Type1_normal  \\\n0            0            1             0          0             0   \n1            0            1             0          0             0   \n2            0            1             0          0             0   \n3            0            0             0          0             0   \n4            0            0             0          0             0   \n\n   Type1_poison  Type1_psychic  Type1_rock  Type1_steel  Type1_water  \\\n0             0              0           0            0            0   \n1             0              0           0            0            0   \n2             0              0           0            0            0   \n3             0              0           0            0            0   \n4             0              0           0            0            0   \n\n   Type2_None  Type2_bug  Type2_dark  Type2_dragon  Type2_electric  \\\n0           0          0           0             0               0   \n1           0          0           0             0               0   \n2           0          0           0             0               0   \n3           1          0           0             0               0   \n4           1          0           0             0               0   \n\n   Type2_fairy  Type2_fighting  Type2_fire  Type2_flying  Type2_ghost  \\\n0            0               0           0             0            0   \n1            0               0           0             0            0   \n2            0               0           0             0            0   \n3            0               0           0             0            0   \n4            0               0           0             0            0   \n\n   Type2_grass  Type2_ground  Type2_ice  Type2_normal  Type2_poison  \\\n0            0             0          0             0             1   \n1            0             0          0             0             1   \n2            0             0          0             0             1   \n3            0             0          0             0             0   \n4            0             0          0             0             0   \n\n   Type2_psychic  Type2_rock  Type2_steel  Type2_water  Abilities_Counts  \\\n0              0           0            0            0                 2   \n1              0           0            0            0                 2   \n2              0           0            0            0                 2   \n3              0           0            0            0                 2   \n4              0           0            0            0                 2   \n\n   Ability__Blaze  Ability__Chlorophyll  Ability__Intimidate  \\\n0               0                     0                    0   \n1               0                     0                    0   \n2               0                     0                    0   \n3               1                     0                    0   \n4               1                     0                    0   \n\n   Ability__Keen Eye  Ability__Levitate  Ability__Other  Ability__Overgrow  \\\n0                  0                  0               0                  1   \n1                  0                  0               0                  1   \n2                  0                  0               0                  1   \n3                  0                  0               0                  0   \n4                  0                  0               0                  0   \n\n   Ability__Pressure  Ability__Sturdy  Ability__Swarm  Ability__Swift Swim  \\\n0                  0                0               0                    0   \n1                  0                0               0                    0   \n2                  0                0               0                    0   \n3                  0                0               0                    0   \n4                  0                0               0                    0   \n\n   Ability__Torrent  \n0                 0  \n1                 0  \n2                 0  \n3                 0  \n4                 0  ",
      "text/html": "<div>\n<style scoped>\n    .dataframe tbody tr th:only-of-type {\n        vertical-align: middle;\n    }\n\n    .dataframe tbody tr th {\n        vertical-align: top;\n    }\n\n    .dataframe thead th {\n        text-align: right;\n    }\n</style>\n<table border=\"1\" class=\"dataframe\">\n  <thead>\n    <tr style=\"text-align: right;\">\n      <th></th>\n      <th>against_bug</th>\n      <th>against_dark</th>\n      <th>against_dragon</th>\n      <th>against_electric</th>\n      <th>against_fairy</th>\n      <th>against_fight</th>\n      <th>against_fire</th>\n      <th>against_flying</th>\n      <th>against_ghost</th>\n      <th>against_grass</th>\n      <th>against_ground</th>\n      <th>against_ice</th>\n      <th>against_normal</th>\n      <th>against_poison</th>\n      <th>against_psychic</th>\n      <th>against_rock</th>\n      <th>against_steel</th>\n      <th>against_water</th>\n      <th>attack</th>\n      <th>base_egg_steps</th>\n      <th>base_happiness</th>\n      <th>base_total</th>\n      <th>capture_rate</th>\n      <th>defense</th>\n      <th>experience_growth</th>\n      <th>hp</th>\n      <th>name</th>\n      <th>pokedex_number</th>\n      <th>sp_attack</th>\n      <th>sp_defense</th>\n      <th>speed</th>\n      <th>generation</th>\n      <th>is_legendary</th>\n      <th>Type1_bug</th>\n      <th>Type1_dark</th>\n      <th>Type1_dragon</th>\n      <th>Type1_electric</th>\n      <th>Type1_fairy</th>\n      <th>Type1_fighting</th>\n      <th>Type1_fire</th>\n      <th>Type1_flying</th>\n      <th>Type1_ghost</th>\n      <th>Type1_grass</th>\n      <th>Type1_ground</th>\n      <th>Type1_ice</th>\n      <th>Type1_normal</th>\n      <th>Type1_poison</th>\n      <th>Type1_psychic</th>\n      <th>Type1_rock</th>\n      <th>Type1_steel</th>\n      <th>Type1_water</th>\n      <th>Type2_None</th>\n      <th>Type2_bug</th>\n      <th>Type2_dark</th>\n      <th>Type2_dragon</th>\n      <th>Type2_electric</th>\n      <th>Type2_fairy</th>\n      <th>Type2_fighting</th>\n      <th>Type2_fire</th>\n      <th>Type2_flying</th>\n      <th>Type2_ghost</th>\n      <th>Type2_grass</th>\n      <th>Type2_ground</th>\n      <th>Type2_ice</th>\n      <th>Type2_normal</th>\n      <th>Type2_poison</th>\n      <th>Type2_psychic</th>\n      <th>Type2_rock</th>\n      <th>Type2_steel</th>\n      <th>Type2_water</th>\n      <th>Abilities_Counts</th>\n      <th>Ability__Blaze</th>\n      <th>Ability__Chlorophyll</th>\n      <th>Ability__Intimidate</th>\n      <th>Ability__Keen Eye</th>\n      <th>Ability__Levitate</th>\n      <th>Ability__Other</th>\n      <th>Ability__Overgrow</th>\n      <th>Ability__Pressure</th>\n      <th>Ability__Sturdy</th>\n      <th>Ability__Swarm</th>\n      <th>Ability__Swift Swim</th>\n      <th>Ability__Torrent</th>\n    </tr>\n  </thead>\n  <tbody>\n    <tr>\n      <th>0</th>\n      <td>1.0</td>\n      <td>1.0</td>\n      <td>1.0</td>\n      <td>0.5</td>\n      <td>0.5</td>\n      <td>0.5</td>\n      <td>2.0</td>\n      <td>2.0</td>\n      <td>1.0</td>\n      <td>0.25</td>\n      <td>1.0</td>\n      <td>2.0</td>\n      <td>1.0</td>\n      <td>1.0</td>\n      <td>2.0</td>\n      <td>1.0</td>\n      <td>1.0</td>\n      <td>0.5</td>\n      <td>49</td>\n      <td>5120</td>\n      <td>70</td>\n      <td>318</td>\n      <td>45</td>\n      <td>49</td>\n      <td>1059860</td>\n      <td>45</td>\n      <td>Bulbasaur</td>\n      <td>1</td>\n      <td>65</td>\n      <td>65</td>\n      <td>45</td>\n      <td>1</td>\n      <td>0</td>\n      <td>0</td>\n      <td>0</td>\n      <td>0</td>\n      <td>0</td>\n      <td>0</td>\n      <td>0</td>\n      <td>0</td>\n      <td>0</td>\n      <td>0</td>\n      <td>1</td>\n      <td>0</td>\n      <td>0</td>\n      <td>0</td>\n      <td>0</td>\n      <td>0</td>\n      <td>0</td>\n      <td>0</td>\n      <td>0</td>\n      <td>0</td>\n      <td>0</td>\n      <td>0</td>\n      <td>0</td>\n      <td>0</td>\n      <td>0</td>\n      <td>0</td>\n      <td>0</td>\n      <td>0</td>\n      <td>0</td>\n      <td>0</td>\n      <td>0</td>\n      <td>0</td>\n      <td>0</td>\n      <td>1</td>\n      <td>0</td>\n      <td>0</td>\n      <td>0</td>\n      <td>0</td>\n      <td>2</td>\n      <td>0</td>\n      <td>0</td>\n      <td>0</td>\n      <td>0</td>\n      <td>0</td>\n      <td>0</td>\n      <td>1</td>\n      <td>0</td>\n      <td>0</td>\n      <td>0</td>\n      <td>0</td>\n      <td>0</td>\n    </tr>\n    <tr>\n      <th>1</th>\n      <td>1.0</td>\n      <td>1.0</td>\n      <td>1.0</td>\n      <td>0.5</td>\n      <td>0.5</td>\n      <td>0.5</td>\n      <td>2.0</td>\n      <td>2.0</td>\n      <td>1.0</td>\n      <td>0.25</td>\n      <td>1.0</td>\n      <td>2.0</td>\n      <td>1.0</td>\n      <td>1.0</td>\n      <td>2.0</td>\n      <td>1.0</td>\n      <td>1.0</td>\n      <td>0.5</td>\n      <td>62</td>\n      <td>5120</td>\n      <td>70</td>\n      <td>405</td>\n      <td>45</td>\n      <td>63</td>\n      <td>1059860</td>\n      <td>60</td>\n      <td>Ivysaur</td>\n      <td>2</td>\n      <td>80</td>\n      <td>80</td>\n      <td>60</td>\n      <td>1</td>\n      <td>0</td>\n      <td>0</td>\n      <td>0</td>\n      <td>0</td>\n      <td>0</td>\n      <td>0</td>\n      <td>0</td>\n      <td>0</td>\n      <td>0</td>\n      <td>0</td>\n      <td>1</td>\n      <td>0</td>\n      <td>0</td>\n      <td>0</td>\n      <td>0</td>\n      <td>0</td>\n      <td>0</td>\n      <td>0</td>\n      <td>0</td>\n      <td>0</td>\n      <td>0</td>\n      <td>0</td>\n      <td>0</td>\n      <td>0</td>\n      <td>0</td>\n      <td>0</td>\n      <td>0</td>\n      <td>0</td>\n      <td>0</td>\n      <td>0</td>\n      <td>0</td>\n      <td>0</td>\n      <td>0</td>\n      <td>1</td>\n      <td>0</td>\n      <td>0</td>\n      <td>0</td>\n      <td>0</td>\n      <td>2</td>\n      <td>0</td>\n      <td>0</td>\n      <td>0</td>\n      <td>0</td>\n      <td>0</td>\n      <td>0</td>\n      <td>1</td>\n      <td>0</td>\n      <td>0</td>\n      <td>0</td>\n      <td>0</td>\n      <td>0</td>\n    </tr>\n    <tr>\n      <th>2</th>\n      <td>1.0</td>\n      <td>1.0</td>\n      <td>1.0</td>\n      <td>0.5</td>\n      <td>0.5</td>\n      <td>0.5</td>\n      <td>2.0</td>\n      <td>2.0</td>\n      <td>1.0</td>\n      <td>0.25</td>\n      <td>1.0</td>\n      <td>2.0</td>\n      <td>1.0</td>\n      <td>1.0</td>\n      <td>2.0</td>\n      <td>1.0</td>\n      <td>1.0</td>\n      <td>0.5</td>\n      <td>100</td>\n      <td>5120</td>\n      <td>70</td>\n      <td>625</td>\n      <td>45</td>\n      <td>123</td>\n      <td>1059860</td>\n      <td>80</td>\n      <td>Venusaur</td>\n      <td>3</td>\n      <td>122</td>\n      <td>120</td>\n      <td>80</td>\n      <td>1</td>\n      <td>0</td>\n      <td>0</td>\n      <td>0</td>\n      <td>0</td>\n      <td>0</td>\n      <td>0</td>\n      <td>0</td>\n      <td>0</td>\n      <td>0</td>\n      <td>0</td>\n      <td>1</td>\n      <td>0</td>\n      <td>0</td>\n      <td>0</td>\n      <td>0</td>\n      <td>0</td>\n      <td>0</td>\n      <td>0</td>\n      <td>0</td>\n      <td>0</td>\n      <td>0</td>\n      <td>0</td>\n      <td>0</td>\n      <td>0</td>\n      <td>0</td>\n      <td>0</td>\n      <td>0</td>\n      <td>0</td>\n      <td>0</td>\n      <td>0</td>\n      <td>0</td>\n      <td>0</td>\n      <td>0</td>\n      <td>1</td>\n      <td>0</td>\n      <td>0</td>\n      <td>0</td>\n      <td>0</td>\n      <td>2</td>\n      <td>0</td>\n      <td>0</td>\n      <td>0</td>\n      <td>0</td>\n      <td>0</td>\n      <td>0</td>\n      <td>1</td>\n      <td>0</td>\n      <td>0</td>\n      <td>0</td>\n      <td>0</td>\n      <td>0</td>\n    </tr>\n    <tr>\n      <th>3</th>\n      <td>0.5</td>\n      <td>1.0</td>\n      <td>1.0</td>\n      <td>1.0</td>\n      <td>0.5</td>\n      <td>1.0</td>\n      <td>0.5</td>\n      <td>1.0</td>\n      <td>1.0</td>\n      <td>0.50</td>\n      <td>2.0</td>\n      <td>0.5</td>\n      <td>1.0</td>\n      <td>1.0</td>\n      <td>1.0</td>\n      <td>2.0</td>\n      <td>0.5</td>\n      <td>2.0</td>\n      <td>52</td>\n      <td>5120</td>\n      <td>70</td>\n      <td>309</td>\n      <td>45</td>\n      <td>43</td>\n      <td>1059860</td>\n      <td>39</td>\n      <td>Charmander</td>\n      <td>4</td>\n      <td>60</td>\n      <td>50</td>\n      <td>65</td>\n      <td>1</td>\n      <td>0</td>\n      <td>0</td>\n      <td>0</td>\n      <td>0</td>\n      <td>0</td>\n      <td>0</td>\n      <td>0</td>\n      <td>1</td>\n      <td>0</td>\n      <td>0</td>\n      <td>0</td>\n      <td>0</td>\n      <td>0</td>\n      <td>0</td>\n      <td>0</td>\n      <td>0</td>\n      <td>0</td>\n      <td>0</td>\n      <td>0</td>\n      <td>1</td>\n      <td>0</td>\n      <td>0</td>\n      <td>0</td>\n      <td>0</td>\n      <td>0</td>\n      <td>0</td>\n      <td>0</td>\n      <td>0</td>\n      <td>0</td>\n      <td>0</td>\n      <td>0</td>\n      <td>0</td>\n      <td>0</td>\n      <td>0</td>\n      <td>0</td>\n      <td>0</td>\n      <td>0</td>\n      <td>0</td>\n      <td>2</td>\n      <td>1</td>\n      <td>0</td>\n      <td>0</td>\n      <td>0</td>\n      <td>0</td>\n      <td>0</td>\n      <td>0</td>\n      <td>0</td>\n      <td>0</td>\n      <td>0</td>\n      <td>0</td>\n      <td>0</td>\n    </tr>\n    <tr>\n      <th>4</th>\n      <td>0.5</td>\n      <td>1.0</td>\n      <td>1.0</td>\n      <td>1.0</td>\n      <td>0.5</td>\n      <td>1.0</td>\n      <td>0.5</td>\n      <td>1.0</td>\n      <td>1.0</td>\n      <td>0.50</td>\n      <td>2.0</td>\n      <td>0.5</td>\n      <td>1.0</td>\n      <td>1.0</td>\n      <td>1.0</td>\n      <td>2.0</td>\n      <td>0.5</td>\n      <td>2.0</td>\n      <td>64</td>\n      <td>5120</td>\n      <td>70</td>\n      <td>405</td>\n      <td>45</td>\n      <td>58</td>\n      <td>1059860</td>\n      <td>58</td>\n      <td>Charmeleon</td>\n      <td>5</td>\n      <td>80</td>\n      <td>65</td>\n      <td>80</td>\n      <td>1</td>\n      <td>0</td>\n      <td>0</td>\n      <td>0</td>\n      <td>0</td>\n      <td>0</td>\n      <td>0</td>\n      <td>0</td>\n      <td>1</td>\n      <td>0</td>\n      <td>0</td>\n      <td>0</td>\n      <td>0</td>\n      <td>0</td>\n      <td>0</td>\n      <td>0</td>\n      <td>0</td>\n      <td>0</td>\n      <td>0</td>\n      <td>0</td>\n      <td>1</td>\n      <td>0</td>\n      <td>0</td>\n      <td>0</td>\n      <td>0</td>\n      <td>0</td>\n      <td>0</td>\n      <td>0</td>\n      <td>0</td>\n      <td>0</td>\n      <td>0</td>\n      <td>0</td>\n      <td>0</td>\n      <td>0</td>\n      <td>0</td>\n      <td>0</td>\n      <td>0</td>\n      <td>0</td>\n      <td>0</td>\n      <td>2</td>\n      <td>1</td>\n      <td>0</td>\n      <td>0</td>\n      <td>0</td>\n      <td>0</td>\n      <td>0</td>\n      <td>0</td>\n      <td>0</td>\n      <td>0</td>\n      <td>0</td>\n      <td>0</td>\n      <td>0</td>\n    </tr>\n  </tbody>\n</table>\n</div>"
     },
     "execution_count": 30,
     "metadata": {},
     "output_type": "execute_result"
    }
   ],
   "source": [
    "poke.head()"
   ],
   "metadata": {
    "collapsed": false,
    "ExecuteTime": {
     "start_time": "2023-09-12T13:23:36.263867Z",
     "end_time": "2023-09-12T13:23:36.363958Z"
    }
   }
  },
  {
   "cell_type": "code",
   "execution_count": 31,
   "id": "a1a7b14f",
   "metadata": {
    "ExecuteTime": {
     "start_time": "2023-09-12T13:23:36.293894Z",
     "end_time": "2023-09-12T13:23:36.399990Z"
    }
   },
   "outputs": [],
   "source": [
    "#poke = poke.drop(['is_legendary'], axis=1)\n",
    "#poke = poke.drop(['generation'], axis=1)"
   ]
  },
  {
   "cell_type": "code",
   "execution_count": 32,
   "id": "df61e7d6",
   "metadata": {
    "ExecuteTime": {
     "start_time": "2023-09-12T13:23:36.308908Z",
     "end_time": "2023-09-12T13:23:36.479063Z"
    }
   },
   "outputs": [
    {
     "data": {
      "text/plain": "   against_bug  against_dark  against_dragon  against_electric  against_fairy  \\\n0          1.0           1.0             1.0               0.5            0.5   \n1          1.0           1.0             1.0               0.5            0.5   \n2          1.0           1.0             1.0               0.5            0.5   \n3          0.5           1.0             1.0               1.0            0.5   \n4          0.5           1.0             1.0               1.0            0.5   \n\n   against_fight  against_fire  against_flying  against_ghost  against_grass  \\\n0            0.5           2.0             2.0            1.0           0.25   \n1            0.5           2.0             2.0            1.0           0.25   \n2            0.5           2.0             2.0            1.0           0.25   \n3            1.0           0.5             1.0            1.0           0.50   \n4            1.0           0.5             1.0            1.0           0.50   \n\n   against_ground  against_ice  against_normal  against_poison  \\\n0             1.0          2.0             1.0             1.0   \n1             1.0          2.0             1.0             1.0   \n2             1.0          2.0             1.0             1.0   \n3             2.0          0.5             1.0             1.0   \n4             2.0          0.5             1.0             1.0   \n\n   against_psychic  against_rock  against_steel  against_water  attack  \\\n0              2.0           1.0            1.0            0.5      49   \n1              2.0           1.0            1.0            0.5      62   \n2              2.0           1.0            1.0            0.5     100   \n3              1.0           2.0            0.5            2.0      52   \n4              1.0           2.0            0.5            2.0      64   \n\n   base_egg_steps  base_happiness  base_total  defense  experience_growth  hp  \\\n0            5120              70         318       49            1059860  45   \n1            5120              70         405       63            1059860  60   \n2            5120              70         625      123            1059860  80   \n3            5120              70         309       43            1059860  39   \n4            5120              70         405       58            1059860  58   \n\n         name  pokedex_number  sp_attack  sp_defense  speed  generation  \\\n0   Bulbasaur               1         65          65     45           1   \n1     Ivysaur               2         80          80     60           1   \n2    Venusaur               3        122         120     80           1   \n3  Charmander               4         60          50     65           1   \n4  Charmeleon               5         80          65     80           1   \n\n   is_legendary  Type1_bug  Type1_dark  Type1_dragon  Type1_electric  \\\n0             0          0           0             0               0   \n1             0          0           0             0               0   \n2             0          0           0             0               0   \n3             0          0           0             0               0   \n4             0          0           0             0               0   \n\n   Type1_fairy  Type1_fighting  Type1_fire  Type1_flying  Type1_ghost  \\\n0            0               0           0             0            0   \n1            0               0           0             0            0   \n2            0               0           0             0            0   \n3            0               0           1             0            0   \n4            0               0           1             0            0   \n\n   Type1_grass  Type1_ground  Type1_ice  Type1_normal  Type1_poison  \\\n0            1             0          0             0             0   \n1            1             0          0             0             0   \n2            1             0          0             0             0   \n3            0             0          0             0             0   \n4            0             0          0             0             0   \n\n   Type1_psychic  Type1_rock  Type1_steel  Type1_water  Type2_None  Type2_bug  \\\n0              0           0            0            0           0          0   \n1              0           0            0            0           0          0   \n2              0           0            0            0           0          0   \n3              0           0            0            0           1          0   \n4              0           0            0            0           1          0   \n\n   Type2_dark  Type2_dragon  Type2_electric  Type2_fairy  Type2_fighting  \\\n0           0             0               0            0               0   \n1           0             0               0            0               0   \n2           0             0               0            0               0   \n3           0             0               0            0               0   \n4           0             0               0            0               0   \n\n   Type2_fire  Type2_flying  Type2_ghost  Type2_grass  Type2_ground  \\\n0           0             0            0            0             0   \n1           0             0            0            0             0   \n2           0             0            0            0             0   \n3           0             0            0            0             0   \n4           0             0            0            0             0   \n\n   Type2_ice  Type2_normal  Type2_poison  Type2_psychic  Type2_rock  \\\n0          0             0             1              0           0   \n1          0             0             1              0           0   \n2          0             0             1              0           0   \n3          0             0             0              0           0   \n4          0             0             0              0           0   \n\n   Type2_steel  Type2_water  Abilities_Counts  Ability__Blaze  \\\n0            0            0                 2               0   \n1            0            0                 2               0   \n2            0            0                 2               0   \n3            0            0                 2               1   \n4            0            0                 2               1   \n\n   Ability__Chlorophyll  Ability__Intimidate  Ability__Keen Eye  \\\n0                     0                    0                  0   \n1                     0                    0                  0   \n2                     0                    0                  0   \n3                     0                    0                  0   \n4                     0                    0                  0   \n\n   Ability__Levitate  Ability__Other  Ability__Overgrow  Ability__Pressure  \\\n0                  0               0                  1                  0   \n1                  0               0                  1                  0   \n2                  0               0                  1                  0   \n3                  0               0                  0                  0   \n4                  0               0                  0                  0   \n\n   Ability__Sturdy  Ability__Swarm  Ability__Swift Swim  Ability__Torrent  \n0                0               0                    0                 0  \n1                0               0                    0                 0  \n2                0               0                    0                 0  \n3                0               0                    0                 0  \n4                0               0                    0                 0  ",
      "text/html": "<div>\n<style scoped>\n    .dataframe tbody tr th:only-of-type {\n        vertical-align: middle;\n    }\n\n    .dataframe tbody tr th {\n        vertical-align: top;\n    }\n\n    .dataframe thead th {\n        text-align: right;\n    }\n</style>\n<table border=\"1\" class=\"dataframe\">\n  <thead>\n    <tr style=\"text-align: right;\">\n      <th></th>\n      <th>against_bug</th>\n      <th>against_dark</th>\n      <th>against_dragon</th>\n      <th>against_electric</th>\n      <th>against_fairy</th>\n      <th>against_fight</th>\n      <th>against_fire</th>\n      <th>against_flying</th>\n      <th>against_ghost</th>\n      <th>against_grass</th>\n      <th>against_ground</th>\n      <th>against_ice</th>\n      <th>against_normal</th>\n      <th>against_poison</th>\n      <th>against_psychic</th>\n      <th>against_rock</th>\n      <th>against_steel</th>\n      <th>against_water</th>\n      <th>attack</th>\n      <th>base_egg_steps</th>\n      <th>base_happiness</th>\n      <th>base_total</th>\n      <th>defense</th>\n      <th>experience_growth</th>\n      <th>hp</th>\n      <th>name</th>\n      <th>pokedex_number</th>\n      <th>sp_attack</th>\n      <th>sp_defense</th>\n      <th>speed</th>\n      <th>generation</th>\n      <th>is_legendary</th>\n      <th>Type1_bug</th>\n      <th>Type1_dark</th>\n      <th>Type1_dragon</th>\n      <th>Type1_electric</th>\n      <th>Type1_fairy</th>\n      <th>Type1_fighting</th>\n      <th>Type1_fire</th>\n      <th>Type1_flying</th>\n      <th>Type1_ghost</th>\n      <th>Type1_grass</th>\n      <th>Type1_ground</th>\n      <th>Type1_ice</th>\n      <th>Type1_normal</th>\n      <th>Type1_poison</th>\n      <th>Type1_psychic</th>\n      <th>Type1_rock</th>\n      <th>Type1_steel</th>\n      <th>Type1_water</th>\n      <th>Type2_None</th>\n      <th>Type2_bug</th>\n      <th>Type2_dark</th>\n      <th>Type2_dragon</th>\n      <th>Type2_electric</th>\n      <th>Type2_fairy</th>\n      <th>Type2_fighting</th>\n      <th>Type2_fire</th>\n      <th>Type2_flying</th>\n      <th>Type2_ghost</th>\n      <th>Type2_grass</th>\n      <th>Type2_ground</th>\n      <th>Type2_ice</th>\n      <th>Type2_normal</th>\n      <th>Type2_poison</th>\n      <th>Type2_psychic</th>\n      <th>Type2_rock</th>\n      <th>Type2_steel</th>\n      <th>Type2_water</th>\n      <th>Abilities_Counts</th>\n      <th>Ability__Blaze</th>\n      <th>Ability__Chlorophyll</th>\n      <th>Ability__Intimidate</th>\n      <th>Ability__Keen Eye</th>\n      <th>Ability__Levitate</th>\n      <th>Ability__Other</th>\n      <th>Ability__Overgrow</th>\n      <th>Ability__Pressure</th>\n      <th>Ability__Sturdy</th>\n      <th>Ability__Swarm</th>\n      <th>Ability__Swift Swim</th>\n      <th>Ability__Torrent</th>\n    </tr>\n  </thead>\n  <tbody>\n    <tr>\n      <th>0</th>\n      <td>1.0</td>\n      <td>1.0</td>\n      <td>1.0</td>\n      <td>0.5</td>\n      <td>0.5</td>\n      <td>0.5</td>\n      <td>2.0</td>\n      <td>2.0</td>\n      <td>1.0</td>\n      <td>0.25</td>\n      <td>1.0</td>\n      <td>2.0</td>\n      <td>1.0</td>\n      <td>1.0</td>\n      <td>2.0</td>\n      <td>1.0</td>\n      <td>1.0</td>\n      <td>0.5</td>\n      <td>49</td>\n      <td>5120</td>\n      <td>70</td>\n      <td>318</td>\n      <td>49</td>\n      <td>1059860</td>\n      <td>45</td>\n      <td>Bulbasaur</td>\n      <td>1</td>\n      <td>65</td>\n      <td>65</td>\n      <td>45</td>\n      <td>1</td>\n      <td>0</td>\n      <td>0</td>\n      <td>0</td>\n      <td>0</td>\n      <td>0</td>\n      <td>0</td>\n      <td>0</td>\n      <td>0</td>\n      <td>0</td>\n      <td>0</td>\n      <td>1</td>\n      <td>0</td>\n      <td>0</td>\n      <td>0</td>\n      <td>0</td>\n      <td>0</td>\n      <td>0</td>\n      <td>0</td>\n      <td>0</td>\n      <td>0</td>\n      <td>0</td>\n      <td>0</td>\n      <td>0</td>\n      <td>0</td>\n      <td>0</td>\n      <td>0</td>\n      <td>0</td>\n      <td>0</td>\n      <td>0</td>\n      <td>0</td>\n      <td>0</td>\n      <td>0</td>\n      <td>0</td>\n      <td>1</td>\n      <td>0</td>\n      <td>0</td>\n      <td>0</td>\n      <td>0</td>\n      <td>2</td>\n      <td>0</td>\n      <td>0</td>\n      <td>0</td>\n      <td>0</td>\n      <td>0</td>\n      <td>0</td>\n      <td>1</td>\n      <td>0</td>\n      <td>0</td>\n      <td>0</td>\n      <td>0</td>\n      <td>0</td>\n    </tr>\n    <tr>\n      <th>1</th>\n      <td>1.0</td>\n      <td>1.0</td>\n      <td>1.0</td>\n      <td>0.5</td>\n      <td>0.5</td>\n      <td>0.5</td>\n      <td>2.0</td>\n      <td>2.0</td>\n      <td>1.0</td>\n      <td>0.25</td>\n      <td>1.0</td>\n      <td>2.0</td>\n      <td>1.0</td>\n      <td>1.0</td>\n      <td>2.0</td>\n      <td>1.0</td>\n      <td>1.0</td>\n      <td>0.5</td>\n      <td>62</td>\n      <td>5120</td>\n      <td>70</td>\n      <td>405</td>\n      <td>63</td>\n      <td>1059860</td>\n      <td>60</td>\n      <td>Ivysaur</td>\n      <td>2</td>\n      <td>80</td>\n      <td>80</td>\n      <td>60</td>\n      <td>1</td>\n      <td>0</td>\n      <td>0</td>\n      <td>0</td>\n      <td>0</td>\n      <td>0</td>\n      <td>0</td>\n      <td>0</td>\n      <td>0</td>\n      <td>0</td>\n      <td>0</td>\n      <td>1</td>\n      <td>0</td>\n      <td>0</td>\n      <td>0</td>\n      <td>0</td>\n      <td>0</td>\n      <td>0</td>\n      <td>0</td>\n      <td>0</td>\n      <td>0</td>\n      <td>0</td>\n      <td>0</td>\n      <td>0</td>\n      <td>0</td>\n      <td>0</td>\n      <td>0</td>\n      <td>0</td>\n      <td>0</td>\n      <td>0</td>\n      <td>0</td>\n      <td>0</td>\n      <td>0</td>\n      <td>0</td>\n      <td>1</td>\n      <td>0</td>\n      <td>0</td>\n      <td>0</td>\n      <td>0</td>\n      <td>2</td>\n      <td>0</td>\n      <td>0</td>\n      <td>0</td>\n      <td>0</td>\n      <td>0</td>\n      <td>0</td>\n      <td>1</td>\n      <td>0</td>\n      <td>0</td>\n      <td>0</td>\n      <td>0</td>\n      <td>0</td>\n    </tr>\n    <tr>\n      <th>2</th>\n      <td>1.0</td>\n      <td>1.0</td>\n      <td>1.0</td>\n      <td>0.5</td>\n      <td>0.5</td>\n      <td>0.5</td>\n      <td>2.0</td>\n      <td>2.0</td>\n      <td>1.0</td>\n      <td>0.25</td>\n      <td>1.0</td>\n      <td>2.0</td>\n      <td>1.0</td>\n      <td>1.0</td>\n      <td>2.0</td>\n      <td>1.0</td>\n      <td>1.0</td>\n      <td>0.5</td>\n      <td>100</td>\n      <td>5120</td>\n      <td>70</td>\n      <td>625</td>\n      <td>123</td>\n      <td>1059860</td>\n      <td>80</td>\n      <td>Venusaur</td>\n      <td>3</td>\n      <td>122</td>\n      <td>120</td>\n      <td>80</td>\n      <td>1</td>\n      <td>0</td>\n      <td>0</td>\n      <td>0</td>\n      <td>0</td>\n      <td>0</td>\n      <td>0</td>\n      <td>0</td>\n      <td>0</td>\n      <td>0</td>\n      <td>0</td>\n      <td>1</td>\n      <td>0</td>\n      <td>0</td>\n      <td>0</td>\n      <td>0</td>\n      <td>0</td>\n      <td>0</td>\n      <td>0</td>\n      <td>0</td>\n      <td>0</td>\n      <td>0</td>\n      <td>0</td>\n      <td>0</td>\n      <td>0</td>\n      <td>0</td>\n      <td>0</td>\n      <td>0</td>\n      <td>0</td>\n      <td>0</td>\n      <td>0</td>\n      <td>0</td>\n      <td>0</td>\n      <td>0</td>\n      <td>1</td>\n      <td>0</td>\n      <td>0</td>\n      <td>0</td>\n      <td>0</td>\n      <td>2</td>\n      <td>0</td>\n      <td>0</td>\n      <td>0</td>\n      <td>0</td>\n      <td>0</td>\n      <td>0</td>\n      <td>1</td>\n      <td>0</td>\n      <td>0</td>\n      <td>0</td>\n      <td>0</td>\n      <td>0</td>\n    </tr>\n    <tr>\n      <th>3</th>\n      <td>0.5</td>\n      <td>1.0</td>\n      <td>1.0</td>\n      <td>1.0</td>\n      <td>0.5</td>\n      <td>1.0</td>\n      <td>0.5</td>\n      <td>1.0</td>\n      <td>1.0</td>\n      <td>0.50</td>\n      <td>2.0</td>\n      <td>0.5</td>\n      <td>1.0</td>\n      <td>1.0</td>\n      <td>1.0</td>\n      <td>2.0</td>\n      <td>0.5</td>\n      <td>2.0</td>\n      <td>52</td>\n      <td>5120</td>\n      <td>70</td>\n      <td>309</td>\n      <td>43</td>\n      <td>1059860</td>\n      <td>39</td>\n      <td>Charmander</td>\n      <td>4</td>\n      <td>60</td>\n      <td>50</td>\n      <td>65</td>\n      <td>1</td>\n      <td>0</td>\n      <td>0</td>\n      <td>0</td>\n      <td>0</td>\n      <td>0</td>\n      <td>0</td>\n      <td>0</td>\n      <td>1</td>\n      <td>0</td>\n      <td>0</td>\n      <td>0</td>\n      <td>0</td>\n      <td>0</td>\n      <td>0</td>\n      <td>0</td>\n      <td>0</td>\n      <td>0</td>\n      <td>0</td>\n      <td>0</td>\n      <td>1</td>\n      <td>0</td>\n      <td>0</td>\n      <td>0</td>\n      <td>0</td>\n      <td>0</td>\n      <td>0</td>\n      <td>0</td>\n      <td>0</td>\n      <td>0</td>\n      <td>0</td>\n      <td>0</td>\n      <td>0</td>\n      <td>0</td>\n      <td>0</td>\n      <td>0</td>\n      <td>0</td>\n      <td>0</td>\n      <td>0</td>\n      <td>2</td>\n      <td>1</td>\n      <td>0</td>\n      <td>0</td>\n      <td>0</td>\n      <td>0</td>\n      <td>0</td>\n      <td>0</td>\n      <td>0</td>\n      <td>0</td>\n      <td>0</td>\n      <td>0</td>\n      <td>0</td>\n    </tr>\n    <tr>\n      <th>4</th>\n      <td>0.5</td>\n      <td>1.0</td>\n      <td>1.0</td>\n      <td>1.0</td>\n      <td>0.5</td>\n      <td>1.0</td>\n      <td>0.5</td>\n      <td>1.0</td>\n      <td>1.0</td>\n      <td>0.50</td>\n      <td>2.0</td>\n      <td>0.5</td>\n      <td>1.0</td>\n      <td>1.0</td>\n      <td>1.0</td>\n      <td>2.0</td>\n      <td>0.5</td>\n      <td>2.0</td>\n      <td>64</td>\n      <td>5120</td>\n      <td>70</td>\n      <td>405</td>\n      <td>58</td>\n      <td>1059860</td>\n      <td>58</td>\n      <td>Charmeleon</td>\n      <td>5</td>\n      <td>80</td>\n      <td>65</td>\n      <td>80</td>\n      <td>1</td>\n      <td>0</td>\n      <td>0</td>\n      <td>0</td>\n      <td>0</td>\n      <td>0</td>\n      <td>0</td>\n      <td>0</td>\n      <td>1</td>\n      <td>0</td>\n      <td>0</td>\n      <td>0</td>\n      <td>0</td>\n      <td>0</td>\n      <td>0</td>\n      <td>0</td>\n      <td>0</td>\n      <td>0</td>\n      <td>0</td>\n      <td>0</td>\n      <td>1</td>\n      <td>0</td>\n      <td>0</td>\n      <td>0</td>\n      <td>0</td>\n      <td>0</td>\n      <td>0</td>\n      <td>0</td>\n      <td>0</td>\n      <td>0</td>\n      <td>0</td>\n      <td>0</td>\n      <td>0</td>\n      <td>0</td>\n      <td>0</td>\n      <td>0</td>\n      <td>0</td>\n      <td>0</td>\n      <td>0</td>\n      <td>2</td>\n      <td>1</td>\n      <td>0</td>\n      <td>0</td>\n      <td>0</td>\n      <td>0</td>\n      <td>0</td>\n      <td>0</td>\n      <td>0</td>\n      <td>0</td>\n      <td>0</td>\n      <td>0</td>\n      <td>0</td>\n    </tr>\n  </tbody>\n</table>\n</div>"
     },
     "execution_count": 32,
     "metadata": {},
     "output_type": "execute_result"
    }
   ],
   "source": [
    "poke = poke.drop(['capture_rate'], axis=1)\n",
    "poke.head()"
   ]
  },
  {
   "cell_type": "code",
   "execution_count": 33,
   "outputs": [
    {
     "name": "stdout",
     "output_type": "stream",
     "text": [
      "<class 'pandas.core.frame.DataFrame'>\n",
      "RangeIndex: 801 entries, 0 to 800\n",
      "Data columns (total 82 columns):\n",
      " #   Column                Non-Null Count  Dtype  \n",
      "---  ------                --------------  -----  \n",
      " 0   against_bug           801 non-null    float64\n",
      " 1   against_dark          801 non-null    float64\n",
      " 2   against_dragon        801 non-null    float64\n",
      " 3   against_electric      801 non-null    float64\n",
      " 4   against_fairy         801 non-null    float64\n",
      " 5   against_fight         801 non-null    float64\n",
      " 6   against_fire          801 non-null    float64\n",
      " 7   against_flying        801 non-null    float64\n",
      " 8   against_ghost         801 non-null    float64\n",
      " 9   against_grass         801 non-null    float64\n",
      " 10  against_ground        801 non-null    float64\n",
      " 11  against_ice           801 non-null    float64\n",
      " 12  against_normal        801 non-null    float64\n",
      " 13  against_poison        801 non-null    float64\n",
      " 14  against_psychic       801 non-null    float64\n",
      " 15  against_rock          801 non-null    float64\n",
      " 16  against_steel         801 non-null    float64\n",
      " 17  against_water         801 non-null    float64\n",
      " 18  attack                801 non-null    int64  \n",
      " 19  base_egg_steps        801 non-null    int64  \n",
      " 20  base_happiness        801 non-null    int64  \n",
      " 21  base_total            801 non-null    int64  \n",
      " 22  defense               801 non-null    int64  \n",
      " 23  experience_growth     801 non-null    int64  \n",
      " 24  hp                    801 non-null    int64  \n",
      " 25  name                  801 non-null    object \n",
      " 26  pokedex_number        801 non-null    int64  \n",
      " 27  sp_attack             801 non-null    int64  \n",
      " 28  sp_defense            801 non-null    int64  \n",
      " 29  speed                 801 non-null    int64  \n",
      " 30  generation            801 non-null    int64  \n",
      " 31  is_legendary          801 non-null    int64  \n",
      " 32  Type1_bug             801 non-null    uint8  \n",
      " 33  Type1_dark            801 non-null    uint8  \n",
      " 34  Type1_dragon          801 non-null    uint8  \n",
      " 35  Type1_electric        801 non-null    uint8  \n",
      " 36  Type1_fairy           801 non-null    uint8  \n",
      " 37  Type1_fighting        801 non-null    uint8  \n",
      " 38  Type1_fire            801 non-null    uint8  \n",
      " 39  Type1_flying          801 non-null    uint8  \n",
      " 40  Type1_ghost           801 non-null    uint8  \n",
      " 41  Type1_grass           801 non-null    uint8  \n",
      " 42  Type1_ground          801 non-null    uint8  \n",
      " 43  Type1_ice             801 non-null    uint8  \n",
      " 44  Type1_normal          801 non-null    uint8  \n",
      " 45  Type1_poison          801 non-null    uint8  \n",
      " 46  Type1_psychic         801 non-null    uint8  \n",
      " 47  Type1_rock            801 non-null    uint8  \n",
      " 48  Type1_steel           801 non-null    uint8  \n",
      " 49  Type1_water           801 non-null    uint8  \n",
      " 50  Type2_None            801 non-null    uint8  \n",
      " 51  Type2_bug             801 non-null    uint8  \n",
      " 52  Type2_dark            801 non-null    uint8  \n",
      " 53  Type2_dragon          801 non-null    uint8  \n",
      " 54  Type2_electric        801 non-null    uint8  \n",
      " 55  Type2_fairy           801 non-null    uint8  \n",
      " 56  Type2_fighting        801 non-null    uint8  \n",
      " 57  Type2_fire            801 non-null    uint8  \n",
      " 58  Type2_flying          801 non-null    uint8  \n",
      " 59  Type2_ghost           801 non-null    uint8  \n",
      " 60  Type2_grass           801 non-null    uint8  \n",
      " 61  Type2_ground          801 non-null    uint8  \n",
      " 62  Type2_ice             801 non-null    uint8  \n",
      " 63  Type2_normal          801 non-null    uint8  \n",
      " 64  Type2_poison          801 non-null    uint8  \n",
      " 65  Type2_psychic         801 non-null    uint8  \n",
      " 66  Type2_rock            801 non-null    uint8  \n",
      " 67  Type2_steel           801 non-null    uint8  \n",
      " 68  Type2_water           801 non-null    uint8  \n",
      " 69  Abilities_Counts      801 non-null    int64  \n",
      " 70  Ability__Blaze        801 non-null    uint8  \n",
      " 71  Ability__Chlorophyll  801 non-null    uint8  \n",
      " 72  Ability__Intimidate   801 non-null    uint8  \n",
      " 73  Ability__Keen Eye     801 non-null    uint8  \n",
      " 74  Ability__Levitate     801 non-null    uint8  \n",
      " 75  Ability__Other        801 non-null    uint8  \n",
      " 76  Ability__Overgrow     801 non-null    uint8  \n",
      " 77  Ability__Pressure     801 non-null    uint8  \n",
      " 78  Ability__Sturdy       801 non-null    uint8  \n",
      " 79  Ability__Swarm        801 non-null    uint8  \n",
      " 80  Ability__Swift Swim   801 non-null    uint8  \n",
      " 81  Ability__Torrent      801 non-null    uint8  \n",
      "dtypes: float64(18), int64(14), object(1), uint8(49)\n",
      "memory usage: 245.0+ KB\n"
     ]
    }
   ],
   "source": [
    "poke.info()"
   ],
   "metadata": {
    "collapsed": false,
    "ExecuteTime": {
     "start_time": "2023-09-12T13:23:36.339936Z",
     "end_time": "2023-09-12T13:23:36.486069Z"
    }
   }
  },
  {
   "cell_type": "code",
   "execution_count": 34,
   "outputs": [
    {
     "name": "stdout",
     "output_type": "stream",
     "text": [
      "<class 'pandas.core.frame.DataFrame'>\n",
      "RangeIndex: 50000 entries, 0 to 49999\n",
      "Data columns (total 3 columns):\n",
      " #   Column          Non-Null Count  Dtype\n",
      "---  ------          --------------  -----\n",
      " 0   First_pokemon   50000 non-null  int64\n",
      " 1   Second_pokemon  50000 non-null  int64\n",
      " 2   Winner          50000 non-null  int64\n",
      "dtypes: int64(3)\n",
      "memory usage: 1.1 MB\n"
     ]
    }
   ],
   "source": [
    "combats.info()"
   ],
   "metadata": {
    "collapsed": false,
    "ExecuteTime": {
     "start_time": "2023-09-12T13:23:36.353949Z",
     "end_time": "2023-09-12T13:23:36.486069Z"
    }
   }
  },
  {
   "cell_type": "code",
   "execution_count": 35,
   "outputs": [
    {
     "data": {
      "text/plain": "Index(['against_bug', 'against_dark', 'against_dragon', 'against_electric',\n       'against_fairy', 'against_fight', 'against_fire', 'against_flying',\n       'against_ghost', 'against_grass', 'against_ground', 'against_ice',\n       'against_normal', 'against_poison', 'against_psychic', 'against_rock',\n       'against_steel', 'against_water', 'attack', 'base_egg_steps',\n       'base_happiness', 'base_total', 'defense', 'experience_growth', 'hp',\n       'name', 'pokedex_number', 'sp_attack', 'sp_defense', 'speed',\n       'generation', 'is_legendary', 'Type1_bug', 'Type1_dark', 'Type1_dragon',\n       'Type1_electric', 'Type1_fairy', 'Type1_fighting', 'Type1_fire',\n       'Type1_flying', 'Type1_ghost', 'Type1_grass', 'Type1_ground',\n       'Type1_ice', 'Type1_normal', 'Type1_poison', 'Type1_psychic',\n       'Type1_rock', 'Type1_steel', 'Type1_water', 'Type2_None', 'Type2_bug',\n       'Type2_dark', 'Type2_dragon', 'Type2_electric', 'Type2_fairy',\n       'Type2_fighting', 'Type2_fire', 'Type2_flying', 'Type2_ghost',\n       'Type2_grass', 'Type2_ground', 'Type2_ice', 'Type2_normal',\n       'Type2_poison', 'Type2_psychic', 'Type2_rock', 'Type2_steel',\n       'Type2_water', 'Abilities_Counts', 'Ability__Blaze',\n       'Ability__Chlorophyll', 'Ability__Intimidate', 'Ability__Keen Eye',\n       'Ability__Levitate', 'Ability__Other', 'Ability__Overgrow',\n       'Ability__Pressure', 'Ability__Sturdy', 'Ability__Swarm',\n       'Ability__Swift Swim', 'Ability__Torrent'],\n      dtype='object')"
     },
     "execution_count": 35,
     "metadata": {},
     "output_type": "execute_result"
    }
   ],
   "source": [
    "poke.columns"
   ],
   "metadata": {
    "collapsed": false,
    "ExecuteTime": {
     "start_time": "2023-09-12T13:23:36.370964Z",
     "end_time": "2023-09-12T13:23:36.518098Z"
    }
   }
  },
  {
   "cell_type": "code",
   "execution_count": 36,
   "outputs": [],
   "source": [
    "poke.to_csv('Data/ML_PokeData.csv', index=False)"
   ],
   "metadata": {
    "collapsed": false,
    "ExecuteTime": {
     "start_time": "2023-09-12T13:23:36.385978Z",
     "end_time": "2023-09-12T13:23:36.518098Z"
    }
   }
  },
  {
   "cell_type": "code",
   "execution_count": 37,
   "id": "1c7fb964",
   "metadata": {},
   "outputs": [
    {
     "ename": "KeyError",
     "evalue": "\"['abilities'] not found in axis\"",
     "output_type": "error",
     "traceback": [
      "\u001B[1;31m---------------------------------------------------------------------------\u001B[0m",
      "\u001B[1;31mKeyError\u001B[0m                                  Traceback (most recent call last)",
      "Cell \u001B[1;32mIn[37], line 1\u001B[0m\n\u001B[1;32m----> 1\u001B[0m poke \u001B[38;5;241m=\u001B[39m \u001B[43mpoke\u001B[49m\u001B[38;5;241;43m.\u001B[39;49m\u001B[43mdrop\u001B[49m\u001B[43m(\u001B[49m\u001B[43m[\u001B[49m\u001B[38;5;124;43m'\u001B[39;49m\u001B[38;5;124;43mabilities\u001B[39;49m\u001B[38;5;124;43m'\u001B[39;49m\u001B[43m]\u001B[49m\u001B[43m,\u001B[49m\u001B[43m \u001B[49m\u001B[43maxis\u001B[49m\u001B[38;5;241;43m=\u001B[39;49m\u001B[38;5;241;43m1\u001B[39;49m\u001B[43m)\u001B[49m\n\u001B[0;32m      2\u001B[0m poke \u001B[38;5;241m=\u001B[39m poke\u001B[38;5;241m.\u001B[39mdrop([\u001B[38;5;124m'\u001B[39m\u001B[38;5;124mexperience_growth\u001B[39m\u001B[38;5;124m'\u001B[39m], axis\u001B[38;5;241m=\u001B[39m\u001B[38;5;241m1\u001B[39m)\n\u001B[0;32m      3\u001B[0m poke \u001B[38;5;241m=\u001B[39m poke\u001B[38;5;241m.\u001B[39mdrop([\u001B[38;5;124m'\u001B[39m\u001B[38;5;124mcapture_rate\u001B[39m\u001B[38;5;124m'\u001B[39m], axis\u001B[38;5;241m=\u001B[39m\u001B[38;5;241m1\u001B[39m)\n",
      "File \u001B[1;32m~\\anaconda3\\lib\\site-packages\\pandas\\util\\_decorators.py:331\u001B[0m, in \u001B[0;36mdeprecate_nonkeyword_arguments.<locals>.decorate.<locals>.wrapper\u001B[1;34m(*args, **kwargs)\u001B[0m\n\u001B[0;32m    325\u001B[0m \u001B[38;5;28;01mif\u001B[39;00m \u001B[38;5;28mlen\u001B[39m(args) \u001B[38;5;241m>\u001B[39m num_allow_args:\n\u001B[0;32m    326\u001B[0m     warnings\u001B[38;5;241m.\u001B[39mwarn(\n\u001B[0;32m    327\u001B[0m         msg\u001B[38;5;241m.\u001B[39mformat(arguments\u001B[38;5;241m=\u001B[39m_format_argument_list(allow_args)),\n\u001B[0;32m    328\u001B[0m         \u001B[38;5;167;01mFutureWarning\u001B[39;00m,\n\u001B[0;32m    329\u001B[0m         stacklevel\u001B[38;5;241m=\u001B[39mfind_stack_level(),\n\u001B[0;32m    330\u001B[0m     )\n\u001B[1;32m--> 331\u001B[0m \u001B[38;5;28;01mreturn\u001B[39;00m func(\u001B[38;5;241m*\u001B[39margs, \u001B[38;5;241m*\u001B[39m\u001B[38;5;241m*\u001B[39mkwargs)\n",
      "File \u001B[1;32m~\\anaconda3\\lib\\site-packages\\pandas\\core\\frame.py:5399\u001B[0m, in \u001B[0;36mDataFrame.drop\u001B[1;34m(self, labels, axis, index, columns, level, inplace, errors)\u001B[0m\n\u001B[0;32m   5251\u001B[0m \u001B[38;5;129m@deprecate_nonkeyword_arguments\u001B[39m(version\u001B[38;5;241m=\u001B[39m\u001B[38;5;28;01mNone\u001B[39;00m, allowed_args\u001B[38;5;241m=\u001B[39m[\u001B[38;5;124m\"\u001B[39m\u001B[38;5;124mself\u001B[39m\u001B[38;5;124m\"\u001B[39m, \u001B[38;5;124m\"\u001B[39m\u001B[38;5;124mlabels\u001B[39m\u001B[38;5;124m\"\u001B[39m])\n\u001B[0;32m   5252\u001B[0m \u001B[38;5;28;01mdef\u001B[39;00m \u001B[38;5;21mdrop\u001B[39m(  \u001B[38;5;66;03m# type: ignore[override]\u001B[39;00m\n\u001B[0;32m   5253\u001B[0m     \u001B[38;5;28mself\u001B[39m,\n\u001B[1;32m   (...)\u001B[0m\n\u001B[0;32m   5260\u001B[0m     errors: IgnoreRaise \u001B[38;5;241m=\u001B[39m \u001B[38;5;124m\"\u001B[39m\u001B[38;5;124mraise\u001B[39m\u001B[38;5;124m\"\u001B[39m,\n\u001B[0;32m   5261\u001B[0m ) \u001B[38;5;241m-\u001B[39m\u001B[38;5;241m>\u001B[39m DataFrame \u001B[38;5;241m|\u001B[39m \u001B[38;5;28;01mNone\u001B[39;00m:\n\u001B[0;32m   5262\u001B[0m \u001B[38;5;250m    \u001B[39m\u001B[38;5;124;03m\"\"\"\u001B[39;00m\n\u001B[0;32m   5263\u001B[0m \u001B[38;5;124;03m    Drop specified labels from rows or columns.\u001B[39;00m\n\u001B[0;32m   5264\u001B[0m \n\u001B[1;32m   (...)\u001B[0m\n\u001B[0;32m   5397\u001B[0m \u001B[38;5;124;03m            weight  1.0     0.8\u001B[39;00m\n\u001B[0;32m   5398\u001B[0m \u001B[38;5;124;03m    \"\"\"\u001B[39;00m\n\u001B[1;32m-> 5399\u001B[0m     \u001B[38;5;28;01mreturn\u001B[39;00m \u001B[38;5;28;43msuper\u001B[39;49m\u001B[43m(\u001B[49m\u001B[43m)\u001B[49m\u001B[38;5;241;43m.\u001B[39;49m\u001B[43mdrop\u001B[49m\u001B[43m(\u001B[49m\n\u001B[0;32m   5400\u001B[0m \u001B[43m        \u001B[49m\u001B[43mlabels\u001B[49m\u001B[38;5;241;43m=\u001B[39;49m\u001B[43mlabels\u001B[49m\u001B[43m,\u001B[49m\n\u001B[0;32m   5401\u001B[0m \u001B[43m        \u001B[49m\u001B[43maxis\u001B[49m\u001B[38;5;241;43m=\u001B[39;49m\u001B[43maxis\u001B[49m\u001B[43m,\u001B[49m\n\u001B[0;32m   5402\u001B[0m \u001B[43m        \u001B[49m\u001B[43mindex\u001B[49m\u001B[38;5;241;43m=\u001B[39;49m\u001B[43mindex\u001B[49m\u001B[43m,\u001B[49m\n\u001B[0;32m   5403\u001B[0m \u001B[43m        \u001B[49m\u001B[43mcolumns\u001B[49m\u001B[38;5;241;43m=\u001B[39;49m\u001B[43mcolumns\u001B[49m\u001B[43m,\u001B[49m\n\u001B[0;32m   5404\u001B[0m \u001B[43m        \u001B[49m\u001B[43mlevel\u001B[49m\u001B[38;5;241;43m=\u001B[39;49m\u001B[43mlevel\u001B[49m\u001B[43m,\u001B[49m\n\u001B[0;32m   5405\u001B[0m \u001B[43m        \u001B[49m\u001B[43minplace\u001B[49m\u001B[38;5;241;43m=\u001B[39;49m\u001B[43minplace\u001B[49m\u001B[43m,\u001B[49m\n\u001B[0;32m   5406\u001B[0m \u001B[43m        \u001B[49m\u001B[43merrors\u001B[49m\u001B[38;5;241;43m=\u001B[39;49m\u001B[43merrors\u001B[49m\u001B[43m,\u001B[49m\n\u001B[0;32m   5407\u001B[0m \u001B[43m    \u001B[49m\u001B[43m)\u001B[49m\n",
      "File \u001B[1;32m~\\anaconda3\\lib\\site-packages\\pandas\\util\\_decorators.py:331\u001B[0m, in \u001B[0;36mdeprecate_nonkeyword_arguments.<locals>.decorate.<locals>.wrapper\u001B[1;34m(*args, **kwargs)\u001B[0m\n\u001B[0;32m    325\u001B[0m \u001B[38;5;28;01mif\u001B[39;00m \u001B[38;5;28mlen\u001B[39m(args) \u001B[38;5;241m>\u001B[39m num_allow_args:\n\u001B[0;32m    326\u001B[0m     warnings\u001B[38;5;241m.\u001B[39mwarn(\n\u001B[0;32m    327\u001B[0m         msg\u001B[38;5;241m.\u001B[39mformat(arguments\u001B[38;5;241m=\u001B[39m_format_argument_list(allow_args)),\n\u001B[0;32m    328\u001B[0m         \u001B[38;5;167;01mFutureWarning\u001B[39;00m,\n\u001B[0;32m    329\u001B[0m         stacklevel\u001B[38;5;241m=\u001B[39mfind_stack_level(),\n\u001B[0;32m    330\u001B[0m     )\n\u001B[1;32m--> 331\u001B[0m \u001B[38;5;28;01mreturn\u001B[39;00m func(\u001B[38;5;241m*\u001B[39margs, \u001B[38;5;241m*\u001B[39m\u001B[38;5;241m*\u001B[39mkwargs)\n",
      "File \u001B[1;32m~\\anaconda3\\lib\\site-packages\\pandas\\core\\generic.py:4505\u001B[0m, in \u001B[0;36mNDFrame.drop\u001B[1;34m(self, labels, axis, index, columns, level, inplace, errors)\u001B[0m\n\u001B[0;32m   4503\u001B[0m \u001B[38;5;28;01mfor\u001B[39;00m axis, labels \u001B[38;5;129;01min\u001B[39;00m axes\u001B[38;5;241m.\u001B[39mitems():\n\u001B[0;32m   4504\u001B[0m     \u001B[38;5;28;01mif\u001B[39;00m labels \u001B[38;5;129;01mis\u001B[39;00m \u001B[38;5;129;01mnot\u001B[39;00m \u001B[38;5;28;01mNone\u001B[39;00m:\n\u001B[1;32m-> 4505\u001B[0m         obj \u001B[38;5;241m=\u001B[39m \u001B[43mobj\u001B[49m\u001B[38;5;241;43m.\u001B[39;49m\u001B[43m_drop_axis\u001B[49m\u001B[43m(\u001B[49m\u001B[43mlabels\u001B[49m\u001B[43m,\u001B[49m\u001B[43m \u001B[49m\u001B[43maxis\u001B[49m\u001B[43m,\u001B[49m\u001B[43m \u001B[49m\u001B[43mlevel\u001B[49m\u001B[38;5;241;43m=\u001B[39;49m\u001B[43mlevel\u001B[49m\u001B[43m,\u001B[49m\u001B[43m \u001B[49m\u001B[43merrors\u001B[49m\u001B[38;5;241;43m=\u001B[39;49m\u001B[43merrors\u001B[49m\u001B[43m)\u001B[49m\n\u001B[0;32m   4507\u001B[0m \u001B[38;5;28;01mif\u001B[39;00m inplace:\n\u001B[0;32m   4508\u001B[0m     \u001B[38;5;28mself\u001B[39m\u001B[38;5;241m.\u001B[39m_update_inplace(obj)\n",
      "File \u001B[1;32m~\\anaconda3\\lib\\site-packages\\pandas\\core\\generic.py:4546\u001B[0m, in \u001B[0;36mNDFrame._drop_axis\u001B[1;34m(self, labels, axis, level, errors, only_slice)\u001B[0m\n\u001B[0;32m   4544\u001B[0m         new_axis \u001B[38;5;241m=\u001B[39m axis\u001B[38;5;241m.\u001B[39mdrop(labels, level\u001B[38;5;241m=\u001B[39mlevel, errors\u001B[38;5;241m=\u001B[39merrors)\n\u001B[0;32m   4545\u001B[0m     \u001B[38;5;28;01melse\u001B[39;00m:\n\u001B[1;32m-> 4546\u001B[0m         new_axis \u001B[38;5;241m=\u001B[39m \u001B[43maxis\u001B[49m\u001B[38;5;241;43m.\u001B[39;49m\u001B[43mdrop\u001B[49m\u001B[43m(\u001B[49m\u001B[43mlabels\u001B[49m\u001B[43m,\u001B[49m\u001B[43m \u001B[49m\u001B[43merrors\u001B[49m\u001B[38;5;241;43m=\u001B[39;49m\u001B[43merrors\u001B[49m\u001B[43m)\u001B[49m\n\u001B[0;32m   4547\u001B[0m     indexer \u001B[38;5;241m=\u001B[39m axis\u001B[38;5;241m.\u001B[39mget_indexer(new_axis)\n\u001B[0;32m   4549\u001B[0m \u001B[38;5;66;03m# Case for non-unique axis\u001B[39;00m\n\u001B[0;32m   4550\u001B[0m \u001B[38;5;28;01melse\u001B[39;00m:\n",
      "File \u001B[1;32m~\\anaconda3\\lib\\site-packages\\pandas\\core\\indexes\\base.py:6934\u001B[0m, in \u001B[0;36mIndex.drop\u001B[1;34m(self, labels, errors)\u001B[0m\n\u001B[0;32m   6932\u001B[0m \u001B[38;5;28;01mif\u001B[39;00m mask\u001B[38;5;241m.\u001B[39many():\n\u001B[0;32m   6933\u001B[0m     \u001B[38;5;28;01mif\u001B[39;00m errors \u001B[38;5;241m!=\u001B[39m \u001B[38;5;124m\"\u001B[39m\u001B[38;5;124mignore\u001B[39m\u001B[38;5;124m\"\u001B[39m:\n\u001B[1;32m-> 6934\u001B[0m         \u001B[38;5;28;01mraise\u001B[39;00m \u001B[38;5;167;01mKeyError\u001B[39;00m(\u001B[38;5;124mf\u001B[39m\u001B[38;5;124m\"\u001B[39m\u001B[38;5;132;01m{\u001B[39;00m\u001B[38;5;28mlist\u001B[39m(labels[mask])\u001B[38;5;132;01m}\u001B[39;00m\u001B[38;5;124m not found in axis\u001B[39m\u001B[38;5;124m\"\u001B[39m)\n\u001B[0;32m   6935\u001B[0m     indexer \u001B[38;5;241m=\u001B[39m indexer[\u001B[38;5;241m~\u001B[39mmask]\n\u001B[0;32m   6936\u001B[0m \u001B[38;5;28;01mreturn\u001B[39;00m \u001B[38;5;28mself\u001B[39m\u001B[38;5;241m.\u001B[39mdelete(indexer)\n",
      "\u001B[1;31mKeyError\u001B[0m: \"['abilities'] not found in axis\""
     ]
    }
   ],
   "source": [
    "poke = poke.drop(['abilities'], axis=1)\n",
    "poke = poke.drop(['experience_growth'], axis=1)\n",
    "poke = poke.drop(['capture_rate'], axis=1)\n",
    "poke = poke.drop(['base_happiness'], axis=1)\n",
    "poke = poke.drop(['base_egg_steps'], axis=1)"
   ]
  },
  {
   "cell_type": "code",
   "execution_count": null,
   "id": "ea24d892",
   "metadata": {},
   "outputs": [],
   "source": [
    "poke.head()"
   ]
  },
  {
   "cell_type": "code",
   "execution_count": null,
   "id": "ba987fd5",
   "metadata": {},
   "outputs": [],
   "source": [
    "poke.columns"
   ]
  },
  {
   "cell_type": "code",
   "execution_count": null,
   "id": "9e90390d",
   "metadata": {},
   "outputs": [],
   "source": [
    "columns = ['against_bug', 'against_dark', 'against_dragon', 'against_electric',\n",
    "       'against_fairy', 'against_fight', 'against_fire', 'against_flying',\n",
    "       'against_ghost', 'against_grass', 'against_ground', 'against_ice',\n",
    "       'against_normal', 'against_poison', 'against_psychic', 'against_rock',\n",
    "       'against_steel', 'against_water', 'attack', 'base_total',\n",
    "       'classfication', 'defense', 'hp', 'name', 'pokedex_number', 'sp_attack',\n",
    "       'sp_defense', 'speed', 'type1', 'type2', 'Type1_bug', 'Type1_dark',\n",
    "       'Type1_dragon', 'Type1_electric', 'Type1_fairy', 'Type1_fighting',\n",
    "       'Type1_fire', 'Type1_flying', 'Type1_ghost', 'Type1_grass',\n",
    "       'Type1_ground', 'Type1_ice', 'Type1_normal', 'Type1_poison',\n",
    "       'Type1_psychic', 'Type1_rock', 'Type1_steel', 'Type1_water',\n",
    "       'Type2_None', 'Type2_bug', 'Type2_dark', 'Type2_dragon',\n",
    "       'Type2_electric', 'Type2_fairy', 'Type2_fighting', 'Type2_fire',\n",
    "       'Type2_flying', 'Type2_ghost', 'Type2_grass', 'Type2_ground',\n",
    "       'Type2_ice', 'Type2_normal', 'Type2_poison', 'Type2_psychic',\n",
    "       'Type2_rock', 'Type2_steel', 'Type2_water','Abilities_Counts',\n",
    "       'Abilities_Main']\n",
    "\n",
    "# Specify the columns you want first\n",
    "first_cols = ['name', 'pokedex_number']\n",
    "\n",
    "# Get the remaining columns and exclude the ones that are already in first_cols\n",
    "last_cols = [col for col in columns if col not in first_cols]\n",
    "\n",
    "# Combine the columns and apply the new ordering\n",
    "poke = poke[first_cols + last_cols]"
   ]
  },
  {
   "cell_type": "code",
   "execution_count": null,
   "id": "818a65a0",
   "metadata": {},
   "outputs": [],
   "source": [
    "poke.head(20)"
   ]
  },
  {
   "cell_type": "code",
   "execution_count": null,
   "id": "27cb7317",
   "metadata": {},
   "outputs": [],
   "source": [
    "poke.info()"
   ]
  },
  {
   "cell_type": "code",
   "execution_count": null,
   "id": "0a99d5e3",
   "metadata": {},
   "outputs": [],
   "source": [
    "poke.classfication.nunique()"
   ]
  },
  {
   "cell_type": "code",
   "execution_count": null,
   "id": "5d518a4e",
   "metadata": {},
   "outputs": [],
   "source": []
  },
  {
   "cell_type": "code",
   "execution_count": null,
   "id": "94352ab6",
   "metadata": {},
   "outputs": [],
   "source": []
  },
  {
   "cell_type": "code",
   "execution_count": null,
   "id": "873b2088",
   "metadata": {},
   "outputs": [],
   "source": []
  },
  {
   "cell_type": "code",
   "execution_count": null,
   "id": "f7e4e6c1",
   "metadata": {},
   "outputs": [],
   "source": []
  },
  {
   "cell_type": "code",
   "execution_count": null,
   "id": "c0ef48be",
   "metadata": {},
   "outputs": [],
   "source": []
  },
  {
   "cell_type": "code",
   "execution_count": null,
   "id": "b2a816e2",
   "metadata": {},
   "outputs": [],
   "source": []
  },
  {
   "cell_type": "code",
   "execution_count": null,
   "id": "e192656d",
   "metadata": {},
   "outputs": [],
   "source": []
  },
  {
   "cell_type": "code",
   "execution_count": null,
   "id": "9e19849b",
   "metadata": {},
   "outputs": [],
   "source": []
  },
  {
   "cell_type": "code",
   "execution_count": null,
   "id": "4e09cd7f",
   "metadata": {},
   "outputs": [],
   "source": []
  }
 ],
 "metadata": {
  "kernelspec": {
   "display_name": "Python 3 (ipykernel)",
   "language": "python",
   "name": "python3"
  },
  "language_info": {
   "codemirror_mode": {
    "name": "ipython",
    "version": 3
   },
   "file_extension": ".py",
   "mimetype": "text/x-python",
   "name": "python",
   "nbconvert_exporter": "python",
   "pygments_lexer": "ipython3",
   "version": "3.10.9"
  }
 },
 "nbformat": 4,
 "nbformat_minor": 5
}
