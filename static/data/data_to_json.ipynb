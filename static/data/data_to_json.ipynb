{
 "cells": [
  {
   "cell_type": "code",
   "execution_count": 1,
   "metadata": {
    "collapsed": true,
    "ExecuteTime": {
     "start_time": "2023-09-14T19:05:41.210902Z",
     "end_time": "2023-09-14T19:05:41.228919Z"
    }
   },
   "outputs": [],
   "source": [
    "import pandas as pd\n",
    "import numpy as np"
   ]
  },
  {
   "cell_type": "code",
   "execution_count": 2,
   "outputs": [],
   "source": [
    "df = pd.read_csv('../../Data/ML_PokeData.csv')"
   ],
   "metadata": {
    "collapsed": false,
    "ExecuteTime": {
     "start_time": "2023-09-14T19:07:22.890347Z",
     "end_time": "2023-09-14T19:07:22.917372Z"
    }
   }
  },
  {
   "cell_type": "code",
   "execution_count": 4,
   "outputs": [
    {
     "data": {
      "text/plain": "Index(['against_bug', 'against_dark', 'against_dragon', 'against_electric',\n       'against_fairy', 'against_fight', 'against_fire', 'against_flying',\n       'against_ghost', 'against_grass', 'against_ground', 'against_ice',\n       'against_normal', 'against_poison', 'against_psychic', 'against_rock',\n       'against_steel', 'against_water', 'attack', 'base_egg_steps',\n       'base_happiness', 'base_total', 'defense', 'experience_growth', 'hp',\n       'name', 'pokedex_number', 'sp_attack', 'sp_defense', 'speed',\n       'generation', 'is_legendary', 'Type1_bug', 'Type1_dark', 'Type1_dragon',\n       'Type1_electric', 'Type1_fairy', 'Type1_fighting', 'Type1_fire',\n       'Type1_flying', 'Type1_ghost', 'Type1_grass', 'Type1_ground',\n       'Type1_ice', 'Type1_normal', 'Type1_poison', 'Type1_psychic',\n       'Type1_rock', 'Type1_steel', 'Type1_water', 'Type2_None', 'Type2_bug',\n       'Type2_dark', 'Type2_dragon', 'Type2_electric', 'Type2_fairy',\n       'Type2_fighting', 'Type2_fire', 'Type2_flying', 'Type2_ghost',\n       'Type2_grass', 'Type2_ground', 'Type2_ice', 'Type2_normal',\n       'Type2_poison', 'Type2_psychic', 'Type2_rock', 'Type2_steel',\n       'Type2_water', 'Abilities_Counts', 'Ability__Blaze',\n       'Ability__Chlorophyll', 'Ability__Intimidate', 'Ability__Keen Eye',\n       'Ability__Levitate', 'Ability__Other', 'Ability__Overgrow',\n       'Ability__Pressure', 'Ability__Sturdy', 'Ability__Swarm',\n       'Ability__Swift Swim', 'Ability__Torrent'],\n      dtype='object')"
     },
     "execution_count": 4,
     "metadata": {},
     "output_type": "execute_result"
    }
   ],
   "source": [
    "df.columns"
   ],
   "metadata": {
    "collapsed": false,
    "ExecuteTime": {
     "start_time": "2023-09-14T19:11:03.668914Z",
     "end_time": "2023-09-14T19:11:03.683928Z"
    }
   }
  },
  {
   "cell_type": "code",
   "execution_count": 5,
   "outputs": [],
   "source": [
    "df.to_json(\"pokemon_datatable.json\", orient='records')"
   ],
   "metadata": {
    "collapsed": false,
    "ExecuteTime": {
     "start_time": "2023-09-14T19:23:00.074704Z",
     "end_time": "2023-09-14T19:23:00.101448Z"
    }
   }
  },
  {
   "cell_type": "code",
   "execution_count": null,
   "outputs": [],
   "source": [],
   "metadata": {
    "collapsed": false
   }
  }
 ],
 "metadata": {
  "kernelspec": {
   "display_name": "Python 3",
   "language": "python",
   "name": "python3"
  },
  "language_info": {
   "codemirror_mode": {
    "name": "ipython",
    "version": 2
   },
   "file_extension": ".py",
   "mimetype": "text/x-python",
   "name": "python",
   "nbconvert_exporter": "python",
   "pygments_lexer": "ipython2",
   "version": "2.7.6"
  }
 },
 "nbformat": 4,
 "nbformat_minor": 0
}
