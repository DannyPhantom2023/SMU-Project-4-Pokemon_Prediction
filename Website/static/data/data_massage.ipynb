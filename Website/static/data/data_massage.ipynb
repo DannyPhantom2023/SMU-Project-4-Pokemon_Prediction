{
 "cells": [
  {
   "cell_type": "code",
   "execution_count": 21,
   "metadata": {
    "collapsed": true,
    "ExecuteTime": {
     "start_time": "2023-09-14T20:23:39.916446Z",
     "end_time": "2023-09-14T20:23:39.935463Z"
    }
   },
   "outputs": [],
   "source": [
    "import pandas as pd\n",
    "import pickle"
   ]
  },
  {
   "cell_type": "code",
   "execution_count": 2,
   "outputs": [],
   "source": [
    "poke1 = 236\n",
    "poke2 = 545"
   ],
   "metadata": {
    "collapsed": false,
    "ExecuteTime": {
     "start_time": "2023-09-14T20:05:24.607872Z",
     "end_time": "2023-09-14T20:05:24.640406Z"
    }
   }
  },
  {
   "cell_type": "code",
   "execution_count": 22,
   "outputs": [],
   "source": [
    "def makePredictions(poke1,poke2):\n",
    "    df = pd.read_json('pokemon_datatable.json')\n",
    "    cols = ['base_total', 'against_poison', 'defense', 'against_grass', 'against_ice', 'Ability__Chlorophyll', 'against_fairy', 'Ability__Swift Swim', 'against_ground', 'attack', 'against_dark', 'Ability__Overgrow', 'Ability__Levitate', 'against_water', 'against_rock', 'against_flying', 'hp', 'speed', 'Ability__Pressure', 'against_fight', 'Ability__Other', 'Ability__Torrent', 'against_fire', 'Abilities_Counts', 'against_psychic', 'against_bug', 'Ability__Swarm', 'against_ghost', 'against_steel', 'sp_attack', 'against_dragon', 'Ability__Keen Eye', 'Ability__Sturdy', 'against_electric', 'Ability__Blaze', 'Ability__Intimidate', 'sp_defense', 'against_normal']\n",
    "    poke1_data = df.loc[df.pokedex_number == poke1, cols].reset_index(drop=True)\n",
    "    poke2_data = df.loc[df.pokedex_number == poke2, cols].reset_index(drop=True)\n",
    "    inp = pd.merge(poke1_data,poke2_data,left_index=True, right_index=True,suffixes=['_1','_2'])\n",
    "    filename = '../../pokemon-battle-model.sav'\n",
    "    xgb_load = pickle.load(open(filename, 'rb'))\n",
    "    features = xgb_load.get_booster().feature_names\n",
    "    inp = inp.loc[:,features]\n",
    "    rtn = xgb_load.predict_proba(inp)\n",
    "    return(rtn)"
   ],
   "metadata": {
    "collapsed": false,
    "ExecuteTime": {
     "start_time": "2023-09-14T20:25:25.590879Z",
     "end_time": "2023-09-14T20:25:25.604892Z"
    }
   }
  },
  {
   "cell_type": "code",
   "execution_count": 25,
   "outputs": [
    {
     "data": {
      "text/plain": "array([[0.29543698, 0.704563  ]], dtype=float32)"
     },
     "execution_count": 25,
     "metadata": {},
     "output_type": "execute_result"
    }
   ],
   "source": [
    "makePredictions(99,264)"
   ],
   "metadata": {
    "collapsed": false,
    "ExecuteTime": {
     "start_time": "2023-09-14T20:26:19.457184Z",
     "end_time": "2023-09-14T20:26:19.522242Z"
    }
   }
  },
  {
   "cell_type": "code",
   "execution_count": null,
   "outputs": [],
   "source": [],
   "metadata": {
    "collapsed": false
   }
  },
  {
   "cell_type": "code",
   "execution_count": null,
   "outputs": [],
   "source": [],
   "metadata": {
    "collapsed": false
   }
  },
  {
   "cell_type": "code",
   "execution_count": null,
   "outputs": [],
   "source": [],
   "metadata": {
    "collapsed": false
   }
  }
 ],
 "metadata": {
  "kernelspec": {
   "display_name": "Python 3",
   "language": "python",
   "name": "python3"
  },
  "language_info": {
   "codemirror_mode": {
    "name": "ipython",
    "version": 2
   },
   "file_extension": ".py",
   "mimetype": "text/x-python",
   "name": "python",
   "nbconvert_exporter": "python",
   "pygments_lexer": "ipython2",
   "version": "2.7.6"
  }
 },
 "nbformat": 4,
 "nbformat_minor": 0
}
